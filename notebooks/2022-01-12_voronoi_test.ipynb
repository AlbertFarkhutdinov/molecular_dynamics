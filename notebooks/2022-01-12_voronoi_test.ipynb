{
 "cells": [
  {
   "cell_type": "code",
   "execution_count": 1,
   "id": "6880e659",
   "metadata": {
    "ExecuteTime": {
     "end_time": "2022-01-12T11:35:07.327531Z",
     "start_time": "2022-01-12T11:35:07.303695Z"
    }
   },
   "outputs": [],
   "source": [
    "import os\n",
    "import sys\n",
    "\n",
    "sys.path.append(os.path.dirname(sys.path[0]))"
   ]
  },
  {
   "cell_type": "code",
   "execution_count": 2,
   "id": "d6352594",
   "metadata": {
    "ExecuteTime": {
     "end_time": "2022-01-12T11:35:09.104303Z",
     "start_time": "2022-01-12T11:35:07.330705Z"
    }
   },
   "outputs": [],
   "source": [
    "import matplotlib.pyplot as plt\n",
    "import numpy as np\n",
    "import pandas as pd"
   ]
  },
  {
   "cell_type": "code",
   "execution_count": 3,
   "id": "17e08be7",
   "metadata": {
    "ExecuteTime": {
     "end_time": "2022-01-12T11:35:09.537644Z",
     "start_time": "2022-01-12T11:35:09.106803Z"
    }
   },
   "outputs": [],
   "source": [
    "import scripts.constants as con\n",
    "from scripts.helpers import get_unique_frame\n",
    "from scripts.properties.ovito_procedures import OvitoProcessor"
   ]
  },
  {
   "cell_type": "code",
   "execution_count": 4,
   "id": "443e4029",
   "metadata": {
    "ExecuteTime": {
     "end_time": "2022-01-12T11:35:09.553632Z",
     "start_time": "2022-01-12T11:35:09.540647Z"
    }
   },
   "outputs": [
    {
     "data": {
      "text/plain": [
       "'C:\\\\albert\\\\git_reps\\\\molecular_dynamics\\\\data\\\\2021-09-24_prepared_1.3_normal'"
      ]
     },
     "execution_count": 4,
     "metadata": {},
     "output_type": "execute_result"
    }
   ],
   "source": [
    "CURRENT_DATA_NORMAL = '2021-09-24_prepared_1.3_normal'\n",
    "PLOT_FILENAME_POSTFIX_NORMAL = 'prepared_1.3_normal'\n",
    "\n",
    "PATH_TO_CURRENT_DATA_NORMAL = os.path.join(con.PATH_TO_DATA, CURRENT_DATA_NORMAL)\n",
    "PATH_TO_CURRENT_DATA_NORMAL"
   ]
  },
  {
   "cell_type": "code",
   "execution_count": 5,
   "id": "d98e298f",
   "metadata": {
    "ExecuteTime": {
     "end_time": "2022-01-12T11:35:09.616045Z",
     "start_time": "2022-01-12T11:35:09.555315Z"
    }
   },
   "outputs": [
    {
     "data": {
      "text/plain": [
       "((2464, 1372, 3), (2464, 612))"
      ]
     },
     "execution_count": 5,
     "metadata": {},
     "output_type": "execute_result"
    }
   ],
   "source": [
    "targets = np.load(os.path.join(PATH_TO_CURRENT_DATA_NORMAL, 'targets_pbc.npy'))\n",
    "samples = np.load(os.path.join(PATH_TO_CURRENT_DATA_NORMAL, 'samples.npy'))\n",
    "targets.shape, samples.shape"
   ]
  },
  {
   "cell_type": "code",
   "execution_count": 6,
   "id": "dbc8a1dd",
   "metadata": {
    "ExecuteTime": {
     "end_time": "2022-01-12T11:35:09.631241Z",
     "start_time": "2022-01-12T11:35:09.618044Z"
    }
   },
   "outputs": [],
   "source": [
    "i = 1\n",
    "pos_1 = targets[i]\n",
    "pos_2 = targets[-i]\n",
    "rdf_1 = samples[i]\n",
    "rdf_2 = samples[-i]"
   ]
  },
  {
   "cell_type": "code",
   "execution_count": 7,
   "id": "48dc1053",
   "metadata": {
    "ExecuteTime": {
     "end_time": "2022-01-12T11:35:09.647092Z",
     "start_time": "2022-01-12T11:35:09.633671Z"
    }
   },
   "outputs": [
    {
     "data": {
      "text/plain": [
       "array([[ 5.13129307, -4.11261401, -2.90448311],\n",
       "       [ 0.12439733, -0.22185111,  2.53740871],\n",
       "       [ 2.1679544 , -5.70129032,  2.38897207],\n",
       "       ...,\n",
       "       [-0.82196022,  4.37994546, -5.49183294],\n",
       "       [-0.38693089,  0.3554578 , -4.37084224],\n",
       "       [-0.40852528,  2.44431159, -4.61102135]])"
      ]
     },
     "execution_count": 7,
     "metadata": {},
     "output_type": "execute_result"
    }
   ],
   "source": [
    "pos_1"
   ]
  },
  {
   "cell_type": "code",
   "execution_count": 8,
   "id": "993d806a",
   "metadata": {
    "ExecuteTime": {
     "end_time": "2022-01-12T11:35:09.663006Z",
     "start_time": "2022-01-12T11:35:09.648880Z"
    }
   },
   "outputs": [
    {
     "data": {
      "text/plain": [
       "array([[ 5.77046259, -5.24812766, -2.35330869],\n",
       "       [ 0.26348787,  0.23353462,  5.26542035],\n",
       "       [ 1.55456027,  0.86504747,  0.81226249],\n",
       "       ...,\n",
       "       [-0.52255611,  4.06050458, -4.73555708],\n",
       "       [ 6.00386276,  2.88401089,  5.16811926],\n",
       "       [-2.25294797,  4.39762752, -5.60429382]])"
      ]
     },
     "execution_count": 8,
     "metadata": {},
     "output_type": "execute_result"
    }
   ],
   "source": [
    "pos_2"
   ]
  },
  {
   "cell_type": "code",
   "execution_count": 9,
   "id": "5f098853",
   "metadata": {
    "ExecuteTime": {
     "end_time": "2022-01-12T11:35:09.694358Z",
     "start_time": "2022-01-12T11:35:09.664159Z"
    }
   },
   "outputs": [],
   "source": [
    "cell_dimensions = np.ones(3) * 12.25\n",
    "ovito_1 = OvitoProcessor(positions=pos_1, cell_dimensions=cell_dimensions)\n",
    "ovito_2 = OvitoProcessor(positions=pos_2, cell_dimensions=cell_dimensions)"
   ]
  },
  {
   "cell_type": "code",
   "execution_count": 10,
   "id": "a7314b6d",
   "metadata": {
    "ExecuteTime": {
     "end_time": "2022-01-12T11:35:09.817325Z",
     "start_time": "2022-01-12T11:35:09.699280Z"
    }
   },
   "outputs": [
    {
     "data": {
      "text/html": [
       "<div>\n",
       "<style scoped>\n",
       "    .dataframe tbody tr th:only-of-type {\n",
       "        vertical-align: middle;\n",
       "    }\n",
       "\n",
       "    .dataframe tbody tr th {\n",
       "        vertical-align: top;\n",
       "    }\n",
       "\n",
       "    .dataframe thead th {\n",
       "        text-align: right;\n",
       "    }\n",
       "</style>\n",
       "<table border=\"1\" class=\"dataframe\">\n",
       "  <thead>\n",
       "    <tr style=\"text-align: right;\">\n",
       "      <th></th>\n",
       "      <th>counts_x</th>\n",
       "      <th>0</th>\n",
       "      <th>1</th>\n",
       "      <th>2</th>\n",
       "      <th>3</th>\n",
       "      <th>4</th>\n",
       "      <th>5</th>\n",
       "      <th>6</th>\n",
       "      <th>7</th>\n",
       "      <th>8</th>\n",
       "      <th>9</th>\n",
       "      <th>counts_y</th>\n",
       "      <th>diff</th>\n",
       "    </tr>\n",
       "  </thead>\n",
       "  <tbody>\n",
       "    <tr>\n",
       "      <th>0</th>\n",
       "      <td>9</td>\n",
       "      <td>0</td>\n",
       "      <td>0</td>\n",
       "      <td>1</td>\n",
       "      <td>4</td>\n",
       "      <td>4</td>\n",
       "      <td>3</td>\n",
       "      <td>1</td>\n",
       "      <td>0</td>\n",
       "      <td>0</td>\n",
       "      <td>0</td>\n",
       "      <td>8</td>\n",
       "      <td>-1</td>\n",
       "    </tr>\n",
       "    <tr>\n",
       "      <th>1</th>\n",
       "      <td>9</td>\n",
       "      <td>0</td>\n",
       "      <td>0</td>\n",
       "      <td>1</td>\n",
       "      <td>5</td>\n",
       "      <td>4</td>\n",
       "      <td>3</td>\n",
       "      <td>1</td>\n",
       "      <td>0</td>\n",
       "      <td>0</td>\n",
       "      <td>0</td>\n",
       "      <td>0</td>\n",
       "      <td>-9</td>\n",
       "    </tr>\n",
       "    <tr>\n",
       "      <th>2</th>\n",
       "      <td>8</td>\n",
       "      <td>0</td>\n",
       "      <td>0</td>\n",
       "      <td>1</td>\n",
       "      <td>3</td>\n",
       "      <td>7</td>\n",
       "      <td>1</td>\n",
       "      <td>0</td>\n",
       "      <td>0</td>\n",
       "      <td>0</td>\n",
       "      <td>0</td>\n",
       "      <td>2</td>\n",
       "      <td>-6</td>\n",
       "    </tr>\n",
       "    <tr>\n",
       "      <th>3</th>\n",
       "      <td>8</td>\n",
       "      <td>0</td>\n",
       "      <td>0</td>\n",
       "      <td>2</td>\n",
       "      <td>2</td>\n",
       "      <td>6</td>\n",
       "      <td>3</td>\n",
       "      <td>0</td>\n",
       "      <td>0</td>\n",
       "      <td>0</td>\n",
       "      <td>0</td>\n",
       "      <td>7</td>\n",
       "      <td>-1</td>\n",
       "    </tr>\n",
       "    <tr>\n",
       "      <th>4</th>\n",
       "      <td>8</td>\n",
       "      <td>0</td>\n",
       "      <td>0</td>\n",
       "      <td>1</td>\n",
       "      <td>2</td>\n",
       "      <td>7</td>\n",
       "      <td>4</td>\n",
       "      <td>0</td>\n",
       "      <td>0</td>\n",
       "      <td>0</td>\n",
       "      <td>0</td>\n",
       "      <td>3</td>\n",
       "      <td>-5</td>\n",
       "    </tr>\n",
       "    <tr>\n",
       "      <th>...</th>\n",
       "      <td>...</td>\n",
       "      <td>...</td>\n",
       "      <td>...</td>\n",
       "      <td>...</td>\n",
       "      <td>...</td>\n",
       "      <td>...</td>\n",
       "      <td>...</td>\n",
       "      <td>...</td>\n",
       "      <td>...</td>\n",
       "      <td>...</td>\n",
       "      <td>...</td>\n",
       "      <td>...</td>\n",
       "      <td>...</td>\n",
       "    </tr>\n",
       "    <tr>\n",
       "      <th>1391</th>\n",
       "      <td>0</td>\n",
       "      <td>0</td>\n",
       "      <td>0</td>\n",
       "      <td>2</td>\n",
       "      <td>1</td>\n",
       "      <td>8</td>\n",
       "      <td>2</td>\n",
       "      <td>0</td>\n",
       "      <td>0</td>\n",
       "      <td>0</td>\n",
       "      <td>0</td>\n",
       "      <td>1</td>\n",
       "      <td>1</td>\n",
       "    </tr>\n",
       "    <tr>\n",
       "      <th>1392</th>\n",
       "      <td>0</td>\n",
       "      <td>0</td>\n",
       "      <td>0</td>\n",
       "      <td>2</td>\n",
       "      <td>1</td>\n",
       "      <td>8</td>\n",
       "      <td>2</td>\n",
       "      <td>0</td>\n",
       "      <td>1</td>\n",
       "      <td>0</td>\n",
       "      <td>0</td>\n",
       "      <td>1</td>\n",
       "      <td>1</td>\n",
       "    </tr>\n",
       "    <tr>\n",
       "      <th>1393</th>\n",
       "      <td>0</td>\n",
       "      <td>0</td>\n",
       "      <td>0</td>\n",
       "      <td>2</td>\n",
       "      <td>1</td>\n",
       "      <td>8</td>\n",
       "      <td>3</td>\n",
       "      <td>0</td>\n",
       "      <td>0</td>\n",
       "      <td>0</td>\n",
       "      <td>0</td>\n",
       "      <td>1</td>\n",
       "      <td>1</td>\n",
       "    </tr>\n",
       "    <tr>\n",
       "      <th>1394</th>\n",
       "      <td>0</td>\n",
       "      <td>0</td>\n",
       "      <td>0</td>\n",
       "      <td>2</td>\n",
       "      <td>1</td>\n",
       "      <td>8</td>\n",
       "      <td>4</td>\n",
       "      <td>2</td>\n",
       "      <td>0</td>\n",
       "      <td>0</td>\n",
       "      <td>0</td>\n",
       "      <td>1</td>\n",
       "      <td>1</td>\n",
       "    </tr>\n",
       "    <tr>\n",
       "      <th>1395</th>\n",
       "      <td>0</td>\n",
       "      <td>0</td>\n",
       "      <td>0</td>\n",
       "      <td>6</td>\n",
       "      <td>2</td>\n",
       "      <td>2</td>\n",
       "      <td>3</td>\n",
       "      <td>2</td>\n",
       "      <td>0</td>\n",
       "      <td>0</td>\n",
       "      <td>0</td>\n",
       "      <td>1</td>\n",
       "      <td>1</td>\n",
       "    </tr>\n",
       "  </tbody>\n",
       "</table>\n",
       "<p>1396 rows × 13 columns</p>\n",
       "</div>"
      ],
      "text/plain": [
       "      counts_x  0  1  2  3  4  5  6  7  8  9  counts_y  diff\n",
       "0            9  0  0  1  4  4  3  1  0  0  0         8    -1\n",
       "1            9  0  0  1  5  4  3  1  0  0  0         0    -9\n",
       "2            8  0  0  1  3  7  1  0  0  0  0         2    -6\n",
       "3            8  0  0  2  2  6  3  0  0  0  0         7    -1\n",
       "4            8  0  0  1  2  7  4  0  0  0  0         3    -5\n",
       "...        ... .. .. .. .. .. .. .. .. .. ..       ...   ...\n",
       "1391         0  0  0  2  1  8  2  0  0  0  0         1     1\n",
       "1392         0  0  0  2  1  8  2  0  1  0  0         1     1\n",
       "1393         0  0  0  2  1  8  3  0  0  0  0         1     1\n",
       "1394         0  0  0  2  1  8  4  2  0  0  0         1     1\n",
       "1395         0  0  0  6  2  2  3  2  0  0  0         1     1\n",
       "\n",
       "[1396 rows x 13 columns]"
      ]
     },
     "execution_count": 10,
     "metadata": {},
     "output_type": "execute_result"
    }
   ],
   "source": [
    "indices_1 = get_unique_frame(ovito_1.get_voronoi_indices())\n",
    "indices_2 = get_unique_frame(ovito_2.get_voronoi_indices())\n",
    "merged_indices = indices_1.merge(\n",
    "    right=indices_2, \n",
    "    on=list(range(10)), \n",
    "    how='outer',\n",
    ").fillna(0).astype(int)\n",
    "merged_indices['diff'] = merged_indices['counts_y'] - merged_indices['counts_x']\n",
    "merged_indices"
   ]
  },
  {
   "cell_type": "code",
   "execution_count": 11,
   "id": "b0815f00",
   "metadata": {
    "ExecuteTime": {
     "end_time": "2022-01-12T11:35:09.926118Z",
     "start_time": "2022-01-12T11:35:09.819401Z"
    },
    "code_folding": [],
    "scrolled": false
   },
   "outputs": [
    {
     "data": {
      "text/html": [
       "<div>\n",
       "<style scoped>\n",
       "    .dataframe tbody tr th:only-of-type {\n",
       "        vertical-align: middle;\n",
       "    }\n",
       "\n",
       "    .dataframe tbody tr th {\n",
       "        vertical-align: top;\n",
       "    }\n",
       "\n",
       "    .dataframe thead th {\n",
       "        text-align: right;\n",
       "    }\n",
       "</style>\n",
       "<table border=\"1\" class=\"dataframe\">\n",
       "  <thead>\n",
       "    <tr style=\"text-align: right;\">\n",
       "      <th></th>\n",
       "      <th>counts_x</th>\n",
       "      <th>volume</th>\n",
       "      <th>counts_y</th>\n",
       "      <th>diff</th>\n",
       "    </tr>\n",
       "  </thead>\n",
       "  <tbody>\n",
       "    <tr>\n",
       "      <th>0</th>\n",
       "      <td>1.0</td>\n",
       "      <td>1.001760</td>\n",
       "      <td>0.0</td>\n",
       "      <td>-1.0</td>\n",
       "    </tr>\n",
       "    <tr>\n",
       "      <th>1</th>\n",
       "      <td>1.0</td>\n",
       "      <td>1.383535</td>\n",
       "      <td>0.0</td>\n",
       "      <td>-1.0</td>\n",
       "    </tr>\n",
       "    <tr>\n",
       "      <th>2</th>\n",
       "      <td>1.0</td>\n",
       "      <td>1.385897</td>\n",
       "      <td>0.0</td>\n",
       "      <td>-1.0</td>\n",
       "    </tr>\n",
       "    <tr>\n",
       "      <th>3</th>\n",
       "      <td>1.0</td>\n",
       "      <td>1.385139</td>\n",
       "      <td>0.0</td>\n",
       "      <td>-1.0</td>\n",
       "    </tr>\n",
       "    <tr>\n",
       "      <th>4</th>\n",
       "      <td>1.0</td>\n",
       "      <td>1.385122</td>\n",
       "      <td>0.0</td>\n",
       "      <td>-1.0</td>\n",
       "    </tr>\n",
       "    <tr>\n",
       "      <th>...</th>\n",
       "      <td>...</td>\n",
       "      <td>...</td>\n",
       "      <td>...</td>\n",
       "      <td>...</td>\n",
       "    </tr>\n",
       "    <tr>\n",
       "      <th>2739</th>\n",
       "      <td>0.0</td>\n",
       "      <td>1.257746</td>\n",
       "      <td>1.0</td>\n",
       "      <td>1.0</td>\n",
       "    </tr>\n",
       "    <tr>\n",
       "      <th>2740</th>\n",
       "      <td>0.0</td>\n",
       "      <td>1.257507</td>\n",
       "      <td>1.0</td>\n",
       "      <td>1.0</td>\n",
       "    </tr>\n",
       "    <tr>\n",
       "      <th>2741</th>\n",
       "      <td>0.0</td>\n",
       "      <td>1.257494</td>\n",
       "      <td>1.0</td>\n",
       "      <td>1.0</td>\n",
       "    </tr>\n",
       "    <tr>\n",
       "      <th>2742</th>\n",
       "      <td>0.0</td>\n",
       "      <td>1.257116</td>\n",
       "      <td>1.0</td>\n",
       "      <td>1.0</td>\n",
       "    </tr>\n",
       "    <tr>\n",
       "      <th>2743</th>\n",
       "      <td>0.0</td>\n",
       "      <td>2.082839</td>\n",
       "      <td>1.0</td>\n",
       "      <td>1.0</td>\n",
       "    </tr>\n",
       "  </tbody>\n",
       "</table>\n",
       "<p>2744 rows × 4 columns</p>\n",
       "</div>"
      ],
      "text/plain": [
       "      counts_x    volume  counts_y  diff\n",
       "0          1.0  1.001760       0.0  -1.0\n",
       "1          1.0  1.383535       0.0  -1.0\n",
       "2          1.0  1.385897       0.0  -1.0\n",
       "3          1.0  1.385139       0.0  -1.0\n",
       "4          1.0  1.385122       0.0  -1.0\n",
       "...        ...       ...       ...   ...\n",
       "2739       0.0  1.257746       1.0   1.0\n",
       "2740       0.0  1.257507       1.0   1.0\n",
       "2741       0.0  1.257494       1.0   1.0\n",
       "2742       0.0  1.257116       1.0   1.0\n",
       "2743       0.0  2.082839       1.0   1.0\n",
       "\n",
       "[2744 rows x 4 columns]"
      ]
     },
     "execution_count": 11,
     "metadata": {},
     "output_type": "execute_result"
    }
   ],
   "source": [
    "volumes_1 = get_unique_frame(ovito_1.get_voronoi_volumes()).rename(columns={0: 'volume'})\n",
    "volumes_2 = get_unique_frame(ovito_2.get_voronoi_volumes()).rename(columns={0: 'volume'})\n",
    "merged_volumes = volumes_1.merge(\n",
    "    right=volumes_2, \n",
    "    on='volume', \n",
    "    how='outer',\n",
    ").fillna(0)\n",
    "merged_volumes['diff'] = merged_volumes['counts_y'] - merged_volumes['counts_x']\n",
    "merged_volumes"
   ]
  },
  {
   "cell_type": "code",
   "execution_count": 12,
   "id": "dfc710f7",
   "metadata": {
    "ExecuteTime": {
     "end_time": "2022-01-12T11:35:10.033197Z",
     "start_time": "2022-01-12T11:35:09.928710Z"
    }
   },
   "outputs": [
    {
     "data": {
      "text/html": [
       "<div>\n",
       "<style scoped>\n",
       "    .dataframe tbody tr th:only-of-type {\n",
       "        vertical-align: middle;\n",
       "    }\n",
       "\n",
       "    .dataframe tbody tr th {\n",
       "        vertical-align: top;\n",
       "    }\n",
       "\n",
       "    .dataframe thead th {\n",
       "        text-align: right;\n",
       "    }\n",
       "</style>\n",
       "<table border=\"1\" class=\"dataframe\">\n",
       "  <thead>\n",
       "    <tr style=\"text-align: right;\">\n",
       "      <th></th>\n",
       "      <th>counts_x</th>\n",
       "      <th>coordination</th>\n",
       "      <th>counts_y</th>\n",
       "      <th>diff</th>\n",
       "    </tr>\n",
       "  </thead>\n",
       "  <tbody>\n",
       "    <tr>\n",
       "      <th>0</th>\n",
       "      <td>323</td>\n",
       "      <td>14</td>\n",
       "      <td>339</td>\n",
       "      <td>16</td>\n",
       "    </tr>\n",
       "    <tr>\n",
       "      <th>1</th>\n",
       "      <td>311</td>\n",
       "      <td>13</td>\n",
       "      <td>322</td>\n",
       "      <td>11</td>\n",
       "    </tr>\n",
       "    <tr>\n",
       "      <th>2</th>\n",
       "      <td>222</td>\n",
       "      <td>15</td>\n",
       "      <td>250</td>\n",
       "      <td>28</td>\n",
       "    </tr>\n",
       "    <tr>\n",
       "      <th>3</th>\n",
       "      <td>205</td>\n",
       "      <td>12</td>\n",
       "      <td>176</td>\n",
       "      <td>-29</td>\n",
       "    </tr>\n",
       "    <tr>\n",
       "      <th>4</th>\n",
       "      <td>134</td>\n",
       "      <td>16</td>\n",
       "      <td>136</td>\n",
       "      <td>2</td>\n",
       "    </tr>\n",
       "    <tr>\n",
       "      <th>5</th>\n",
       "      <td>74</td>\n",
       "      <td>11</td>\n",
       "      <td>76</td>\n",
       "      <td>2</td>\n",
       "    </tr>\n",
       "    <tr>\n",
       "      <th>6</th>\n",
       "      <td>60</td>\n",
       "      <td>17</td>\n",
       "      <td>56</td>\n",
       "      <td>-4</td>\n",
       "    </tr>\n",
       "    <tr>\n",
       "      <th>7</th>\n",
       "      <td>23</td>\n",
       "      <td>18</td>\n",
       "      <td>10</td>\n",
       "      <td>-13</td>\n",
       "    </tr>\n",
       "    <tr>\n",
       "      <th>8</th>\n",
       "      <td>13</td>\n",
       "      <td>10</td>\n",
       "      <td>5</td>\n",
       "      <td>-8</td>\n",
       "    </tr>\n",
       "    <tr>\n",
       "      <th>9</th>\n",
       "      <td>3</td>\n",
       "      <td>19</td>\n",
       "      <td>2</td>\n",
       "      <td>-1</td>\n",
       "    </tr>\n",
       "    <tr>\n",
       "      <th>10</th>\n",
       "      <td>2</td>\n",
       "      <td>20</td>\n",
       "      <td>0</td>\n",
       "      <td>-2</td>\n",
       "    </tr>\n",
       "    <tr>\n",
       "      <th>11</th>\n",
       "      <td>1</td>\n",
       "      <td>9</td>\n",
       "      <td>0</td>\n",
       "      <td>-1</td>\n",
       "    </tr>\n",
       "    <tr>\n",
       "      <th>12</th>\n",
       "      <td>1</td>\n",
       "      <td>21</td>\n",
       "      <td>0</td>\n",
       "      <td>-1</td>\n",
       "    </tr>\n",
       "  </tbody>\n",
       "</table>\n",
       "</div>"
      ],
      "text/plain": [
       "    counts_x  coordination  counts_y  diff\n",
       "0        323            14       339    16\n",
       "1        311            13       322    11\n",
       "2        222            15       250    28\n",
       "3        205            12       176   -29\n",
       "4        134            16       136     2\n",
       "5         74            11        76     2\n",
       "6         60            17        56    -4\n",
       "7         23            18        10   -13\n",
       "8         13            10         5    -8\n",
       "9          3            19         2    -1\n",
       "10         2            20         0    -2\n",
       "11         1             9         0    -1\n",
       "12         1            21         0    -1"
      ]
     },
     "execution_count": 12,
     "metadata": {},
     "output_type": "execute_result"
    }
   ],
   "source": [
    "coordinations_1 = get_unique_frame(ovito_1.get_voronoi_coordination()).rename(columns={0: 'coordination'})\n",
    "coordinations_2 = get_unique_frame(ovito_2.get_voronoi_coordination()).rename(columns={0: 'coordination'})\n",
    "merged_coordinations = coordinations_1.merge(\n",
    "    right=coordinations_2, \n",
    "    on='coordination', \n",
    "    how='outer',\n",
    ").fillna(0).astype(int)\n",
    "merged_coordinations['diff'] = merged_coordinations['counts_y'] - merged_coordinations['counts_x']\n",
    "merged_coordinations"
   ]
  },
  {
   "cell_type": "code",
   "execution_count": 13,
   "id": "d9a7acab",
   "metadata": {
    "ExecuteTime": {
     "end_time": "2022-01-12T11:35:10.063929Z",
     "start_time": "2022-01-12T11:35:10.034331Z"
    }
   },
   "outputs": [
    {
     "data": {
      "text/html": [
       "<div>\n",
       "<style scoped>\n",
       "    .dataframe tbody tr th:only-of-type {\n",
       "        vertical-align: middle;\n",
       "    }\n",
       "\n",
       "    .dataframe tbody tr th {\n",
       "        vertical-align: top;\n",
       "    }\n",
       "\n",
       "    .dataframe thead th {\n",
       "        text-align: right;\n",
       "    }\n",
       "</style>\n",
       "<table border=\"1\" class=\"dataframe\">\n",
       "  <thead>\n",
       "    <tr style=\"text-align: right;\">\n",
       "      <th></th>\n",
       "      <th>counts_x</th>\n",
       "      <th>0</th>\n",
       "      <th>1</th>\n",
       "      <th>2</th>\n",
       "      <th>3</th>\n",
       "      <th>4</th>\n",
       "      <th>5</th>\n",
       "      <th>6</th>\n",
       "      <th>7</th>\n",
       "      <th>8</th>\n",
       "      <th>9</th>\n",
       "      <th>counts_y</th>\n",
       "      <th>diff</th>\n",
       "    </tr>\n",
       "  </thead>\n",
       "  <tbody>\n",
       "    <tr>\n",
       "      <th>0</th>\n",
       "      <td>9</td>\n",
       "      <td>0</td>\n",
       "      <td>0</td>\n",
       "      <td>1</td>\n",
       "      <td>4</td>\n",
       "      <td>4</td>\n",
       "      <td>3</td>\n",
       "      <td>1</td>\n",
       "      <td>0</td>\n",
       "      <td>0</td>\n",
       "      <td>0</td>\n",
       "      <td>8</td>\n",
       "      <td>-1</td>\n",
       "    </tr>\n",
       "    <tr>\n",
       "      <th>1</th>\n",
       "      <td>8</td>\n",
       "      <td>0</td>\n",
       "      <td>0</td>\n",
       "      <td>1</td>\n",
       "      <td>3</td>\n",
       "      <td>7</td>\n",
       "      <td>1</td>\n",
       "      <td>0</td>\n",
       "      <td>0</td>\n",
       "      <td>0</td>\n",
       "      <td>0</td>\n",
       "      <td>2</td>\n",
       "      <td>-6</td>\n",
       "    </tr>\n",
       "    <tr>\n",
       "      <th>2</th>\n",
       "      <td>8</td>\n",
       "      <td>0</td>\n",
       "      <td>0</td>\n",
       "      <td>2</td>\n",
       "      <td>2</td>\n",
       "      <td>6</td>\n",
       "      <td>3</td>\n",
       "      <td>0</td>\n",
       "      <td>0</td>\n",
       "      <td>0</td>\n",
       "      <td>0</td>\n",
       "      <td>7</td>\n",
       "      <td>-1</td>\n",
       "    </tr>\n",
       "    <tr>\n",
       "      <th>3</th>\n",
       "      <td>8</td>\n",
       "      <td>0</td>\n",
       "      <td>0</td>\n",
       "      <td>1</td>\n",
       "      <td>2</td>\n",
       "      <td>7</td>\n",
       "      <td>4</td>\n",
       "      <td>0</td>\n",
       "      <td>0</td>\n",
       "      <td>0</td>\n",
       "      <td>0</td>\n",
       "      <td>3</td>\n",
       "      <td>-5</td>\n",
       "    </tr>\n",
       "    <tr>\n",
       "      <th>4</th>\n",
       "      <td>8</td>\n",
       "      <td>0</td>\n",
       "      <td>0</td>\n",
       "      <td>1</td>\n",
       "      <td>3</td>\n",
       "      <td>5</td>\n",
       "      <td>3</td>\n",
       "      <td>0</td>\n",
       "      <td>0</td>\n",
       "      <td>0</td>\n",
       "      <td>0</td>\n",
       "      <td>4</td>\n",
       "      <td>-4</td>\n",
       "    </tr>\n",
       "    <tr>\n",
       "      <th>...</th>\n",
       "      <td>...</td>\n",
       "      <td>...</td>\n",
       "      <td>...</td>\n",
       "      <td>...</td>\n",
       "      <td>...</td>\n",
       "      <td>...</td>\n",
       "      <td>...</td>\n",
       "      <td>...</td>\n",
       "      <td>...</td>\n",
       "      <td>...</td>\n",
       "      <td>...</td>\n",
       "      <td>...</td>\n",
       "      <td>...</td>\n",
       "    </tr>\n",
       "    <tr>\n",
       "      <th>103</th>\n",
       "      <td>2</td>\n",
       "      <td>0</td>\n",
       "      <td>0</td>\n",
       "      <td>2</td>\n",
       "      <td>3</td>\n",
       "      <td>5</td>\n",
       "      <td>2</td>\n",
       "      <td>1</td>\n",
       "      <td>0</td>\n",
       "      <td>0</td>\n",
       "      <td>0</td>\n",
       "      <td>5</td>\n",
       "      <td>3</td>\n",
       "    </tr>\n",
       "    <tr>\n",
       "      <th>104</th>\n",
       "      <td>2</td>\n",
       "      <td>0</td>\n",
       "      <td>0</td>\n",
       "      <td>1</td>\n",
       "      <td>2</td>\n",
       "      <td>5</td>\n",
       "      <td>4</td>\n",
       "      <td>0</td>\n",
       "      <td>0</td>\n",
       "      <td>0</td>\n",
       "      <td>0</td>\n",
       "      <td>3</td>\n",
       "      <td>1</td>\n",
       "    </tr>\n",
       "    <tr>\n",
       "      <th>105</th>\n",
       "      <td>2</td>\n",
       "      <td>0</td>\n",
       "      <td>0</td>\n",
       "      <td>2</td>\n",
       "      <td>3</td>\n",
       "      <td>8</td>\n",
       "      <td>1</td>\n",
       "      <td>0</td>\n",
       "      <td>0</td>\n",
       "      <td>0</td>\n",
       "      <td>0</td>\n",
       "      <td>2</td>\n",
       "      <td>0</td>\n",
       "    </tr>\n",
       "    <tr>\n",
       "      <th>106</th>\n",
       "      <td>2</td>\n",
       "      <td>0</td>\n",
       "      <td>0</td>\n",
       "      <td>2</td>\n",
       "      <td>3</td>\n",
       "      <td>6</td>\n",
       "      <td>4</td>\n",
       "      <td>0</td>\n",
       "      <td>0</td>\n",
       "      <td>0</td>\n",
       "      <td>0</td>\n",
       "      <td>2</td>\n",
       "      <td>0</td>\n",
       "    </tr>\n",
       "    <tr>\n",
       "      <th>107</th>\n",
       "      <td>2</td>\n",
       "      <td>0</td>\n",
       "      <td>0</td>\n",
       "      <td>1</td>\n",
       "      <td>5</td>\n",
       "      <td>5</td>\n",
       "      <td>1</td>\n",
       "      <td>0</td>\n",
       "      <td>0</td>\n",
       "      <td>0</td>\n",
       "      <td>0</td>\n",
       "      <td>2</td>\n",
       "      <td>0</td>\n",
       "    </tr>\n",
       "  </tbody>\n",
       "</table>\n",
       "<p>108 rows × 13 columns</p>\n",
       "</div>"
      ],
      "text/plain": [
       "     counts_x  0  1  2  3  4  5  6  7  8  9  counts_y  diff\n",
       "0           9  0  0  1  4  4  3  1  0  0  0         8    -1\n",
       "1           8  0  0  1  3  7  1  0  0  0  0         2    -6\n",
       "2           8  0  0  2  2  6  3  0  0  0  0         7    -1\n",
       "3           8  0  0  1  2  7  4  0  0  0  0         3    -5\n",
       "4           8  0  0  1  3  5  3  0  0  0  0         4    -4\n",
       "..        ... .. .. .. .. .. .. .. .. .. ..       ...   ...\n",
       "103         2  0  0  2  3  5  2  1  0  0  0         5     3\n",
       "104         2  0  0  1  2  5  4  0  0  0  0         3     1\n",
       "105         2  0  0  2  3  8  1  0  0  0  0         2     0\n",
       "106         2  0  0  2  3  6  4  0  0  0  0         2     0\n",
       "107         2  0  0  1  5  5  1  0  0  0  0         2     0\n",
       "\n",
       "[108 rows x 13 columns]"
      ]
     },
     "execution_count": 13,
     "metadata": {},
     "output_type": "execute_result"
    }
   ],
   "source": [
    "merged_indices = merged_indices[\n",
    "    (merged_indices['counts_x'] > 1)\n",
    "    & (merged_indices['counts_y'] > 1)\n",
    "].reset_index(drop=True)\n",
    "merged_indices"
   ]
  },
  {
   "cell_type": "code",
   "execution_count": 14,
   "id": "8fd0c1ad",
   "metadata": {
    "ExecuteTime": {
     "end_time": "2022-01-12T11:35:10.298198Z",
     "start_time": "2022-01-12T11:35:10.065933Z"
    }
   },
   "outputs": [
    {
     "data": {
      "image/png": "[encoded data removed]",
      "text/plain": [
       "<Figure size 432x288 with 1 Axes>"
      ]
     },
     "metadata": {
      "needs_background": "light"
     },
     "output_type": "display_data"
    }
   ],
   "source": [
    "plt.bar(merged_coordinations['coordination'], merged_coordinations['counts_x'], alpha=0.5)\n",
    "plt.bar(merged_coordinations['coordination'], merged_coordinations['counts_y'], alpha=0.5)\n",
    "plt.show()"
   ]
  },
  {
   "cell_type": "code",
   "execution_count": 15,
   "id": "cd9d074f",
   "metadata": {
    "ExecuteTime": {
     "end_time": "2022-01-12T11:35:10.530008Z",
     "start_time": "2022-01-12T11:35:10.299192Z"
    }
   },
   "outputs": [
    {
     "data": {
      "image/png": "[encoded data removed]",
      "text/plain": [
       "<Figure size 432x288 with 1 Axes>"
      ]
     },
     "metadata": {
      "needs_background": "light"
     },
     "output_type": "display_data"
    }
   ],
   "source": [
    "plt.hist(volumes_1['volume'], alpha=0.5)\n",
    "plt.hist(volumes_2['volume'], alpha=0.5)\n",
    "plt.show()"
   ]
  },
  {
   "cell_type": "code",
   "execution_count": 16,
   "id": "4ec95849",
   "metadata": {
    "ExecuteTime": {
     "end_time": "2022-01-12T11:35:10.560445Z",
     "start_time": "2022-01-12T11:35:10.531004Z"
    }
   },
   "outputs": [],
   "source": [
    "radii, ovito_rdf_1, coordination = ovito_1.get_rdf(is_coordination_returned=True)"
   ]
  },
  {
   "cell_type": "code",
   "execution_count": 17,
   "id": "78df8ee3",
   "metadata": {
    "ExecuteTime": {
     "end_time": "2022-01-12T11:35:10.745319Z",
     "start_time": "2022-01-12T11:35:10.562979Z"
    }
   },
   "outputs": [
    {
     "data": {
      "image/png": "[encoded data removed]",
      "text/plain": [
       "<Figure size 432x288 with 1 Axes>"
      ]
     },
     "metadata": {
      "needs_background": "light"
     },
     "output_type": "display_data"
    }
   ],
   "source": [
    "plt.plot(radii, rdf_1[:radii.size], label='mine')\n",
    "plt.plot(radii, ovito_rdf_1[:radii.size], label='ovito')\n",
    "plt.legend()\n",
    "plt.show()"
   ]
  },
  {
   "cell_type": "code",
   "execution_count": 18,
   "id": "dfabe0f9",
   "metadata": {
    "ExecuteTime": {
     "end_time": "2022-01-12T11:35:10.914305Z",
     "start_time": "2022-01-12T11:35:10.747722Z"
    }
   },
   "outputs": [
    {
     "data": {
      "image/png": "[encoded data removed]",
      "text/plain": [
       "<Figure size 432x288 with 1 Axes>"
      ]
     },
     "metadata": {
      "needs_background": "light"
     },
     "output_type": "display_data"
    }
   ],
   "source": [
    "plt.hist(coordination)\n",
    "plt.show()"
   ]
  }
 ],
 "metadata": {
  "kernelspec": {
   "display_name": "Python 3 (ipykernel)",
   "language": "python",
   "name": "python3"
  },
  "language_info": {
   "codemirror_mode": {
    "name": "ipython",
    "version": 3
   },
   "file_extension": ".py",
   "mimetype": "text/x-python",
   "name": "python",
   "nbconvert_exporter": "python",
   "pygments_lexer": "ipython3",
   "version": "3.9.9"
  },
  "toc": {
   "base_numbering": 1,
   "nav_menu": {},
   "number_sections": true,
   "sideBar": true,
   "skip_h1_title": true,
   "title_cell": "Table of Contents",
   "title_sidebar": "Contents",
   "toc_cell": false,
   "toc_position": {},
   "toc_section_display": true,
   "toc_window_display": false
  }
 },
 "nbformat": 4,
 "nbformat_minor": 5
}