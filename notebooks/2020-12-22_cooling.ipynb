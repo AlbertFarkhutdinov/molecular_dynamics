{
 "cells": [
  {
   "cell_type": "markdown",
   "metadata": {},
   "source": [
    "## Моделирование молекулярной динамики\n",
    "\n",
    "   - Система: ГЦК решётка $7\\times7\\times7$ частиц;\n",
    "   - Постоянная решётки: $a = 1.75~\\sigma $;\n",
    "   - Потенциал взаимодействия: Леннард-Джонс;\n",
    "   - Начальная температура: $T_i = 2.8~\\varepsilon / k_B$;\n",
    "   - Конечная температура: $T_f = 10^{-10}~\\varepsilon / k_B$;\n",
    "   - Скорость охлаждения: $v_T = 0.02~\\varepsilon / k_B\\tau$;\n",
    "   - Термостат: масштабирование скоростей;\n",
    "   - Толщина сферического слоя (список Верле): $\\Delta r_s = 0.3~\\sigma $;\n",
    "   - Временной шаг: $\\Delta t = 0.005~\\tau$;\n",
    "   - Число шагов для охлаждения: 40000;\n",
    "   - Функция радиального распределения, среднеквадратичное смещение и коэффициенты самодиффузии рассчитывалась через каждые 5000 шагов;\n",
    "   - Подсчёт состоял из 2499 шагов: 500 на уравновешивание системы при фиксированной температуре и 1999 на усреднение по ансамблям (к первому ансамблю относятся шаги с 1 по 1000 шаг, ко второму - с 2 по 1001 и т.д.);\n",
    "   - Функция радиального распределения вычислялась как среднее по времени за первые 1000 шагов;"
   ]
  },
  {
   "cell_type": "markdown",
   "metadata": {},
   "source": [
    "#### Импорт необходимых библиотек"
   ]
  },
  {
   "cell_type": "code",
   "execution_count": 1,
   "metadata": {},
   "outputs": [],
   "source": [
    "import os\n",
    "\n",
    "import matplotlib.pyplot as plt\n",
    "import numpy as np\n",
    "import pandas as pd"
   ]
  },
  {
   "cell_type": "code",
   "execution_count": 2,
   "metadata": {},
   "outputs": [],
   "source": [
    "plt.style.use('seaborn')\n",
    "plt.rcParams['figure.dpi'] = 100\n",
    "plt.rcParams['font.family'] = 'Times New Roman'\n",
    "plt.rcParams['figure.figsize'] = [i / 2.54 for i in (15, 15)]\n",
    "plt.rcParams['mathtext.fontset'] = 'stix'\n",
    "plt.rcParams['mathtext.it'] = 'Times New Roman'\n",
    "plt.rcParams['xtick.labelsize'] = 14\n",
    "plt.rcParams['ytick.labelsize'] = 14\n",
    "plt.rcParams['legend.fontsize'] = 14\n",
    "plt.rcParams['axes.labelsize'] = 14"
   ]
  },
  {
   "cell_type": "markdown",
   "metadata": {},
   "source": [
    "#### Путь к файлам с данными"
   ]
  },
  {
   "cell_type": "code",
   "execution_count": 3,
   "metadata": {},
   "outputs": [],
   "source": [
    "BASE_DIRECTORY = os.path.dirname(os.getcwd())\n",
    "PATH_TO_ALL_DATA = os.path.join(BASE_DIRECTORY, 'data')\n",
    "PATH_TO_ALL_PLOTS = os.path.join(BASE_DIRECTORY, 'plots')\n",
    "CURRENT_DATA = '2020-12-22_cooling'\n",
    "\n",
    "PATH_TO_CURRENT_DATA = os.path.join(PATH_TO_ALL_DATA, CURRENT_DATA)\n",
    "PATH_TO_CURRENT_PLOTS = os.path.join(PATH_TO_ALL_PLOTS, CURRENT_DATA)\n",
    "\n",
    "try:\n",
    "    os.mkdir(PATH_TO_CURRENT_PLOTS)\n",
    "except FileExistsError:\n",
    "    pass"
   ]
  },
  {
   "cell_type": "code",
   "execution_count": 4,
   "metadata": {},
   "outputs": [],
   "source": [
    "rdf_filename = os.path.join(PATH_TO_CURRENT_DATA, 'rdf_T_')\n",
    "transport_filename = os.path.join(PATH_TO_CURRENT_DATA, 'transport_T_')\n",
    "parameters_filename = os.path.join(PATH_TO_CURRENT_DATA, 'system_parameters.csv')"
   ]
  },
  {
   "cell_type": "code",
   "execution_count": 5,
   "metadata": {},
   "outputs": [],
   "source": [
    "plot_filename_postfix = 'cooling'"
   ]
  },
  {
   "cell_type": "code",
   "execution_count": 6,
   "metadata": {},
   "outputs": [],
   "source": [
    "def save_plot(filename):\n",
    "    plt.savefig(\n",
    "        os.path.join(PATH_TO_CURRENT_PLOTS, filename)\n",
    "    )"
   ]
  },
  {
   "cell_type": "markdown",
   "metadata": {},
   "source": [
    "#### Температуры, для которых была подчитана функция радиального распределения"
   ]
  },
  {
   "cell_type": "code",
   "execution_count": 7,
   "metadata": {},
   "outputs": [],
   "source": [
    "temperatures = (\n",
    "    2.80391,\n",
    "    2.69923,\n",
    "    2.29754,\n",
    "    1.80409,\n",
    "    1.29977,\n",
    "    0.80038,\n",
    "    0.30017,\n",
    "    0.00000,\n",
    ")"
   ]
  },
  {
   "cell_type": "markdown",
   "metadata": {},
   "source": [
    "#### Извлечение значений функции радиального распределения из файлов"
   ]
  },
  {
   "cell_type": "code",
   "execution_count": 8,
   "metadata": {},
   "outputs": [
    {
     "data": {
      "text/html": [
       "<div>\n",
       "<style scoped>\n",
       "    .dataframe tbody tr th:only-of-type {\n",
       "        vertical-align: middle;\n",
       "    }\n",
       "\n",
       "    .dataframe tbody tr th {\n",
       "        vertical-align: top;\n",
       "    }\n",
       "\n",
       "    .dataframe thead th {\n",
       "        text-align: right;\n",
       "    }\n",
       "</style>\n",
       "<table border=\"1\" class=\"dataframe\">\n",
       "  <thead>\n",
       "    <tr style=\"text-align: right;\">\n",
       "      <th></th>\n",
       "      <th>time</th>\n",
       "      <th>2.80391</th>\n",
       "      <th>2.69923</th>\n",
       "      <th>2.29754</th>\n",
       "      <th>1.80409</th>\n",
       "      <th>1.29977</th>\n",
       "      <th>0.80038</th>\n",
       "      <th>0.30017</th>\n",
       "      <th>0.00000</th>\n",
       "    </tr>\n",
       "  </thead>\n",
       "  <tbody>\n",
       "    <tr>\n",
       "      <th>0</th>\n",
       "      <td>0.005</td>\n",
       "      <td>0.000000</td>\n",
       "      <td>0.000000</td>\n",
       "      <td>0.000000</td>\n",
       "      <td>0.000000</td>\n",
       "      <td>0.000000</td>\n",
       "      <td>0.000000</td>\n",
       "      <td>0.000000</td>\n",
       "      <td>0.000000e+00</td>\n",
       "    </tr>\n",
       "    <tr>\n",
       "      <th>1</th>\n",
       "      <td>0.010</td>\n",
       "      <td>0.000211</td>\n",
       "      <td>0.000203</td>\n",
       "      <td>0.000173</td>\n",
       "      <td>0.000136</td>\n",
       "      <td>0.000098</td>\n",
       "      <td>0.000060</td>\n",
       "      <td>0.000023</td>\n",
       "      <td>4.937624e-13</td>\n",
       "    </tr>\n",
       "    <tr>\n",
       "      <th>2</th>\n",
       "      <td>0.015</td>\n",
       "      <td>0.000841</td>\n",
       "      <td>0.000810</td>\n",
       "      <td>0.000689</td>\n",
       "      <td>0.000541</td>\n",
       "      <td>0.000390</td>\n",
       "      <td>0.000240</td>\n",
       "      <td>0.000090</td>\n",
       "      <td>1.837114e-12</td>\n",
       "    </tr>\n",
       "    <tr>\n",
       "      <th>3</th>\n",
       "      <td>0.020</td>\n",
       "      <td>0.001884</td>\n",
       "      <td>0.001814</td>\n",
       "      <td>0.001545</td>\n",
       "      <td>0.001214</td>\n",
       "      <td>0.000875</td>\n",
       "      <td>0.000539</td>\n",
       "      <td>0.000202</td>\n",
       "      <td>3.968434e-12</td>\n",
       "    </tr>\n",
       "    <tr>\n",
       "      <th>4</th>\n",
       "      <td>0.025</td>\n",
       "      <td>0.003330</td>\n",
       "      <td>0.003206</td>\n",
       "      <td>0.002731</td>\n",
       "      <td>0.002147</td>\n",
       "      <td>0.001549</td>\n",
       "      <td>0.000955</td>\n",
       "      <td>0.000358</td>\n",
       "      <td>6.984827e-12</td>\n",
       "    </tr>\n",
       "    <tr>\n",
       "      <th>...</th>\n",
       "      <td>...</td>\n",
       "      <td>...</td>\n",
       "      <td>...</td>\n",
       "      <td>...</td>\n",
       "      <td>...</td>\n",
       "      <td>...</td>\n",
       "      <td>...</td>\n",
       "      <td>...</td>\n",
       "      <td>...</td>\n",
       "    </tr>\n",
       "    <tr>\n",
       "      <th>995</th>\n",
       "      <td>4.980</td>\n",
       "      <td>6.935351</td>\n",
       "      <td>7.027304</td>\n",
       "      <td>6.023333</td>\n",
       "      <td>4.817071</td>\n",
       "      <td>3.312318</td>\n",
       "      <td>2.096485</td>\n",
       "      <td>0.189114</td>\n",
       "      <td>4.469798e-07</td>\n",
       "    </tr>\n",
       "    <tr>\n",
       "      <th>996</th>\n",
       "      <td>4.985</td>\n",
       "      <td>6.942984</td>\n",
       "      <td>7.034695</td>\n",
       "      <td>6.029814</td>\n",
       "      <td>4.822141</td>\n",
       "      <td>3.315604</td>\n",
       "      <td>2.098618</td>\n",
       "      <td>0.189242</td>\n",
       "      <td>4.479163e-07</td>\n",
       "    </tr>\n",
       "    <tr>\n",
       "      <th>997</th>\n",
       "      <td>4.990</td>\n",
       "      <td>6.950622</td>\n",
       "      <td>7.042088</td>\n",
       "      <td>6.036296</td>\n",
       "      <td>4.827210</td>\n",
       "      <td>3.318888</td>\n",
       "      <td>2.100751</td>\n",
       "      <td>0.189370</td>\n",
       "      <td>4.488538e-07</td>\n",
       "    </tr>\n",
       "    <tr>\n",
       "      <th>998</th>\n",
       "      <td>4.995</td>\n",
       "      <td>6.958265</td>\n",
       "      <td>7.049485</td>\n",
       "      <td>6.042780</td>\n",
       "      <td>4.832276</td>\n",
       "      <td>3.322172</td>\n",
       "      <td>2.102883</td>\n",
       "      <td>0.189499</td>\n",
       "      <td>4.497923e-07</td>\n",
       "    </tr>\n",
       "    <tr>\n",
       "      <th>999</th>\n",
       "      <td>5.000</td>\n",
       "      <td>6.965912</td>\n",
       "      <td>7.056884</td>\n",
       "      <td>6.049267</td>\n",
       "      <td>4.837340</td>\n",
       "      <td>3.325455</td>\n",
       "      <td>2.105014</td>\n",
       "      <td>0.189627</td>\n",
       "      <td>4.507320e-07</td>\n",
       "    </tr>\n",
       "  </tbody>\n",
       "</table>\n",
       "<p>1000 rows × 9 columns</p>\n",
       "</div>"
      ],
      "text/plain": [
       "      time   2.80391   2.69923   2.29754   1.80409   1.29977   0.80038  \\\n",
       "0    0.005  0.000000  0.000000  0.000000  0.000000  0.000000  0.000000   \n",
       "1    0.010  0.000211  0.000203  0.000173  0.000136  0.000098  0.000060   \n",
       "2    0.015  0.000841  0.000810  0.000689  0.000541  0.000390  0.000240   \n",
       "3    0.020  0.001884  0.001814  0.001545  0.001214  0.000875  0.000539   \n",
       "4    0.025  0.003330  0.003206  0.002731  0.002147  0.001549  0.000955   \n",
       "..     ...       ...       ...       ...       ...       ...       ...   \n",
       "995  4.980  6.935351  7.027304  6.023333  4.817071  3.312318  2.096485   \n",
       "996  4.985  6.942984  7.034695  6.029814  4.822141  3.315604  2.098618   \n",
       "997  4.990  6.950622  7.042088  6.036296  4.827210  3.318888  2.100751   \n",
       "998  4.995  6.958265  7.049485  6.042780  4.832276  3.322172  2.102883   \n",
       "999  5.000  6.965912  7.056884  6.049267  4.837340  3.325455  2.105014   \n",
       "\n",
       "      0.30017       0.00000  \n",
       "0    0.000000  0.000000e+00  \n",
       "1    0.000023  4.937624e-13  \n",
       "2    0.000090  1.837114e-12  \n",
       "3    0.000202  3.968434e-12  \n",
       "4    0.000358  6.984827e-12  \n",
       "..        ...           ...  \n",
       "995  0.189114  4.469798e-07  \n",
       "996  0.189242  4.479163e-07  \n",
       "997  0.189370  4.488538e-07  \n",
       "998  0.189499  4.497923e-07  \n",
       "999  0.189627  4.507320e-07  \n",
       "\n",
       "[1000 rows x 9 columns]"
      ]
     },
     "execution_count": 8,
     "metadata": {},
     "output_type": "execute_result"
    }
   ],
   "source": [
    "rdf_data = pd.DataFrame(columns=['radius'])\n",
    "msd_data = pd.DataFrame(columns=['time'])\n",
    "vel_autocor_data = pd.DataFrame(columns=['time'])\n",
    "einstein_diffusion_data = pd.DataFrame(columns=['time'])\n",
    "green_kubo_diffusion_data = pd.DataFrame(columns=['time'])\n",
    "\n",
    "for temperature in temperatures:\n",
    "    df = pd.read_csv(\n",
    "        f'{rdf_filename}{temperature:.5f}.csv',\n",
    "        sep=';',\n",
    "    )\n",
    "    rdf_data = rdf_data.merge(\n",
    "        right=df,\n",
    "        how='outer',\n",
    "        on='radius',\n",
    "    )\n",
    "    df = pd.read_csv(\n",
    "        f'{transport_filename}{temperature:.5f}.csv',\n",
    "        sep=';',\n",
    "    )\n",
    "    msd_data = msd_data.merge(\n",
    "        right=df[['time', 'msd']],\n",
    "        how='outer',\n",
    "        on='time',\n",
    "    )\n",
    "    vel_autocor_data = vel_autocor_data.merge(\n",
    "        right=df[['time', 'velocity_autocorrelation']],\n",
    "        how='outer',\n",
    "        on='time',\n",
    "    )\n",
    "    einstein_diffusion_data = einstein_diffusion_data.merge(\n",
    "        right=df[['time', 'einstein_diffusion']],\n",
    "        how='outer',\n",
    "        on='time',\n",
    "    )\n",
    "    green_kubo_diffusion_data = green_kubo_diffusion_data.merge(\n",
    "        right=df[['time', 'green_kubo_diffusion']],\n",
    "        how='outer',\n",
    "        on='time',\n",
    "    )\n",
    "    rdf_data = rdf_data.rename(columns={'rdf': f'{temperature:.5f}'})\n",
    "    msd_data = msd_data.rename(columns={'msd': f'{temperature:.5f}'})\n",
    "    vel_autocor_data = vel_autocor_data.rename(columns={'velocity_autocorrelation': f'{temperature:.5f}'})\n",
    "    einstein_diffusion_data = einstein_diffusion_data.rename(columns={'einstein_diffusion': f'{temperature:.5f}'})\n",
    "    green_kubo_diffusion_data = green_kubo_diffusion_data.rename(columns={'green_kubo_diffusion': f'{temperature:.5f}'})\n",
    "\n",
    "msd_data"
   ]
  },
  {
   "cell_type": "markdown",
   "metadata": {},
   "source": [
    "#### Графики функций радиального распределения $g(\\textbf{r})$ при различных температурах\n",
    "\n",
    "$$g(\\textbf{r})=\\dfrac{V}{N^2}\\left<\\sum_{i}{\\sum_{j\\ne i}{\\delta(\\textbf{r}-\\textbf{r}_{ij})}}\\right>$$"
   ]
  },
  {
   "cell_type": "code",
   "execution_count": 21,
   "metadata": {},
   "outputs": [
    {
     "data": {
      "image/png": "[encoded data removed]",
      "text/plain": [
       "<Figure size 590.551x590.551 with 1 Axes>"
      ]
     },
     "metadata": {},
     "output_type": "display_data"
    }
   ],
   "source": [
    "wendt_abraham_parameter = []\n",
    "plt.rcParams['font.size'] = 14\n",
    "for i, temperature in enumerate(temperatures):\n",
    "    current_rdf = rdf_data[f'{temperature:.5f}']\n",
    "    g_max = current_rdf.max()\n",
    "    r_max = current_rdf.argmax()\n",
    "    g_min = rdf_data.loc[\n",
    "        (rdf_data['radius'] > rdf_data['radius'][r_max])\n",
    "        & (rdf_data['radius'] < 2), \n",
    "        f'{temperature:.5f}'\n",
    "    ].min()\n",
    "    wendt_abraham_parameter.append(g_min / g_max)\n",
    "    plt.plot(\n",
    "        rdf_data['radius'],\n",
    "        rdf_data[f'{temperature:.5f}'] + 1 * (len(temperatures) - (i + 1)), \n",
    "        label=f'T = {temperature:.1f} $\\epsilon / k_B $',\n",
    "    );\n",
    "    \n",
    "plt.xlabel('$r$, $\\sigma$');\n",
    "plt.ylabel('$g(r)$');\n",
    "plt.xlim(\n",
    "    left=0, \n",
    "    right=6.125,\n",
    ");\n",
    "plt.ylim(\n",
    "    bottom=0, \n",
    "    top=16,\n",
    ");\n",
    "plt.legend();\n",
    "\n",
    "save_plot(f'rdf_{plot_filename_postfix}.png')"
   ]
  },
  {
   "cell_type": "code",
   "execution_count": 22,
   "metadata": {},
   "outputs": [
    {
     "data": {
      "text/plain": [
       "[0.3879675608725224,\n",
       " 0.38421101492682835,\n",
       " 0.36506437822877497,\n",
       " 0.3336939675655288,\n",
       " 0.301288707116561,\n",
       " 0.2518894297854365,\n",
       " 0.09917685463232062,\n",
       " 0.03444614449179989]"
      ]
     },
     "execution_count": 22,
     "metadata": {},
     "output_type": "execute_result"
    }
   ],
   "source": [
    "wendt_abraham_parameter"
   ]
  },
  {
   "cell_type": "markdown",
   "metadata": {},
   "source": [
    "#### Зависимость параметра Вендта-Абрахама от температуры. Определение температуры стеклования"
   ]
  },
  {
   "cell_type": "code",
   "execution_count": 25,
   "metadata": {},
   "outputs": [
    {
     "data": {
      "image/png": "[encoded data removed]",
      "text/plain": [
       "<Figure size 590.551x590.551 with 1 Axes>"
      ]
     },
     "metadata": {},
     "output_type": "display_data"
    }
   ],
   "source": [
    "plt.rcParams['font.size'] = 14\n",
    "plt.plot(\n",
    "    temperatures,\n",
    "    wendt_abraham_parameter, \n",
    ");\n",
    "plt.xlabel('$T$, $\\epsilon / k_B $');\n",
    "plt.ylabel('$r_{WA}(T)$');\n",
    "\n",
    "save_plot(f'rdf_{plot_filename_postfix}.png')"
   ]
  },
  {
   "cell_type": "markdown",
   "metadata": {},
   "source": [
    "#### Временная зависимость среднеквадратичного смещения $\\left<\\Delta r^2(t)\\right>$ при различных температурах\n",
    "\n",
    "$$\\left<\\Delta r^2(t)\\right>=\\dfrac{1}{N}\\sum_{i=1}^{N}{\\left|\\textbf{r}_i(t)-\\textbf{r}_i(0)\\right|^2}$$"
   ]
  },
  {
   "cell_type": "code",
   "execution_count": null,
   "metadata": {},
   "outputs": [],
   "source": [
    "for i, temperature in enumerate(temperatures):\n",
    "    plt.plot(\n",
    "        msd_data['time'],\n",
    "        msd_data[f'{temperature:.5f}'], \n",
    "        label=f'T = {temperature:.1f} $\\epsilon / k_B $',\n",
    "    );\n",
    "    \n",
    "plt.xlabel(r'$t$, $\\tau $');\n",
    "plt.ylabel(r'$\\left<\\Delta r^2(t)\\right>$, $\\sigma^2$');\n",
    "plt.xlim(\n",
    "    left=0, \n",
    "    right=5,\n",
    ");\n",
    "plt.ylim(\n",
    "    bottom=0, \n",
    "    top=7,\n",
    ");\n",
    "plt.legend();\n",
    "\n",
    "save_plot(f'msd_{plot_filename_postfix}.png')"
   ]
  },
  {
   "cell_type": "markdown",
   "metadata": {},
   "source": [
    "#### Временная зависимость автокорреляционнной функции скорости $\\Psi(t)$ при различных температурах\n",
    "\n",
    "$$\\Psi(t) = \\dfrac{1}{N}\\left<\\sum_{j=1}^N{\\vec{v}_j(t)\\vec{v}_j(0)}\\right>$$"
   ]
  },
  {
   "cell_type": "code",
   "execution_count": null,
   "metadata": {},
   "outputs": [],
   "source": [
    "for i, temperature in enumerate(temperatures):\n",
    "    plt.plot(\n",
    "        vel_autocor_data['time'],\n",
    "        vel_autocor_data[f'{temperature:.5f}'], \n",
    "        label=f'T = {temperature:.1f} $\\epsilon / k_B $',\n",
    "    );\n",
    "    \n",
    "plt.xlabel(r'$t$, $\\tau $');\n",
    "plt.ylabel(r'$\\Psi(t)$, $\\sigma^2$');\n",
    "plt.xlim(\n",
    "    left=0, \n",
    "    right=1,\n",
    ");\n",
    "plt.ylim(\n",
    "#     bottom=0, \n",
    "#     top=20,\n",
    ");\n",
    "plt.legend();\n",
    "\n",
    "save_plot(f'vel_autocorr_{plot_filename_postfix}.png')"
   ]
  },
  {
   "cell_type": "markdown",
   "metadata": {},
   "source": [
    "#### Временная зависимость коэффициента самодиффузии $D$, вычисленного через соотношение Эйнштейна, при различных температурах\n",
    "\n",
    "$$D_E(t)=\\dfrac{\\left<\\left<\\Delta r^2\\right>\\right>}{6t}=\\dfrac{1}{6tN}\\left<\\sum_{i=1}^{N}\\left|\\textbf{r}_i(t)-\\textbf{r}_i(0)\\right|^2\\right>$$\n",
    "\n",
    "$$D=\\lim_{t\\rightarrow\\infty}{D_E(t)}$$"
   ]
  },
  {
   "cell_type": "code",
   "execution_count": null,
   "metadata": {},
   "outputs": [],
   "source": [
    "einstein_diffusion = np.zeros(len(temperatures), dtype=np.float)\n",
    "green_kubo_diffusion = np.zeros(len(temperatures), dtype=np.float)"
   ]
  },
  {
   "cell_type": "code",
   "execution_count": null,
   "metadata": {},
   "outputs": [],
   "source": [
    "for i, temperature in enumerate(temperatures):\n",
    "    diff_data = einstein_diffusion_data[f'{temperature:.5f}'].values\n",
    "    plt.plot(\n",
    "        einstein_diffusion_data['time'].values,\n",
    "        diff_data, \n",
    "        label=f'T = {temperature:.1f} $\\epsilon / k_B$',\n",
    "    );\n",
    "    einstein_diffusion[i] = diff_data[-1]\n",
    "    \n",
    "plt.xlabel(r'$t$, $\\tau$');\n",
    "plt.ylabel(r'$D_E(t)$, $\\sigma^2 / \\tau$');\n",
    "plt.xlim(\n",
    "    left=0, \n",
    "    right=8,\n",
    ");\n",
    "plt.ylim(\n",
    "#     bottom=0, \n",
    "    top=0.25,\n",
    ");\n",
    "plt.legend();\n",
    "\n",
    "save_plot(f'diffusion_einstein_{plot_filename_postfix}.png')"
   ]
  },
  {
   "cell_type": "markdown",
   "metadata": {},
   "source": [
    "#### Временная зависимость коэффициента самодиффузии $D$, вычисленного через соотношение Грина-Кубо, при различных температурах\n",
    "\n",
    "$$D_{GK}(t)=\\dfrac{1}{3}\\int_{0}^{t}{\\Psi(\\tau)d\\tau}=\\dfrac{1}{3N}\\int_{0}^{t}{\\left<\\sum_{j=1}^N{\\vec{v}_j(\\tau)\\vec{v}_j(0)}\\right>d\\tau}$$\n",
    "\n",
    "$$D=\\lim_{t\\rightarrow\\infty}{D_{GK}(t)}$$"
   ]
  },
  {
   "cell_type": "code",
   "execution_count": null,
   "metadata": {},
   "outputs": [],
   "source": [
    "for i, temperature in enumerate(temperatures):\n",
    "    diff_data = green_kubo_diffusion_data[f'{temperature:.5f}'].values\n",
    "    plt.plot(\n",
    "        green_kubo_diffusion_data['time'].values,\n",
    "        diff_data, \n",
    "        label=f'T = {temperature:.1f} $\\epsilon / k_B$',\n",
    "    );\n",
    "    green_kubo_diffusion[i] = diff_data[-1]\n",
    "    \n",
    "plt.xlabel(r'$t$, $\\tau$');\n",
    "plt.ylabel(r'$D_{GK}(t)$, $\\sigma^2 / \\tau$');\n",
    "plt.xlim(\n",
    "    left=0, \n",
    "    right=8,\n",
    ");\n",
    "plt.ylim(\n",
    "#     bottom=0, \n",
    "    top=0.27,\n",
    ");\n",
    "plt.legend();\n",
    "\n",
    "save_plot(f'diffusion_green_kubo_{plot_filename_postfix}.png')"
   ]
  },
  {
   "cell_type": "markdown",
   "metadata": {},
   "source": [
    "#### Сравнение коэффициентов самодиффузии, вычисленных через соотношения Эйнштейна и Грина-Кубо"
   ]
  },
  {
   "cell_type": "code",
   "execution_count": null,
   "metadata": {},
   "outputs": [],
   "source": [
    "plt.scatter(\n",
    "    np.array(temperatures),\n",
    "    einstein_diffusion, \n",
    "    label='Einstein relation',\n",
    ");\n",
    "plt.scatter(\n",
    "    np.array(temperatures),\n",
    "    green_kubo_diffusion, \n",
    "    label='Green-Kubo relation',\n",
    "); \n",
    "plt.xlabel(r'$T$, $\\epsilon / k_B$');\n",
    "plt.ylabel(r'$D$, $\\sigma^2 / \\tau$');\n",
    "plt.xlim(\n",
    "    left=0, \n",
    "    right=3,\n",
    ");\n",
    "plt.ylim(\n",
    "#     bottom=0, \n",
    "#     top=0.1,\n",
    ");\n",
    "plt.legend(markerscale=1);\n",
    "\n",
    "\n",
    "save_plot(f'diffusion_comparing_{plot_filename_postfix}.png')"
   ]
  },
  {
   "cell_type": "markdown",
   "metadata": {},
   "source": [
    "#### Извлечение параметров системы из файла"
   ]
  },
  {
   "cell_type": "code",
   "execution_count": null,
   "metadata": {},
   "outputs": [],
   "source": [
    "system_parameters = pd.read_csv(parameters_filename, sep=';')\n",
    "\n",
    "for column in system_parameters.columns:\n",
    "    system_parameters[column] = system_parameters[column].round(5)\n",
    "\n",
    "system_parameters"
   ]
  },
  {
   "cell_type": "code",
   "execution_count": null,
   "metadata": {},
   "outputs": [],
   "source": [
    "times = (system_parameters.index + 1) * 0.005"
   ]
  },
  {
   "cell_type": "markdown",
   "metadata": {},
   "source": [
    "#### Зависимость температуры системы от времени"
   ]
  },
  {
   "cell_type": "code",
   "execution_count": null,
   "metadata": {},
   "outputs": [],
   "source": [
    "plt.scatter(\n",
    "    times,\n",
    "    system_parameters['temperature'],\n",
    "    s=1,\n",
    ");\n",
    "plt.xlabel(r'$t$, $\\tau$');\n",
    "plt.ylabel(r'Temperature, $\\epsilon / k_B$');\n",
    "\n",
    "plt.xlim(\n",
    "    left=0,\n",
    "    right=200,\n",
    ");\n",
    "plt.ylim(\n",
    "#     bottom=2.75,\n",
    "    top=3,\n",
    ");\n",
    "\n",
    "save_plot(f'temperature_{plot_filename_postfix}.png')"
   ]
  },
  {
   "cell_type": "markdown",
   "metadata": {},
   "source": [
    "#### Зависимость давления системы от времени"
   ]
  },
  {
   "cell_type": "code",
   "execution_count": null,
   "metadata": {},
   "outputs": [],
   "source": [
    "plt.scatter(\n",
    "    times,\n",
    "    system_parameters['pressure'],\n",
    "    s=1,\n",
    ");\n",
    "plt.xlabel(r'$t$, $\\tau$');\n",
    "plt.ylabel(r'Pressure, $\\epsilon / \\sigma^3 $');\n",
    "\n",
    "plt.xlim(\n",
    "    left=0,\n",
    "    right=200,\n",
    ");\n",
    "plt.ylim(\n",
    "    bottom=-1,\n",
    "    top=5,\n",
    ");\n",
    "save_plot(f'pressure_{plot_filename_postfix}.png')"
   ]
  },
  {
   "cell_type": "markdown",
   "metadata": {},
   "source": [
    "#### Зависимость кинетической энергии системы от времени"
   ]
  },
  {
   "cell_type": "code",
   "execution_count": null,
   "metadata": {},
   "outputs": [],
   "source": [
    "plt.scatter(\n",
    "    times,\n",
    "    system_parameters['system_kinetic_energy'],\n",
    "    s=1,\n",
    ");\n",
    "plt.xlabel(r'$t$, $\\tau$');\n",
    "plt.ylabel(r'Kinetic Energy, $\\epsilon$');\n",
    "\n",
    "plt.xlim(\n",
    "    left=0,\n",
    "    right=200,\n",
    ");\n",
    "plt.ylim(\n",
    "#     bottom=-1,\n",
    "    top=6000,\n",
    ");\n",
    "save_plot(f'kinetic_energy_{plot_filename_postfix}.png')"
   ]
  },
  {
   "cell_type": "markdown",
   "metadata": {},
   "source": [
    "#### Зависимость потенциальной энергии системы от времени"
   ]
  },
  {
   "cell_type": "code",
   "execution_count": null,
   "metadata": {},
   "outputs": [],
   "source": [
    "plt.scatter(\n",
    "    times,\n",
    "    system_parameters['potential_energy'],\n",
    "    s=1,\n",
    ");\n",
    "plt.xlabel(r'$t$, $\\tau$');\n",
    "plt.ylabel(r'Potential Energy, $\\epsilon$');\n",
    "\n",
    "plt.xlim(\n",
    "    left=0,\n",
    "    right=200,\n",
    ");\n",
    "plt.ylim(\n",
    "    bottom=-10000,\n",
    "    top=-4000,\n",
    ");\n",
    "save_plot(f'potential_energy_{plot_filename_postfix}.png')"
   ]
  },
  {
   "cell_type": "markdown",
   "metadata": {},
   "source": [
    "#### Зависимость полной энергии системы от времени"
   ]
  },
  {
   "cell_type": "code",
   "execution_count": null,
   "metadata": {},
   "outputs": [],
   "source": [
    "plt.scatter(\n",
    "    times,\n",
    "    system_parameters['total_energy'],\n",
    "    s=1,\n",
    ");\n",
    "plt.xlabel(r'$t$, $\\tau$');\n",
    "plt.ylabel(r'Total Energy, $\\epsilon$');\n",
    "\n",
    "plt.xlim(\n",
    "    left=0,\n",
    "    right=200,\n",
    ");\n",
    "plt.ylim(\n",
    "    bottom=-10000,\n",
    "    top=2000,\n",
    ");\n",
    "save_plot(f'total_energy_{plot_filename_postfix}.png')"
   ]
  },
  {
   "cell_type": "markdown",
   "metadata": {},
   "source": [
    "#### Энергии на одном графике"
   ]
  },
  {
   "cell_type": "code",
   "execution_count": null,
   "metadata": {},
   "outputs": [],
   "source": [
    "plt.scatter(\n",
    "    times,\n",
    "    system_parameters['system_kinetic_energy'],\n",
    "    s=1,\n",
    "    label='Kinetic Energy',\n",
    ");\n",
    "plt.scatter(\n",
    "    times,\n",
    "    system_parameters['potential_energy'],\n",
    "    s=1,\n",
    "    label='Potential Energy',\n",
    ");\n",
    "plt.scatter(\n",
    "    times,\n",
    "    system_parameters['total_energy'],\n",
    "    s=1,\n",
    "    label='Total Energy',\n",
    ");\n",
    "\n",
    "plt.xlabel(r'$t$, $\\tau$');\n",
    "plt.ylabel(r'Energy, $\\epsilon$');\n",
    "plt.legend(markerscale=5);\n",
    "\n",
    "plt.xlim(\n",
    "    left=0,\n",
    "    right=200,\n",
    ");\n",
    "plt.ylim(\n",
    "    bottom=-10000,\n",
    "    top=6000,\n",
    ");\n",
    "save_plot(f'all_energies_{plot_filename_postfix}.png')"
   ]
  }
 ],
 "metadata": {
  "kernelspec": {
   "display_name": "Python 3",
   "language": "python",
   "name": "python3"
  },
  "language_info": {
   "codemirror_mode": {
    "name": "ipython",
    "version": 3
   },
   "file_extension": ".py",
   "mimetype": "text/x-python",
   "name": "python",
   "nbconvert_exporter": "python",
   "pygments_lexer": "ipython3",
   "version": "3.8.3"
  }
 },
 "nbformat": 4,
 "nbformat_minor": 4
}
