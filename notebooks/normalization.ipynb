{
 "cells": [
  {
   "cell_type": "code",
   "execution_count": 1,
   "id": "ad134352",
   "metadata": {},
   "outputs": [
    {
     "data": {
      "text/plain": [
       "'C:\\\\Users\\\\farhutdinov.a\\\\Documents\\\\Albert\\\\git_reps\\\\molecular_dynamics\\\\data'"
      ]
     },
     "execution_count": 1,
     "metadata": {},
     "output_type": "execute_result"
    }
   ],
   "source": [
    "import os\n",
    "import sys\n",
    "\n",
    "import matplotlib.pyplot as plt\n",
    "import numpy as np\n",
    "import pandas as pd\n",
    "\n",
    "sys.path.append(os.path.dirname(sys.path[0]))\n",
    "\n",
    "from scripts.constants import PATH_TO_DATA\n",
    "from scripts.postprocessing import PostProcessor\n",
    "\n",
    "PATH_TO_DATA"
   ]
  },
  {
   "cell_type": "code",
   "execution_count": 2,
   "id": "a90ca7a7",
   "metadata": {},
   "outputs": [],
   "source": [
    "rdf_files = []\n",
    "\n",
    "for root, folders, _ in os.walk(PATH_TO_DATA):\n",
    "    for folder in folders:\n",
    "        if folder.startswith('2021-07'):\n",
    "            path = os.path.join(root, folder)\n",
    "            for file in os.listdir(path):\n",
    "                if 'rdf_T_0.2' in file:\n",
    "                    rdf_files.append(os.path.join(path, file))\n"
   ]
  },
  {
   "cell_type": "code",
   "execution_count": 3,
   "id": "e9a07fda",
   "metadata": {},
   "outputs": [
    {
     "data": {
      "text/html": [
       "<div>\n",
       "<style scoped>\n",
       "    .dataframe tbody tr th:only-of-type {\n",
       "        vertical-align: middle;\n",
       "    }\n",
       "\n",
       "    .dataframe tbody tr th {\n",
       "        vertical-align: top;\n",
       "    }\n",
       "\n",
       "    .dataframe thead th {\n",
       "        text-align: right;\n",
       "    }\n",
       "</style>\n",
       "<table border=\"1\" class=\"dataframe\">\n",
       "  <thead>\n",
       "    <tr style=\"text-align: right;\">\n",
       "      <th></th>\n",
       "      <th>max_radiuses</th>\n",
       "      <th>rdf_sums</th>\n",
       "    </tr>\n",
       "  </thead>\n",
       "  <tbody>\n",
       "  </tbody>\n",
       "</table>\n",
       "</div>"
      ],
      "text/plain": [
       "Empty DataFrame\n",
       "Columns: [max_radiuses, rdf_sums]\n",
       "Index: []"
      ]
     },
     "execution_count": 3,
     "metadata": {},
     "output_type": "execute_result"
    }
   ],
   "source": [
    "max_radiuses = []\n",
    "rdf_sums = []\n",
    "\n",
    "for rdf_file in rdf_files:\n",
    "    if ('2021-09-10') in rdf_file:\n",
    "        rdf_df = pd.read_csv(rdf_file, sep=';')\n",
    "        max_radiuses.append(rdf_df.radius.max())\n",
    "        rdf_sums.append(rdf_df.rdf.sum())\n",
    "    \n",
    "aggregated = pd.DataFrame({\n",
    "    'max_radiuses': max_radiuses,\n",
    "    'rdf_sums': rdf_sums,\n",
    "})\n",
    "aggregated"
   ]
  },
  {
   "cell_type": "code",
   "execution_count": 4,
   "id": "12859c5f",
   "metadata": {},
   "outputs": [
    {
     "data": {
      "text/plain": [
       "array([[<AxesSubplot:title={'center':'max_radiuses'}>,\n",
       "        <AxesSubplot:title={'center':'rdf_sums'}>]], dtype=object)"
      ]
     },
     "execution_count": 4,
     "metadata": {},
     "output_type": "execute_result"
    },
    {
     "data": {
      "image/png": "[encoded data removed]",
      "text/plain": [
       "<Figure size 432x288 with 2 Axes>"
      ]
     },
     "metadata": {
      "needs_background": "light"
     },
     "output_type": "display_data"
    }
   ],
   "source": [
    "aggregated[aggregated.max_radiuses == 6.12].hist()"
   ]
  }
 ],
 "metadata": {
  "kernelspec": {
   "display_name": "Python 3",
   "language": "python",
   "name": "python3"
  },
  "language_info": {
   "codemirror_mode": {
    "name": "ipython",
    "version": 3
   },
   "file_extension": ".py",
   "mimetype": "text/x-python",
   "name": "python",
   "nbconvert_exporter": "python",
   "pygments_lexer": "ipython3",
   "version": "3.9.5"
  }
 },
 "nbformat": 4,
 "nbformat_minor": 5
}
