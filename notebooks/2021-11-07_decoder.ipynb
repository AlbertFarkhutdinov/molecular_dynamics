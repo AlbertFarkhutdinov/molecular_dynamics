{
 "cells": [
  {
   "cell_type": "code",
   "execution_count": 1,
   "id": "4a6a23c2",
   "metadata": {},
   "outputs": [],
   "source": [
    "import os\n",
    "import sys"
   ]
  },
  {
   "cell_type": "code",
   "execution_count": 2,
   "id": "a86b5faa",
   "metadata": {},
   "outputs": [],
   "source": [
    "import keras\n",
    "# from keras.datasets import mnist\n",
    "from keras import layers\n",
    "import matplotlib.pyplot as plt\n",
    "import numpy as np\n",
    "import pandas as pd\n",
    "import tensorflow as tf"
   ]
  },
  {
   "cell_type": "code",
   "execution_count": 3,
   "id": "31748e56",
   "metadata": {},
   "outputs": [],
   "source": [
    "plt.style.use('seaborn')"
   ]
  },
  {
   "cell_type": "code",
   "execution_count": 4,
   "id": "bbba854a",
   "metadata": {},
   "outputs": [],
   "source": [
    "sys.path.append(os.path.dirname(sys.path[0]))\n",
    "\n",
    "import scripts.constants as con"
   ]
  },
  {
   "cell_type": "code",
   "execution_count": 5,
   "id": "6f39c9e5",
   "metadata": {},
   "outputs": [
    {
     "data": {
      "text/plain": [
       "'D:\\\\albert\\\\programming\\\\git_reps\\\\molecular_dynamics\\\\data\\\\2021-09-24_prepared_1.3_normal'"
      ]
     },
     "execution_count": 5,
     "metadata": {},
     "output_type": "execute_result"
    }
   ],
   "source": [
    "CURRENT_DATA_NORMAL = '2021-09-24_prepared_1.3_normal'\n",
    "PLOT_FILENAME_POSTFIX_NORMAL = 'prepared_1.3_normal'\n",
    "\n",
    "PATH_TO_CURRENT_DATA_NORMAL = os.path.join(con.PATH_TO_DATA, CURRENT_DATA_NORMAL)\n",
    "PATH_TO_CURRENT_DATA_NORMAL"
   ]
  },
  {
   "cell_type": "code",
   "execution_count": 6,
   "id": "df86ef83",
   "metadata": {},
   "outputs": [
    {
     "data": {
      "text/plain": [
       "((2464, 612), (1, 612), (2464, 1372, 3))"
      ]
     },
     "execution_count": 6,
     "metadata": {},
     "output_type": "execute_result"
    }
   ],
   "source": [
    "samples = np.load(os.path.join(PATH_TO_CURRENT_DATA_NORMAL, 'samples.npy'))\n",
    "test_sample = np.load(os.path.join(PATH_TO_CURRENT_DATA_NORMAL, 'test_sample.npy'))\n",
    "targets = np.load(os.path.join(PATH_TO_CURRENT_DATA_NORMAL, 'targets_pbc.npy'))\n",
    "\n",
    "samples.shape, test_sample.shape, targets.shape"
   ]
  },
  {
   "cell_type": "code",
   "execution_count": 7,
   "id": "cabf961e",
   "metadata": {},
   "outputs": [],
   "source": [
    "def get_decoder(\n",
    "        input_shape,\n",
    "        output_shape,\n",
    "        intermediate_dimension: int,\n",
    "):\n",
    "    inputs = keras.Input(shape=input_shape)\n",
    "    outputs = layers.Dense(\n",
    "        intermediate_dimension,\n",
    "#         activation=\"relu\",\n",
    "    )(inputs)\n",
    "#     outputs = layers.Dense(\n",
    "#         intermediate_dimension,\n",
    "#         activation='sigmoid',\n",
    "#     )(outputs)\n",
    "#     outputs = layers.Dense(\n",
    "#         intermediate_dimension,\n",
    "#         activation=\"relu\",\n",
    "#     )(outputs)\n",
    "    outputs = layers.Reshape(output_shape)(outputs)\n",
    "    return keras.Model(inputs, outputs, name=\"decoder\")"
   ]
  },
  {
   "cell_type": "code",
   "execution_count": 8,
   "id": "eecc10b1",
   "metadata": {},
   "outputs": [
    {
     "name": "stdout",
     "output_type": "stream",
     "text": [
      "Model: \"decoder\"\n",
      "_________________________________________________________________\n",
      "Layer (type)                 Output Shape              Param #   \n",
      "=================================================================\n",
      "input_1 (InputLayer)         [(None, 612)]             0         \n",
      "_________________________________________________________________\n",
      "dense (Dense)                (None, 4116)              2523108   \n",
      "_________________________________________________________________\n",
      "reshape (Reshape)            (None, 1372, 3)           0         \n",
      "=================================================================\n",
      "Total params: 2,523,108\n",
      "Trainable params: 2,523,108\n",
      "Non-trainable params: 0\n",
      "_________________________________________________________________\n"
     ]
    }
   ],
   "source": [
    "DECODER = get_decoder(\n",
    "    input_shape=samples.shape[1:],\n",
    "    output_shape=targets.shape[1:],\n",
    "    intermediate_dimension=np.array(targets.shape[1:]).prod(),\n",
    ")\n",
    "DECODER.summary()"
   ]
  },
  {
   "cell_type": "code",
   "execution_count": 9,
   "id": "9235489e",
   "metadata": {},
   "outputs": [],
   "source": [
    "DECODER.compile(\n",
    "    optimizer=tf.keras.optimizers.Adam(),\n",
    "    loss='mean_squared_error',\n",
    ")"
   ]
  },
  {
   "cell_type": "code",
   "execution_count": 10,
   "id": "ab66233a",
   "metadata": {},
   "outputs": [
    {
     "name": "stdout",
     "output_type": "stream",
     "text": [
      "Epoch 1/50\n",
      "13/13 [==============================] - 4s 182ms/step - loss: 7.1243\n",
      "Epoch 2/50\n",
      "13/13 [==============================] - 2s 183ms/step - loss: 5.5545\n",
      "Epoch 3/50\n",
      "13/13 [==============================] - 2s 175ms/step - loss: 5.2557\n",
      "Epoch 4/50\n",
      "13/13 [==============================] - 2s 186ms/step - loss: 5.1874\n",
      "Epoch 5/50\n",
      "13/13 [==============================] - 2s 188ms/step - loss: 5.1699\n",
      "Epoch 6/50\n",
      "13/13 [==============================] - 2s 183ms/step - loss: 5.1666\n",
      "Epoch 7/50\n",
      "13/13 [==============================] - 2s 172ms/step - loss: 5.1651\n",
      "Epoch 8/50\n",
      "13/13 [==============================] - 2s 164ms/step - loss: 5.1675\n",
      "Epoch 9/50\n",
      "13/13 [==============================] - 2s 158ms/step - loss: 5.1638\n",
      "Epoch 10/50\n",
      "13/13 [==============================] - 2s 176ms/step - loss: 5.1789\n",
      "Epoch 11/50\n",
      "13/13 [==============================] - 2s 186ms/step - loss: 5.1661\n",
      "Epoch 12/50\n",
      "13/13 [==============================] - 2s 174ms/step - loss: 5.1681\n",
      "Epoch 13/50\n",
      "13/13 [==============================] - 3s 238ms/step - loss: 5.1681\n",
      "Epoch 14/50\n",
      "13/13 [==============================] - 3s 241ms/step - loss: 5.1721\n",
      "Epoch 15/50\n",
      "13/13 [==============================] - 3s 202ms/step - loss: 5.1636\n",
      "Epoch 16/50\n",
      "13/13 [==============================] - 2s 188ms/step - loss: 5.1611\n",
      "Epoch 17/50\n",
      "13/13 [==============================] - 3s 193ms/step - loss: 5.1661\n",
      "Epoch 18/50\n",
      "13/13 [==============================] - 2s 189ms/step - loss: 5.1651 1s - l\n",
      "Epoch 19/50\n",
      "13/13 [==============================] - 3s 200ms/step - loss: 5.1671\n",
      "Epoch 20/50\n",
      "13/13 [==============================] - 2s 191ms/step - loss: 5.1725\n",
      "Epoch 21/50\n",
      "13/13 [==============================] - 2s 191ms/step - loss: 5.1723\n",
      "Epoch 22/50\n",
      "13/13 [==============================] - 3s 191ms/step - loss: 5.1650\n",
      "Epoch 23/50\n",
      "13/13 [==============================] - 3s 192ms/step - loss: 5.1697\n",
      "Epoch 24/50\n",
      "13/13 [==============================] - 3s 193ms/step - loss: 5.1684\n",
      "Epoch 25/50\n",
      "13/13 [==============================] - 3s 220ms/step - loss: 5.1669 0s - loss: 5.16\n",
      "Epoch 26/50\n",
      "13/13 [==============================] - 3s 210ms/step - loss: 5.1643\n",
      "Epoch 27/50\n",
      "13/13 [==============================] - 3s 209ms/step - loss: 5.1804\n",
      "Epoch 28/50\n",
      "13/13 [==============================] - 3s 210ms/step - loss: 5.1678\n",
      "Epoch 29/50\n",
      "13/13 [==============================] - 3s 194ms/step - loss: 5.1637\n",
      "Epoch 30/50\n",
      "13/13 [==============================] - 3s 220ms/step - loss: 5.1660\n",
      "Epoch 31/50\n",
      "13/13 [==============================] - 3s 201ms/step - loss: 5.1711\n",
      "Epoch 32/50\n",
      "13/13 [==============================] - 3s 201ms/step - loss: 5.1657\n",
      "Epoch 33/50\n",
      "13/13 [==============================] - 3s 196ms/step - loss: 5.1637\n",
      "Epoch 34/50\n",
      "13/13 [==============================] - 2s 189ms/step - loss: 5.1665\n",
      "Epoch 35/50\n",
      "13/13 [==============================] - 2s 189ms/step - loss: 5.1632\n",
      "Epoch 36/50\n",
      "13/13 [==============================] - 2s 187ms/step - loss: 5.1577\n",
      "Epoch 37/50\n",
      "13/13 [==============================] - 2s 189ms/step - loss: 5.1585\n",
      "Epoch 38/50\n",
      "13/13 [==============================] - 2s 187ms/step - loss: 5.1645 2s - l\n",
      "Epoch 39/50\n",
      "13/13 [==============================] - 2s 193ms/step - loss: 5.1561\n",
      "Epoch 40/50\n",
      "13/13 [==============================] - 2s 174ms/step - loss: 5.1568 0s - loss: 5\n",
      "Epoch 41/50\n",
      "13/13 [==============================] - 2s 180ms/step - loss: 5.1598\n",
      "Epoch 42/50\n",
      "13/13 [==============================] - 3s 206ms/step - loss: 5.1536\n",
      "Epoch 43/50\n",
      "13/13 [==============================] - 3s 198ms/step - loss: 5.1532\n",
      "Epoch 44/50\n",
      "13/13 [==============================] - 2s 188ms/step - loss: 5.1528\n",
      "Epoch 45/50\n",
      "13/13 [==============================] - 2s 180ms/step - loss: 5.1638 1s - loss:\n",
      "Epoch 46/50\n",
      "13/13 [==============================] - 2s 180ms/step - loss: 5.1638\n",
      "Epoch 47/50\n",
      "13/13 [==============================] - 3s 218ms/step - loss: 5.1577\n",
      "Epoch 48/50\n",
      "13/13 [==============================] - 3s 195ms/step - loss: 5.1655\n",
      "Epoch 49/50\n",
      "13/13 [==============================] - 3s 203ms/step - loss: 5.1759\n",
      "Epoch 50/50\n",
      "13/13 [==============================] - 2s 175ms/step - loss: 5.1743\n"
     ]
    },
    {
     "data": {
      "text/plain": [
       "<keras.callbacks.History at 0x1c8b90b7580>"
      ]
     },
     "execution_count": 10,
     "metadata": {},
     "output_type": "execute_result"
    }
   ],
   "source": [
    "DECODER.fit(\n",
    "    samples, \n",
    "    targets, \n",
    "    epochs=50, \n",
    "    shuffle=True, \n",
    "    batch_size=200,\n",
    ")"
   ]
  },
  {
   "cell_type": "code",
   "execution_count": 11,
   "id": "11910013",
   "metadata": {},
   "outputs": [
    {
     "name": "stdout",
     "output_type": "stream",
     "text": [
      "7.909325490484906\n",
      "7.852751318206943\n",
      "7.884929584523756\n",
      "7.932246546215034\n",
      "7.953409071687499\n",
      "7.95644770759235\n",
      "7.93483881543412\n",
      "7.959748183874971\n",
      "7.929008796871508\n",
      "7.862710523395536\n"
     ]
    }
   ],
   "source": [
    "for i in range(10):\n",
    "    print(\n",
    "        tf.keras.metrics.mean_squared_error(DECODER.predict(np.array([samples[i]])), targets[i]).numpy().mean()\n",
    "    )"
   ]
  },
  {
   "cell_type": "code",
   "execution_count": 12,
   "id": "0b1aee4b",
   "metadata": {},
   "outputs": [
    {
     "data": {
      "text/plain": [
       "array([[ 4.756565  , -3.0414445 , -2.9809086 ],\n",
       "       [ 0.3265209 ,  0.17024691,  3.8261206 ],\n",
       "       [ 3.021497  ,  3.0632203 ,  0.5158962 ],\n",
       "       ...,\n",
       "       [-0.6410391 ,  4.949476  , -4.736176  ],\n",
       "       [-1.6725765 ,  1.0683364 , -3.805836  ],\n",
       "       [-1.975606  ,  4.3029933 , -4.814601  ]], dtype=float32)"
      ]
     },
     "execution_count": 12,
     "metadata": {},
     "output_type": "execute_result"
    }
   ],
   "source": [
    "predicted = DECODER.predict(test_sample)[0]\n",
    "predicted"
   ]
  },
  {
   "cell_type": "code",
   "execution_count": 13,
   "id": "bec2669f",
   "metadata": {},
   "outputs": [],
   "source": [
    "PREDICTED = pd.DataFrame(predicted, columns=['x', 'y', 'z'])\n",
    "PREDICTED[['v_x', 'v_y', 'v_z']] = 0.0\n",
    "PREDICTED[['a_x', 'a_y', 'a_z']] = 0.0\n",
    "PREDICTED[['L_x', 'L_y', 'L_z']] = 12.25\n",
    "PREDICTED['particles_number'] = 1372\n",
    "PREDICTED['time'] = 0.0\n",
    "\n",
    "PREDICTED.to_csv(\n",
    "    os.path.join(PATH_TO_CURRENT_DATA_NORMAL, 'predicted_configuration.csv'),\n",
    "    sep=';', \n",
    "    index=False,\n",
    ")"
   ]
  },
  {
   "cell_type": "code",
   "execution_count": 14,
   "id": "781b46a5",
   "metadata": {},
   "outputs": [
    {
     "data": {
      "text/html": [
       "<div>\n",
       "<style scoped>\n",
       "    .dataframe tbody tr th:only-of-type {\n",
       "        vertical-align: middle;\n",
       "    }\n",
       "\n",
       "    .dataframe tbody tr th {\n",
       "        vertical-align: top;\n",
       "    }\n",
       "\n",
       "    .dataframe thead th {\n",
       "        text-align: right;\n",
       "    }\n",
       "</style>\n",
       "<table border=\"1\" class=\"dataframe\">\n",
       "  <thead>\n",
       "    <tr style=\"text-align: right;\">\n",
       "      <th></th>\n",
       "      <th>radius</th>\n",
       "      <th>rdf</th>\n",
       "    </tr>\n",
       "  </thead>\n",
       "  <tbody>\n",
       "    <tr>\n",
       "      <th>0</th>\n",
       "      <td>0.01</td>\n",
       "      <td>0.000000</td>\n",
       "    </tr>\n",
       "    <tr>\n",
       "      <th>1</th>\n",
       "      <td>0.02</td>\n",
       "      <td>0.000000</td>\n",
       "    </tr>\n",
       "    <tr>\n",
       "      <th>2</th>\n",
       "      <td>0.03</td>\n",
       "      <td>0.000000</td>\n",
       "    </tr>\n",
       "    <tr>\n",
       "      <th>3</th>\n",
       "      <td>0.04</td>\n",
       "      <td>0.000000</td>\n",
       "    </tr>\n",
       "    <tr>\n",
       "      <th>4</th>\n",
       "      <td>0.05</td>\n",
       "      <td>0.000000</td>\n",
       "    </tr>\n",
       "    <tr>\n",
       "      <th>...</th>\n",
       "      <td>...</td>\n",
       "      <td>...</td>\n",
       "    </tr>\n",
       "    <tr>\n",
       "      <th>607</th>\n",
       "      <td>6.08</td>\n",
       "      <td>1.015384</td>\n",
       "    </tr>\n",
       "    <tr>\n",
       "      <th>608</th>\n",
       "      <td>6.09</td>\n",
       "      <td>1.022109</td>\n",
       "    </tr>\n",
       "    <tr>\n",
       "      <th>609</th>\n",
       "      <td>6.10</td>\n",
       "      <td>0.983257</td>\n",
       "    </tr>\n",
       "    <tr>\n",
       "      <th>610</th>\n",
       "      <td>6.11</td>\n",
       "      <td>1.007102</td>\n",
       "    </tr>\n",
       "    <tr>\n",
       "      <th>611</th>\n",
       "      <td>6.12</td>\n",
       "      <td>1.015433</td>\n",
       "    </tr>\n",
       "  </tbody>\n",
       "</table>\n",
       "<p>612 rows × 2 columns</p>\n",
       "</div>"
      ],
      "text/plain": [
       "     radius       rdf\n",
       "0      0.01  0.000000\n",
       "1      0.02  0.000000\n",
       "2      0.03  0.000000\n",
       "3      0.04  0.000000\n",
       "4      0.05  0.000000\n",
       "..      ...       ...\n",
       "607    6.08  1.015384\n",
       "608    6.09  1.022109\n",
       "609    6.10  0.983257\n",
       "610    6.11  1.007102\n",
       "611    6.12  1.015433\n",
       "\n",
       "[612 rows x 2 columns]"
      ]
     },
     "execution_count": 14,
     "metadata": {},
     "output_type": "execute_result"
    }
   ],
   "source": [
    "PREDICTED_RDF = pd.read_csv(\n",
    "    os.path.join(PATH_TO_CURRENT_DATA_NORMAL, 'predicted_rdf_1.csv'),\n",
    "    sep=';', \n",
    ")\n",
    "PREDICTED_RDF"
   ]
  },
  {
   "cell_type": "code",
   "execution_count": 15,
   "id": "a563e2f5",
   "metadata": {},
   "outputs": [],
   "source": [
    "LIMIT = 520"
   ]
  },
  {
   "cell_type": "code",
   "execution_count": 16,
   "id": "e2a09258",
   "metadata": {},
   "outputs": [
    {
     "data": {
      "image/png": "[encoded data removed]",
      "text/plain": [
       "<Figure size 576x396 with 1 Axes>"
      ]
     },
     "metadata": {},
     "output_type": "display_data"
    }
   ],
   "source": [
    "plt.plot(PREDICTED_RDF.head(LIMIT).rdf, color='black')\n",
    "plt.plot(test_sample[0][:LIMIT], color='red')\n",
    "plt.show()"
   ]
  },
  {
   "cell_type": "code",
   "execution_count": 17,
   "id": "7a290f63",
   "metadata": {},
   "outputs": [
    {
     "data": {
      "image/png": "[encoded data removed]",
      "text/plain": [
       "<Figure size 576x396 with 1 Axes>"
      ]
     },
     "metadata": {},
     "output_type": "display_data"
    }
   ],
   "source": [
    "plt.plot(PREDICTED_RDF[PREDICTED_RDF.rdf > 0].head(LIMIT).rdf, color='black')\n",
    "plt.plot(test_sample[0][test_sample[0] > 0][:LIMIT], color='red')\n",
    "plt.show()"
   ]
  },
  {
   "cell_type": "code",
   "execution_count": 18,
   "id": "36dc76d6",
   "metadata": {},
   "outputs": [
    {
     "data": {
      "text/plain": [
       "0.12238392800331695"
      ]
     },
     "execution_count": 18,
     "metadata": {},
     "output_type": "execute_result"
    }
   ],
   "source": [
    "tf.keras.metrics.mean_squared_error(\n",
    "    PREDICTED_RDF[PREDICTED_RDF.rdf > 0].head(LIMIT).rdf, \n",
    "    test_sample[0][test_sample[0] > 0][:LIMIT]\n",
    ").numpy()"
   ]
  },
  {
   "cell_type": "code",
   "execution_count": 19,
   "id": "35805f0f",
   "metadata": {},
   "outputs": [],
   "source": [
    "samples[0].reshape(1, -1)\n",
    "test_sample = samples[0].reshape(1, -1)"
   ]
  },
  {
   "cell_type": "code",
   "execution_count": 20,
   "id": "f0b79873",
   "metadata": {},
   "outputs": [
    {
     "data": {
      "text/plain": [
       "array([[ 4.767517  , -3.0300593 , -3.0077755 ],\n",
       "       [ 0.31849828,  0.18318193,  3.827608  ],\n",
       "       [ 3.0373151 ,  3.0337057 ,  0.5417754 ],\n",
       "       ...,\n",
       "       [-0.6338633 ,  4.9324055 , -4.7003183 ],\n",
       "       [-1.6567606 ,  1.0840805 , -3.810625  ],\n",
       "       [-1.981785  ,  4.2872415 , -4.783718  ]], dtype=float32)"
      ]
     },
     "execution_count": 20,
     "metadata": {},
     "output_type": "execute_result"
    }
   ],
   "source": [
    "predicted = DECODER.predict(samples[0].reshape(1, -1))[0]\n",
    "predicted"
   ]
  },
  {
   "cell_type": "code",
   "execution_count": 21,
   "id": "03ab958c",
   "metadata": {},
   "outputs": [],
   "source": [
    "PREDICTED = pd.DataFrame(predicted, columns=['x', 'y', 'z'])\n",
    "PREDICTED[['v_x', 'v_y', 'v_z']] = 0.0\n",
    "PREDICTED[['a_x', 'a_y', 'a_z']] = 0.0\n",
    "PREDICTED[['L_x', 'L_y', 'L_z']] = 12.25\n",
    "PREDICTED['particles_number'] = 1372\n",
    "PREDICTED['time'] = 0.0\n",
    "\n",
    "PREDICTED.to_csv(\n",
    "    os.path.join(PATH_TO_CURRENT_DATA_NORMAL, 'predicted_configuration.csv'),\n",
    "    sep=';', \n",
    "    index=False,\n",
    ")"
   ]
  },
  {
   "cell_type": "code",
   "execution_count": 22,
   "id": "1422ee23",
   "metadata": {},
   "outputs": [
    {
     "data": {
      "text/html": [
       "<div>\n",
       "<style scoped>\n",
       "    .dataframe tbody tr th:only-of-type {\n",
       "        vertical-align: middle;\n",
       "    }\n",
       "\n",
       "    .dataframe tbody tr th {\n",
       "        vertical-align: top;\n",
       "    }\n",
       "\n",
       "    .dataframe thead th {\n",
       "        text-align: right;\n",
       "    }\n",
       "</style>\n",
       "<table border=\"1\" class=\"dataframe\">\n",
       "  <thead>\n",
       "    <tr style=\"text-align: right;\">\n",
       "      <th></th>\n",
       "      <th>radius</th>\n",
       "      <th>rdf</th>\n",
       "    </tr>\n",
       "  </thead>\n",
       "  <tbody>\n",
       "    <tr>\n",
       "      <th>0</th>\n",
       "      <td>0.01</td>\n",
       "      <td>0.000000</td>\n",
       "    </tr>\n",
       "    <tr>\n",
       "      <th>1</th>\n",
       "      <td>0.02</td>\n",
       "      <td>0.000000</td>\n",
       "    </tr>\n",
       "    <tr>\n",
       "      <th>2</th>\n",
       "      <td>0.03</td>\n",
       "      <td>0.000000</td>\n",
       "    </tr>\n",
       "    <tr>\n",
       "      <th>3</th>\n",
       "      <td>0.04</td>\n",
       "      <td>0.000000</td>\n",
       "    </tr>\n",
       "    <tr>\n",
       "      <th>4</th>\n",
       "      <td>0.05</td>\n",
       "      <td>0.000000</td>\n",
       "    </tr>\n",
       "    <tr>\n",
       "      <th>...</th>\n",
       "      <td>...</td>\n",
       "      <td>...</td>\n",
       "    </tr>\n",
       "    <tr>\n",
       "      <th>607</th>\n",
       "      <td>6.08</td>\n",
       "      <td>1.015384</td>\n",
       "    </tr>\n",
       "    <tr>\n",
       "      <th>608</th>\n",
       "      <td>6.09</td>\n",
       "      <td>1.022109</td>\n",
       "    </tr>\n",
       "    <tr>\n",
       "      <th>609</th>\n",
       "      <td>6.10</td>\n",
       "      <td>0.983257</td>\n",
       "    </tr>\n",
       "    <tr>\n",
       "      <th>610</th>\n",
       "      <td>6.11</td>\n",
       "      <td>1.007102</td>\n",
       "    </tr>\n",
       "    <tr>\n",
       "      <th>611</th>\n",
       "      <td>6.12</td>\n",
       "      <td>1.015433</td>\n",
       "    </tr>\n",
       "  </tbody>\n",
       "</table>\n",
       "<p>612 rows × 2 columns</p>\n",
       "</div>"
      ],
      "text/plain": [
       "     radius       rdf\n",
       "0      0.01  0.000000\n",
       "1      0.02  0.000000\n",
       "2      0.03  0.000000\n",
       "3      0.04  0.000000\n",
       "4      0.05  0.000000\n",
       "..      ...       ...\n",
       "607    6.08  1.015384\n",
       "608    6.09  1.022109\n",
       "609    6.10  0.983257\n",
       "610    6.11  1.007102\n",
       "611    6.12  1.015433\n",
       "\n",
       "[612 rows x 2 columns]"
      ]
     },
     "execution_count": 22,
     "metadata": {},
     "output_type": "execute_result"
    }
   ],
   "source": [
    "PREDICTED_RDF = pd.read_csv(\n",
    "    os.path.join(PATH_TO_CURRENT_DATA_NORMAL, 'predicted_rdf_1.csv'),\n",
    "    sep=';', \n",
    ")\n",
    "PREDICTED_RDF"
   ]
  },
  {
   "cell_type": "code",
   "execution_count": 23,
   "id": "7d04bc76",
   "metadata": {},
   "outputs": [],
   "source": [
    "LIMIT = 520"
   ]
  },
  {
   "cell_type": "code",
   "execution_count": 24,
   "id": "40475717",
   "metadata": {},
   "outputs": [
    {
     "data": {
      "image/png": "[encoded data removed]",
      "text/plain": [
       "<Figure size 576x396 with 1 Axes>"
      ]
     },
     "metadata": {},
     "output_type": "display_data"
    }
   ],
   "source": [
    "plt.plot(PREDICTED_RDF.head(LIMIT).rdf, color='black')\n",
    "plt.plot(test_sample[0][:LIMIT], color='red')\n",
    "plt.show()"
   ]
  },
  {
   "cell_type": "code",
   "execution_count": 25,
   "id": "93c4e6d0",
   "metadata": {},
   "outputs": [
    {
     "data": {
      "image/png": "[encoded data removed]",
      "text/plain": [
       "<Figure size 576x396 with 1 Axes>"
      ]
     },
     "metadata": {},
     "output_type": "display_data"
    }
   ],
   "source": [
    "plt.plot(PREDICTED_RDF[PREDICTED_RDF.rdf > 0].head(LIMIT).rdf, color='black')\n",
    "plt.plot(test_sample[0][test_sample[0] > 0][:LIMIT], color='red')\n",
    "plt.show()"
   ]
  },
  {
   "cell_type": "code",
   "execution_count": 26,
   "id": "768eb8d7",
   "metadata": {},
   "outputs": [
    {
     "data": {
      "text/plain": [
       "0.10807381430420007"
      ]
     },
     "execution_count": 26,
     "metadata": {},
     "output_type": "execute_result"
    }
   ],
   "source": [
    "tf.keras.metrics.mean_squared_error(\n",
    "    PREDICTED_RDF[PREDICTED_RDF.rdf > 0].head(LIMIT).rdf, \n",
    "    test_sample[0][test_sample[0] > 0][:LIMIT]\n",
    ").numpy()"
   ]
  }
 ],
 "metadata": {
  "kernelspec": {
   "display_name": "Python 3 (ipykernel)",
   "language": "python",
   "name": "python3"
  },
  "language_info": {
   "codemirror_mode": {
    "name": "ipython",
    "version": 3
   },
   "file_extension": ".py",
   "mimetype": "text/x-python",
   "name": "python",
   "nbconvert_exporter": "python",
   "pygments_lexer": "ipython3",
   "version": "3.9.6"
  },
  "toc": {
   "base_numbering": 1,
   "nav_menu": {},
   "number_sections": true,
   "sideBar": true,
   "skip_h1_title": true,
   "title_cell": "Table of Contents",
   "title_sidebar": "Contents",
   "toc_cell": false,
   "toc_position": {},
   "toc_section_display": true,
   "toc_window_display": false
  }
 },
 "nbformat": 4,
 "nbformat_minor": 5
}
