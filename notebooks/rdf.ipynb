{
 "cells": [
  {
   "cell_type": "markdown",
   "metadata": {},
   "source": [
    "# Функции радиального распределения частиц, рассчитанные при различных значениях температуры системы.\n",
    "\n",
    "   - Система: ГЦК решётка $7\\times7\\times7$ частиц;\n",
    "   - Постоянная решётки: $a = 1.75~\\sigma $;\n",
    "   - Потенциал взаимодействия: Леннард-Джонс;\n",
    "   - Начальная температура: $T_i = 2.8~\\varepsilon / k_B$;\n",
    "   - Коннечная температура: $T_f = 10^{-10}~\\varepsilon / k_B$;\n",
    "   - Скорость охлаждения: $v_T = 0.02~\\varepsilon / k_B\\tau$;\n",
    "   - Термостат: масштабирование скоростей;\n",
    "   - Толщина сферического слоя (список Верле): $\\Delta r_s = 0.3~\\sigma $;\n",
    "   - Временной шаг: $\\Delta t = 0.005~\\tau$;\n",
    "   - Число шагов для охлаждения: 40000;\n",
    "   - Функция радиального распределения рассчитывалась через каждые 4000 шагов;\n",
    "   - Подсчёт состоял из 1500 шагов: 500 на уравновешивание системы при фиксированной температуре и 1000 на усреднение по времени;"
   ]
  },
  {
   "cell_type": "markdown",
   "metadata": {},
   "source": [
    "#### Импорт необходимых библиотек"
   ]
  },
  {
   "cell_type": "code",
   "execution_count": 1,
   "metadata": {},
   "outputs": [],
   "source": [
    "import os\n",
    "\n",
    "import matplotlib.pyplot as plt\n",
    "import numpy as np\n",
    "import pandas as pd\n",
    "\n",
    "plt.style.use('seaborn')"
   ]
  },
  {
   "cell_type": "markdown",
   "metadata": {},
   "source": [
    "#### Путь к файлам с данными"
   ]
  },
  {
   "cell_type": "code",
   "execution_count": 2,
   "metadata": {},
   "outputs": [],
   "source": [
    "BASE_DIRECTORY = os.path.dirname(os.getcwd())\n",
    "PATH_TO_DATA = os.path.join(BASE_DIRECTORY, 'data')"
   ]
  },
  {
   "cell_type": "code",
   "execution_count": 3,
   "metadata": {},
   "outputs": [],
   "source": [
    "filename = os.path.join(\n",
    "    PATH_TO_DATA,\n",
    "    '2020-11-20',\n",
    "    'rdf_file_T_',\n",
    ")"
   ]
  },
  {
   "cell_type": "markdown",
   "metadata": {},
   "source": [
    "#### Температуры, для которых была подчитана функция радиального распределения"
   ]
  },
  {
   "cell_type": "code",
   "execution_count": 4,
   "metadata": {},
   "outputs": [],
   "source": [
    "temperatures = (\n",
    "    2.81660, 2.38821, 2.00796, 1.60098, 1.20017, 0.80224, 0.40089, 0.00010,\n",
    ")"
   ]
  },
  {
   "cell_type": "markdown",
   "metadata": {},
   "source": [
    "#### Извлечение данных из файлов"
   ]
  },
  {
   "cell_type": "code",
   "execution_count": 5,
   "metadata": {},
   "outputs": [
    {
     "data": {
      "text/html": [
       "<div>\n",
       "<style scoped>\n",
       "    .dataframe tbody tr th:only-of-type {\n",
       "        vertical-align: middle;\n",
       "    }\n",
       "\n",
       "    .dataframe tbody tr th {\n",
       "        vertical-align: top;\n",
       "    }\n",
       "\n",
       "    .dataframe thead th {\n",
       "        text-align: right;\n",
       "    }\n",
       "</style>\n",
       "<table border=\"1\" class=\"dataframe\">\n",
       "  <thead>\n",
       "    <tr style=\"text-align: right;\">\n",
       "      <th></th>\n",
       "      <th>radius</th>\n",
       "      <th>2.81660</th>\n",
       "      <th>2.38821</th>\n",
       "      <th>2.00796</th>\n",
       "      <th>1.60098</th>\n",
       "      <th>1.20017</th>\n",
       "      <th>0.80224</th>\n",
       "      <th>0.40089</th>\n",
       "      <th>0.00010</th>\n",
       "    </tr>\n",
       "  </thead>\n",
       "  <tbody>\n",
       "    <tr>\n",
       "      <th>0</th>\n",
       "      <td>0.005</td>\n",
       "      <td>5.855646e+08</td>\n",
       "      <td>5.855646e+08</td>\n",
       "      <td>5.855646e+08</td>\n",
       "      <td>5.855646e+08</td>\n",
       "      <td>5.855646e+08</td>\n",
       "      <td>5.855646e+08</td>\n",
       "      <td>5.855646e+08</td>\n",
       "      <td>5.855646e+08</td>\n",
       "    </tr>\n",
       "    <tr>\n",
       "      <th>1</th>\n",
       "      <td>0.015</td>\n",
       "      <td>0.000000e+00</td>\n",
       "      <td>0.000000e+00</td>\n",
       "      <td>0.000000e+00</td>\n",
       "      <td>0.000000e+00</td>\n",
       "      <td>0.000000e+00</td>\n",
       "      <td>0.000000e+00</td>\n",
       "      <td>0.000000e+00</td>\n",
       "      <td>0.000000e+00</td>\n",
       "    </tr>\n",
       "    <tr>\n",
       "      <th>2</th>\n",
       "      <td>0.025</td>\n",
       "      <td>0.000000e+00</td>\n",
       "      <td>0.000000e+00</td>\n",
       "      <td>0.000000e+00</td>\n",
       "      <td>0.000000e+00</td>\n",
       "      <td>0.000000e+00</td>\n",
       "      <td>0.000000e+00</td>\n",
       "      <td>0.000000e+00</td>\n",
       "      <td>0.000000e+00</td>\n",
       "    </tr>\n",
       "    <tr>\n",
       "      <th>3</th>\n",
       "      <td>0.035</td>\n",
       "      <td>0.000000e+00</td>\n",
       "      <td>0.000000e+00</td>\n",
       "      <td>0.000000e+00</td>\n",
       "      <td>0.000000e+00</td>\n",
       "      <td>0.000000e+00</td>\n",
       "      <td>0.000000e+00</td>\n",
       "      <td>0.000000e+00</td>\n",
       "      <td>0.000000e+00</td>\n",
       "    </tr>\n",
       "    <tr>\n",
       "      <th>4</th>\n",
       "      <td>0.045</td>\n",
       "      <td>0.000000e+00</td>\n",
       "      <td>0.000000e+00</td>\n",
       "      <td>0.000000e+00</td>\n",
       "      <td>0.000000e+00</td>\n",
       "      <td>0.000000e+00</td>\n",
       "      <td>0.000000e+00</td>\n",
       "      <td>0.000000e+00</td>\n",
       "      <td>0.000000e+00</td>\n",
       "    </tr>\n",
       "    <tr>\n",
       "      <th>...</th>\n",
       "      <td>...</td>\n",
       "      <td>...</td>\n",
       "      <td>...</td>\n",
       "      <td>...</td>\n",
       "      <td>...</td>\n",
       "      <td>...</td>\n",
       "      <td>...</td>\n",
       "      <td>...</td>\n",
       "      <td>...</td>\n",
       "    </tr>\n",
       "    <tr>\n",
       "      <th>608</th>\n",
       "      <td>6.085</td>\n",
       "      <td>9.994623e-01</td>\n",
       "      <td>1.000256e+00</td>\n",
       "      <td>1.000309e+00</td>\n",
       "      <td>9.995039e-01</td>\n",
       "      <td>1.002164e+00</td>\n",
       "      <td>1.001986e+00</td>\n",
       "      <td>9.849849e-01</td>\n",
       "      <td>9.539211e-01</td>\n",
       "    </tr>\n",
       "    <tr>\n",
       "      <th>609</th>\n",
       "      <td>6.095</td>\n",
       "      <td>9.993107e-01</td>\n",
       "      <td>9.992572e-01</td>\n",
       "      <td>1.000111e+00</td>\n",
       "      <td>1.000140e+00</td>\n",
       "      <td>1.001012e+00</td>\n",
       "      <td>9.995078e-01</td>\n",
       "      <td>9.832913e-01</td>\n",
       "      <td>9.765792e-01</td>\n",
       "    </tr>\n",
       "    <tr>\n",
       "      <th>610</th>\n",
       "      <td>6.105</td>\n",
       "      <td>1.000216e+00</td>\n",
       "      <td>9.980709e-01</td>\n",
       "      <td>1.001368e+00</td>\n",
       "      <td>9.998670e-01</td>\n",
       "      <td>1.002773e+00</td>\n",
       "      <td>1.002580e+00</td>\n",
       "      <td>9.815768e-01</td>\n",
       "      <td>9.393089e-01</td>\n",
       "    </tr>\n",
       "    <tr>\n",
       "      <th>611</th>\n",
       "      <td>6.115</td>\n",
       "      <td>1.000333e+00</td>\n",
       "      <td>9.979366e-01</td>\n",
       "      <td>1.002109e+00</td>\n",
       "      <td>1.001586e+00</td>\n",
       "      <td>1.002252e+00</td>\n",
       "      <td>1.002299e+00</td>\n",
       "      <td>9.812084e-01</td>\n",
       "      <td>9.597330e-01</td>\n",
       "    </tr>\n",
       "    <tr>\n",
       "      <th>612</th>\n",
       "      <td>6.125</td>\n",
       "      <td>1.000269e+00</td>\n",
       "      <td>9.986708e-01</td>\n",
       "      <td>9.997214e-01</td>\n",
       "      <td>9.986761e-01</td>\n",
       "      <td>1.001011e+00</td>\n",
       "      <td>1.001181e+00</td>\n",
       "      <td>9.783799e-01</td>\n",
       "      <td>9.679803e-01</td>\n",
       "    </tr>\n",
       "  </tbody>\n",
       "</table>\n",
       "<p>613 rows × 9 columns</p>\n",
       "</div>"
      ],
      "text/plain": [
       "     radius       2.81660       2.38821       2.00796       1.60098  \\\n",
       "0     0.005  5.855646e+08  5.855646e+08  5.855646e+08  5.855646e+08   \n",
       "1     0.015  0.000000e+00  0.000000e+00  0.000000e+00  0.000000e+00   \n",
       "2     0.025  0.000000e+00  0.000000e+00  0.000000e+00  0.000000e+00   \n",
       "3     0.035  0.000000e+00  0.000000e+00  0.000000e+00  0.000000e+00   \n",
       "4     0.045  0.000000e+00  0.000000e+00  0.000000e+00  0.000000e+00   \n",
       "..      ...           ...           ...           ...           ...   \n",
       "608   6.085  9.994623e-01  1.000256e+00  1.000309e+00  9.995039e-01   \n",
       "609   6.095  9.993107e-01  9.992572e-01  1.000111e+00  1.000140e+00   \n",
       "610   6.105  1.000216e+00  9.980709e-01  1.001368e+00  9.998670e-01   \n",
       "611   6.115  1.000333e+00  9.979366e-01  1.002109e+00  1.001586e+00   \n",
       "612   6.125  1.000269e+00  9.986708e-01  9.997214e-01  9.986761e-01   \n",
       "\n",
       "          1.20017       0.80224       0.40089       0.00010  \n",
       "0    5.855646e+08  5.855646e+08  5.855646e+08  5.855646e+08  \n",
       "1    0.000000e+00  0.000000e+00  0.000000e+00  0.000000e+00  \n",
       "2    0.000000e+00  0.000000e+00  0.000000e+00  0.000000e+00  \n",
       "3    0.000000e+00  0.000000e+00  0.000000e+00  0.000000e+00  \n",
       "4    0.000000e+00  0.000000e+00  0.000000e+00  0.000000e+00  \n",
       "..            ...           ...           ...           ...  \n",
       "608  1.002164e+00  1.001986e+00  9.849849e-01  9.539211e-01  \n",
       "609  1.001012e+00  9.995078e-01  9.832913e-01  9.765792e-01  \n",
       "610  1.002773e+00  1.002580e+00  9.815768e-01  9.393089e-01  \n",
       "611  1.002252e+00  1.002299e+00  9.812084e-01  9.597330e-01  \n",
       "612  1.001011e+00  1.001181e+00  9.783799e-01  9.679803e-01  \n",
       "\n",
       "[613 rows x 9 columns]"
      ]
     },
     "execution_count": 5,
     "metadata": {},
     "output_type": "execute_result"
    }
   ],
   "source": [
    "rdf_data = pd.DataFrame(columns=['radius'])\n",
    "\n",
    "for temperature in temperatures:\n",
    "    df = pd.read_csv(\n",
    "        f'{filename}{temperature:.5f}.csv',\n",
    "        sep=';',\n",
    "    )\n",
    "    rdf_data = rdf_data.merge(\n",
    "        right=df,\n",
    "        how='outer',\n",
    "        on='radius',\n",
    "    )\n",
    "    rdf_data = rdf_data.rename(columns={'rdf': f'{temperature:.5f}'})\n",
    "    \n",
    "rdf_data"
   ]
  },
  {
   "cell_type": "markdown",
   "metadata": {},
   "source": [
    "#### Графики функций радиального распределения при различных температурах"
   ]
  },
  {
   "cell_type": "code",
   "execution_count": 6,
   "metadata": {},
   "outputs": [
    {
     "data": {
      "image/png": "[encoded data removed]",
      "text/plain": [
       "<Figure size 576x396 with 1 Axes>"
      ]
     },
     "metadata": {},
     "output_type": "display_data"
    }
   ],
   "source": [
    "for i, temperature in enumerate(temperatures):\n",
    "    plt.plot(\n",
    "        rdf_data['radius'], \n",
    "        rdf_data[f'{temperature:.5f}'] + 1 * (len(temperatures) - (i + 1)), \n",
    "        label=f'T = {temperature:.4f} $\\epsilon / k_B $',\n",
    "    );\n",
    "    \n",
    "plt.xlabel('r, $\\sigma$', fontsize=16);\n",
    "plt.ylabel('g(r)', fontsize=16);\n",
    "plt.xlim(left=0, right=6.125);\n",
    "plt.ylim(bottom=0, top=20);\n",
    "plt.legend();"
   ]
  }
 ],
 "metadata": {
  "kernelspec": {
   "display_name": "Python 3",
   "language": "python",
   "name": "python3"
  },
  "language_info": {
   "codemirror_mode": {
    "name": "ipython",
    "version": 3
   },
   "file_extension": ".py",
   "mimetype": "text/x-python",
   "name": "python",
   "nbconvert_exporter": "python",
   "pygments_lexer": "ipython3",
   "version": "3.8.3"
  }
 },
 "nbformat": 4,
 "nbformat_minor": 4
}
