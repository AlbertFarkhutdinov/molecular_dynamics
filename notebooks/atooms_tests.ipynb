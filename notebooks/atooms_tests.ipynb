{
 "cells": [
  {
   "cell_type": "code",
   "execution_count": 1,
   "metadata": {},
   "outputs": [],
   "source": [
    "%matplotlib inline\n",
    "\n",
    "import os\n",
    "import matplotlib.pyplot as plt\n",
    "import numpy as np\n",
    "from atooms.trajectory import Trajectory\n",
    "import atooms.postprocessing as pp\n",
    "from  atooms.postprocessing import api\n",
    "\n",
    "from datetime import datetime"
   ]
  },
  {
   "cell_type": "code",
   "execution_count": 2,
   "metadata": {},
   "outputs": [
    {
     "data": {
      "text/plain": [
       "'C:\\\\Users\\\\farhutdinov.a\\\\Documents\\\\Albert\\\\git_reps\\\\molecular_dynamics\\\\data\\\\2021-02-15\\\\T_2.80453_dt_0.005.xyz'"
      ]
     },
     "execution_count": 2,
     "metadata": {},
     "output_type": "execute_result"
    }
   ],
   "source": [
    "# trajectory_filename = 'trajectory.xyz'\n",
    "trajectory_filename = os.path.join(\n",
    "    os.path.dirname(os.getcwd()),\n",
    "    'data',\n",
    "    '2021-02-15',\n",
    "    'T_2.80453_dt_0.005.xyz'\n",
    ")\n",
    "\n",
    "\n",
    "trajectory_filename"
   ]
  },
  {
   "cell_type": "code",
   "execution_count": 3,
   "metadata": {},
   "outputs": [],
   "source": [
    "trajectory = Trajectory(trajectory_filename)"
   ]
  },
  {
   "cell_type": "code",
   "execution_count": 4,
   "metadata": {},
   "outputs": [],
   "source": [
    "k_kwargs = {\n",
    "    'kmin': 0,\n",
    "    'kmax': 20,\n",
    "    'ksamples': 1000,\n",
    "}"
   ]
  },
  {
   "cell_type": "code",
   "execution_count": 5,
   "metadata": {},
   "outputs": [],
   "source": [
    "def get_grid_and_values(trajectory_filename, parameter):\n",
    "    grid, values = [], []\n",
    "    with open(f'{trajectory_filename}.pp.{parameter}') as file:\n",
    "        for line in file:\n",
    "            if line.startswith('#'):\n",
    "                continue\n",
    "            row = [float(_) for _ in line.rstrip().split()]\n",
    "            grid.append(row[0])\n",
    "            values.append(row[1])\n",
    "    return grid, values"
   ]
  },
  {
   "cell_type": "markdown",
   "metadata": {},
   "source": [
    "#### Функция радиального распределения (300 шагов за 40 секунд без дополнительных настроек, dr=0.01)"
   ]
  },
  {
   "cell_type": "code",
   "execution_count": 6,
   "metadata": {},
   "outputs": [
    {
     "name": "stdout",
     "output_type": "stream",
     "text": [
      "0:01:19.602552\n"
     ]
    },
    {
     "data": {
      "image/png": "[encoded data removed]",
      "text/plain": [
       "<Figure size 432x288 with 1 Axes>"
      ]
     },
     "metadata": {
      "needs_background": "light"
     },
     "output_type": "display_data"
    }
   ],
   "source": [
    "start = datetime.now()\n",
    "\n",
    "rdf = pp.RadialDistributionFunction(\n",
    "    trajectory, \n",
    "    dr=0.01\n",
    ")\n",
    "rdf.do()\n",
    "plt.plot(rdf.grid, rdf.value)\n",
    "plt.xlabel(\"r\");\n",
    "plt.ylabel(\"g(r)\");\n",
    "print(datetime.now() - start)"
   ]
  },
  {
   "cell_type": "markdown",
   "metadata": {},
   "source": [
    "#### Статический структурный фактор (300 шагов за 5.5 минут для 1000 значений k от 0 до 20)"
   ]
  },
  {
   "cell_type": "code",
   "execution_count": null,
   "metadata": {},
   "outputs": [],
   "source": [
    "start = datetime.now()\n",
    "\n",
    "ssf = pp.StructureFactor(\n",
    "    trajectory,\n",
    "    **k_kwargs,\n",
    ")\n",
    "ssf.do()\n",
    "plt.plot(ssf.grid, ssf.value)\n",
    "plt.xlabel(\"k\");\n",
    "plt.ylabel(\"S(k)\");\n",
    "\n",
    "print(datetime.now() - start)"
   ]
  },
  {
   "cell_type": "markdown",
   "metadata": {},
   "source": [
    "#### Среднеквадратичное смещение (300 шагов за 14 секунд)"
   ]
  },
  {
   "cell_type": "code",
   "execution_count": null,
   "metadata": {},
   "outputs": [],
   "source": [
    "start = datetime.now()\n",
    "\n",
    "msd = pp.MeanSquareDisplacement(trajectory)\n",
    "msd.do()\n",
    "plt.plot(\n",
    "    msd.grid, \n",
    "    msd.value, \n",
    ")\n",
    "plt.xlabel(\"t\");\n",
    "plt.ylabel(\"MSD(t)\");\n",
    "\n",
    "print(datetime.now() - start)"
   ]
  },
  {
   "cell_type": "markdown",
   "metadata": {},
   "source": [
    "#### Диффузия Эйнштейна"
   ]
  },
  {
   "cell_type": "code",
   "execution_count": null,
   "metadata": {},
   "outputs": [],
   "source": [
    "start = datetime.now()\n",
    "\n",
    "msd_grid = np.array(msd.grid[1:])\n",
    "msd_value = np.array(msd.value[1:])\n",
    "\n",
    "plt.plot(\n",
    "    msd_grid, \n",
    "    msd_value / 6 / msd_grid, \n",
    ")\n",
    "plt.xlabel(\"t\");\n",
    "plt.ylabel(\"MSD(t)\");\n",
    "\n",
    "print(datetime.now() - start)"
   ]
  },
  {
   "cell_type": "markdown",
   "metadata": {},
   "source": [
    "#### Спектральная плотность (300 шагов за 3 минуты для 1000 значений k от 0 до 20)"
   ]
  },
  {
   "cell_type": "code",
   "execution_count": null,
   "metadata": {},
   "outputs": [],
   "source": [
    "start = datetime.now()\n",
    "\n",
    "api.ik(\n",
    "    trajectory_filename,\n",
    "    **k_kwargs,\n",
    ")\n",
    "ik_grid, ik_value = get_grid_and_values(trajectory_filename, 'ik')\n",
    "print(datetime.now() - start)"
   ]
  },
  {
   "cell_type": "code",
   "execution_count": null,
   "metadata": {},
   "outputs": [],
   "source": [
    "plt.plot(ik_grid, ik_value);\n",
    "plt.xlabel(r\"k\");\n",
    "plt.ylabel(r\"I(k)\");"
   ]
  }
 ],
 "metadata": {
  "kernelspec": {
   "display_name": "Python 3",
   "language": "python",
   "name": "python3"
  },
  "language_info": {
   "codemirror_mode": {
    "name": "ipython",
    "version": 3
   },
   "file_extension": ".py",
   "mimetype": "text/x-python",
   "name": "python",
   "nbconvert_exporter": "python",
   "pygments_lexer": "ipython3",
   "version": "3.8.3"
  }
 },
 "nbformat": 4,
 "nbformat_minor": 4
}
