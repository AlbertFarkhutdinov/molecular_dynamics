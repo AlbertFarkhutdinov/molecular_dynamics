{
 "cells": [
  {
   "cell_type": "markdown",
   "metadata": {},
   "source": [
    "# Моделирование охлаждения NVT ансамбля <a class=\"tocSkip\">\n",
    "\n",
    "   - Система: $N = 1372$ частиц;\n",
    "   - Ячейка моделирования: $V = 12.25\\sigma\\times12.25\\sigma\\times12.25\\sigma$;\n",
    "   - Потенциал взаимодействия: Леннард-Джонс;\n",
    "   - Ансамбль: $NVT$;\n",
    "   - Начальная температура: $T_i = 1.3~\\varepsilon / k_B$;\n",
    "   - Конечная температура: $T_f = 10^{-4}~\\varepsilon / k_B$;\n",
    "   - Скорости охлаждения: $\\gamma = 2\\times10^{-5}~\\varepsilon / k_B\\tau$;\n",
    "   - Термостат: масштабирование скоростей;\n",
    "   - Толщина сферического слоя (список Верле): $\\Delta r_s = 0.3\\sigma $;\n",
    "   - Временной шаг: $\\Delta t = 0.005\\tau$;"
   ]
  },
  {
   "cell_type": "markdown",
   "metadata": {},
   "source": [
    "## Imports"
   ]
  },
  {
   "cell_type": "code",
   "execution_count": null,
   "metadata": {
    "ExecuteTime": {
     "end_time": "2023-01-16T11:15:18.109046Z",
     "start_time": "2023-01-16T11:15:18.087033Z"
    }
   },
   "outputs": [],
   "source": [
    "from datetime import datetime\n",
    "from pathlib import Path\n",
    "import sys\n",
    "\n",
    "BASE_DIR = Path('.').resolve().parent\n",
    "sys.path.append(str(BASE_DIR))"
   ]
  },
  {
   "cell_type": "code",
   "execution_count": null,
   "metadata": {
    "ExecuteTime": {
     "end_time": "2023-01-16T11:15:19.844532Z",
     "start_time": "2023-01-16T11:15:18.112332Z"
    }
   },
   "outputs": [],
   "source": [
    "import matplotlib.pyplot as plt\n",
    "from numba import njit\n",
    "import numpy as np\n",
    "import pandas as pd\n",
    "from scipy import interpolate\n",
    "from optimizers_af.optimizers import HookeJeeves, RadialMovementOptimization"
   ]
  },
  {
   "cell_type": "code",
   "execution_count": null,
   "metadata": {
    "ExecuteTime": {
     "end_time": "2023-01-16T11:15:20.457556Z",
     "start_time": "2023-01-16T11:15:19.847540Z"
    }
   },
   "outputs": [],
   "source": [
    "from sklearn.linear_model import LinearRegression\n",
    "from sklearn.metrics import mean_squared_error, mean_absolute_percentage_error\n",
    "from sklearn.model_selection import cross_val_score, train_test_split\n",
    "from sklearn.neighbors import KNeighborsRegressor, RadiusNeighborsRegressor\n",
    "from sklearn.tree import DecisionTreeRegressor"
   ]
  },
  {
   "cell_type": "code",
   "execution_count": null,
   "metadata": {
    "ExecuteTime": {
     "end_time": "2023-01-16T11:15:21.116596Z",
     "start_time": "2023-01-16T11:15:20.461258Z"
    }
   },
   "outputs": [],
   "source": [
    "%load_ext autoreload\n",
    "%autoreload 2\n",
    "\n",
    "# from rmo import RadialMovementOptimization\n",
    "from scripts_old.plotter import Plotter, get_temperature_legend\n",
    "import scripts_old.postprocessing as pp\n",
    "from scripts_old.properties.ovito_procedures import OvitoProcessor"
   ]
  },
  {
   "cell_type": "markdown",
   "metadata": {},
   "source": [
    "## Constants"
   ]
  },
  {
   "cell_type": "code",
   "execution_count": null,
   "metadata": {
    "ExecuteTime": {
     "end_time": "2023-01-16T11:15:21.227780Z",
     "start_time": "2023-01-16T11:15:21.120592Z"
    }
   },
   "outputs": [],
   "source": [
    "START_TIME = datetime.now()\n",
    "CURRENT_DATA = '2022-09-25_velocity_scaling_HV_2e-5_T_01e-4'\n",
    "PATH_TO_CURRENT_DATA = BASE_DIR / 'data' / CURRENT_DATA\n",
    "PATH_TO_CURRENT_PLOTS = BASE_DIR / 'plots' / 'article'\n",
    "PLOT_FILENAME_POSTFIX = 'HV_2e-5'\n",
    "PATH_TO_CURRENT_DATA"
   ]
  },
  {
   "cell_type": "code",
   "execution_count": null,
   "metadata": {
    "ExecuteTime": {
     "end_time": "2023-01-16T11:15:21.322143Z",
     "start_time": "2023-01-16T11:15:21.229788Z"
    }
   },
   "outputs": [],
   "source": [
    "CELL_DIMENSIONS = np.ones(3) * 12.25"
   ]
  },
  {
   "cell_type": "markdown",
   "metadata": {},
   "source": [
    "## Functions"
   ]
  },
  {
   "cell_type": "code",
   "execution_count": null,
   "metadata": {
    "ExecuteTime": {
     "end_time": "2023-01-16T11:15:21.464067Z",
     "start_time": "2023-01-16T11:15:21.325719Z"
    }
   },
   "outputs": [],
   "source": [
    "@njit\n",
    "def math_round(value):\n",
    "    rest = value - int(value)\n",
    "    if rest >= 0.5 and value >= 0:\n",
    "        return float(int(value) + 1)\n",
    "    if rest <= -0.5 and value < 0:\n",
    "        return float(int(value) - 1)\n",
    "    return float(int(value))\n",
    "\n",
    "@njit\n",
    "def get_boundary_conditions(\n",
    "        particles_number: int,\n",
    "        positions: np.ndarray,\n",
    "):\n",
    "    for i in range(particles_number):\n",
    "        for j in range(3):\n",
    "            if positions[i][j] >= CELL_DIMENSIONS[j] / 2.0:\n",
    "                positions[i][j] -= (\n",
    "                        math_round(positions[i][j] / CELL_DIMENSIONS[j])\n",
    "                        * CELL_DIMENSIONS[j]\n",
    "                )\n",
    "            if positions[i][j] < -CELL_DIMENSIONS[j] / 2.0:\n",
    "                positions[i][j] -= (\n",
    "                        math_round(positions[i][j] / CELL_DIMENSIONS[j])\n",
    "                        * CELL_DIMENSIONS[j]\n",
    "                )\n",
    "    return positions\n",
    "\n",
    "\n",
    "def calculate_rdf(positions):\n",
    "    radii, rdf = OvitoProcessor(\n",
    "        positions=positions, \n",
    "        cell_dimensions=CELL_DIMENSIONS,\n",
    "    ).get_rdf()\n",
    "    return radii, rdf\n",
    "\n",
    "\n",
    "def generate_random_state() -> None:\n",
    "    particles_number = 1372\n",
    "    cell_dimensions = 12.25 * np.ones(3)\n",
    "    return (np.random.random((particles_number, 3)) - 0.5) * cell_dimensions"
   ]
  },
  {
   "cell_type": "markdown",
   "metadata": {},
   "source": [
    "## Data reading"
   ]
  },
  {
   "cell_type": "code",
   "execution_count": null,
   "metadata": {
    "ExecuteTime": {
     "end_time": "2023-01-16T11:15:21.604632Z",
     "start_time": "2023-01-16T11:15:21.466064Z"
    }
   },
   "outputs": [],
   "source": [
    "system_configuration_path = ''\n",
    "for filename in PATH_TO_CURRENT_DATA.iterdir():\n",
    "    if filename.match('system_configuration*.csv'):\n",
    "        system_configuration_path = str(PATH_TO_CURRENT_DATA / filename)\n",
    "        break\n",
    "\n",
    "initial_configuration = pd.read_csv(system_configuration_path, sep=';')[['x', 'y', 'z']].to_numpy()\n",
    "\n",
    "# initial_configuration = generate_random_state()\n",
    "initial_rdf = calculate_rdf(initial_configuration)[1]\n",
    "print(initial_configuration.shape, initial_rdf.shape)"
   ]
  },
  {
   "cell_type": "code",
   "execution_count": null,
   "metadata": {
    "ExecuteTime": {
     "end_time": "2023-01-16T11:20:07.264351Z",
     "start_time": "2023-01-16T11:20:07.140223Z"
    }
   },
   "outputs": [],
   "source": [
    "predicted_rdf_df = pd.read_csv(str(PATH_TO_CURRENT_DATA / 'predicted_rdf.csv'), sep=';')\n",
    "all_radiuses = predicted_rdf_df['radius'].values\n",
    "predicted_rdf = predicted_rdf_df['predicted_rdf'].values\n",
    "observed_rdf = predicted_rdf_df['observed_rdf'].values\n",
    "nz_indices = np.where(predicted_rdf.any())[0]"
   ]
  },
  {
   "cell_type": "markdown",
   "metadata": {},
   "source": [
    "## Configuration optimization"
   ]
  },
  {
   "cell_type": "code",
   "execution_count": null,
   "metadata": {
    "ExecuteTime": {
     "end_time": "2023-01-16T11:16:44.332563Z",
     "start_time": "2023-01-16T11:16:44.168511Z"
    }
   },
   "outputs": [],
   "source": [
    "def optimized_func(positions):\n",
    "    radii, exp_rdf = calculate_rdf(\n",
    "        positions=positions.reshape(1372, 3),\n",
    "    )\n",
    "    result = mean_squared_error(predicted_rdf, exp_rdf)\n",
    "    collided_number = exp_rdf[:nz_indices[0]].sum()\n",
    "    return result + collided_number"
   ]
  },
  {
   "cell_type": "code",
   "execution_count": null,
   "metadata": {
    "ExecuteTime": {
     "end_time": "2023-01-16T11:17:35.012180Z",
     "start_time": "2023-01-16T11:16:44.706175Z"
    }
   },
   "outputs": [],
   "source": [
    "RMO = RadialMovementOptimization(\n",
    "    func=optimized_func,\n",
    "    generations_number=20,\n",
    "    particles_number=500,\n",
    "    bounds=[(-6.125, 6.125) for _ in range(1372 * 3)],\n",
    "    c_parameters=(0.9, 1.0),\n",
    "    weight_limits=(0, 1),\n",
    "    scale=10,\n",
    ")\n",
    "new_positions = RMO.run(\n",
    "    point=initial_configuration.flatten()\n",
    ")[0]"
   ]
  },
  {
   "cell_type": "code",
   "execution_count": null,
   "metadata": {
    "ExecuteTime": {
     "end_time": "2023-01-16T11:17:42.526835Z",
     "start_time": "2023-01-16T11:17:42.370312Z"
    }
   },
   "outputs": [],
   "source": [
    "HJ = HookeJeeves(\n",
    "    func=optimized_func,\n",
    "    accuracy=1e-2,\n",
    "    initial_step_size=1,\n",
    "    step_reduction_factor=0.5,\n",
    ")"
   ]
  },
  {
   "cell_type": "code",
   "execution_count": null,
   "metadata": {
    "ExecuteTime": {
     "end_time": "2023-01-16T11:17:54.735418Z",
     "start_time": "2023-01-16T11:17:43.807194Z"
    }
   },
   "outputs": [],
   "source": [
    "HJ.run(point=new_positions)"
   ]
  },
  {
   "cell_type": "code",
   "execution_count": null,
   "metadata": {
    "ExecuteTime": {
     "end_time": "2023-01-16T11:17:56.898196Z",
     "start_time": "2023-01-16T11:17:56.747218Z"
    }
   },
   "outputs": [],
   "source": [
    "new_positions_hj = HJ.history[-1][0].reshape(1372, 3)"
   ]
  },
  {
   "cell_type": "code",
   "execution_count": null,
   "metadata": {
    "ExecuteTime": {
     "end_time": "2023-01-16T11:20:18.519824Z",
     "start_time": "2023-01-16T11:20:17.868379Z"
    }
   },
   "outputs": [],
   "source": [
    "hj_radiuses, hj_rdf = calculate_rdf(new_positions_hj)\n",
    "\n",
    "plotter = Plotter(\n",
    "    path_to_plots=PATH_TO_CURRENT_PLOTS,\n",
    "    limits=dict(\n",
    "        left=0,\n",
    "        right=6,\n",
    "        bottom=-0.1,\n",
    "        top=3,\n",
    "    ),\n",
    "    labels=('radius', 'rdf'),\n",
    ")\n",
    "\n",
    "s = 20\n",
    "plotter.ax.plot(all_radiuses, observed_rdf, label='Observed')\n",
    "plotter.ax.plot(all_radiuses, predicted_rdf, label='Predicted')\n",
    "plotter.ax.plot(hj_radiuses, hj_rdf, label='HJ')\n",
    "plotter.set_major_locators(1, 0.5)\n",
    "plotter.set_minor_locators(0.2, 0.1)\n",
    "plotter.get_legend()\n",
    "plt.show()"
   ]
  },
  {
   "cell_type": "markdown",
   "metadata": {},
   "source": [
    "## End"
   ]
  },
  {
   "cell_type": "code",
   "execution_count": null,
   "metadata": {
    "ExecuteTime": {
     "end_time": "2023-01-16T11:15:22.759312Z",
     "start_time": "2023-01-16T11:15:22.759312Z"
    }
   },
   "outputs": [],
   "source": [
    "print(f'Execution Time: {datetime.now() - START_TIME}')"
   ]
  }
 ],
 "metadata": {
  "hide_input": false,
  "kernelspec": {
   "display_name": "Python 3 (ipykernel)",
   "language": "python",
   "name": "python3"
  },
  "language_info": {
   "codemirror_mode": {
    "name": "ipython",
    "version": 3
   },
   "file_extension": ".py",
   "mimetype": "text/x-python",
   "name": "python",
   "nbconvert_exporter": "python",
   "pygments_lexer": "ipython3",
   "version": "3.10.8"
  },
  "toc": {
   "base_numbering": 1,
   "nav_menu": {
    "height": "262px",
    "width": "853px"
   },
   "number_sections": true,
   "sideBar": true,
   "skip_h1_title": false,
   "title_cell": "Table of Contents",
   "title_sidebar": "Contents",
   "toc_cell": false,
   "toc_position": {
    "height": "calc(100% - 180px)",
    "left": "10px",
    "top": "150px",
    "width": "165px"
   },
   "toc_section_display": true,
   "toc_window_display": false
  },
  "varInspector": {
   "cols": {
    "lenName": 16,
    "lenType": 16,
    "lenVar": 40
   },
   "kernels_config": {
    "python": {
     "delete_cmd_postfix": "",
     "delete_cmd_prefix": "del ",
     "library": "var_list.py",
     "varRefreshCmd": "print(var_dic_list())"
    },
    "r": {
     "delete_cmd_postfix": ") ",
     "delete_cmd_prefix": "rm(",
     "library": "var_list.r",
     "varRefreshCmd": "cat(var_dic_list()) "
    }
   },
   "types_to_exclude": [
    "module",
    "function",
    "builtin_function_or_method",
    "instance",
    "_Feature"
   ],
   "window_display": false
  }
 },
 "nbformat": 4,
 "nbformat_minor": 4
}
