{
 "cells": [
  {
   "cell_type": "code",
   "execution_count": 1,
   "metadata": {},
   "outputs": [],
   "source": [
    "import os\n",
    "\n",
    "import matplotlib.pyplot as plt\n",
    "import numpy as np\n",
    "import pandas as pd\n",
    "\n",
    "plt.style.use('seaborn')"
   ]
  },
  {
   "cell_type": "code",
   "execution_count": 2,
   "metadata": {},
   "outputs": [],
   "source": [
    "parameter_name = 'msd_cur'"
   ]
  },
  {
   "cell_type": "code",
   "execution_count": 3,
   "metadata": {},
   "outputs": [
    {
     "data": {
      "text/plain": [
       "'C:\\\\Users\\\\farhutdinov.a\\\\Documents\\\\Albert\\\\git_reps\\\\molecular_dynamics\\\\data'"
      ]
     },
     "execution_count": 3,
     "metadata": {},
     "output_type": "execute_result"
    }
   ],
   "source": [
    "BASE_DIRECTORY = os.path.dirname(os.getcwd())\n",
    "PATH_TO_DATA = os.path.join(BASE_DIRECTORY, 'data')\n",
    "\n",
    "PATH_TO_DATA"
   ]
  },
  {
   "cell_type": "code",
   "execution_count": 4,
   "metadata": {},
   "outputs": [],
   "source": [
    "date = '2020-12-19'\n",
    "\n",
    "filename = os.path.join(PATH_TO_DATA, date, f'log_{date}.log')"
   ]
  },
  {
   "cell_type": "code",
   "execution_count": 5,
   "metadata": {},
   "outputs": [],
   "source": [
    "PARAMETERS = {\n",
    "    'temperature': ('Temperature', r'Temperature, $\\epsilon / k_B $'),\n",
    "    'pressure': ('Pressure', r'Pressure, $\\epsilon / \\sigma^3 $'),\n",
    "    'potential_energy': ('Potential energy', r'Potential energy, $\\epsilon$'),\n",
    "    'msd_cur': ('Current MSD', r'Mean Squared Displacement (current), $\\sigma^2$'),\n",
    "    'msd_cum': ('Cumulative MSD', r'Mean Squared Displacement (cumulative), $\\sigma^2$'),\n",
    "    'diffusion_cur': ('Current Diffusion', r'Self-Diffusion Coefficient (current), $\\sigma^2 / \\tau $'),\n",
    "    'diffusion_cum': ('Cumulative Diffusion', r'Self-Diffusion Coefficient (cumulative), $\\sigma^2 / \\tau $'),\n",
    "}"
   ]
  },
  {
   "cell_type": "code",
   "execution_count": 6,
   "metadata": {},
   "outputs": [],
   "source": [
    "parameters = []"
   ]
  },
  {
   "cell_type": "code",
   "execution_count": 7,
   "metadata": {},
   "outputs": [],
   "source": [
    "with open(filename) as file:\n",
    "    for line in file:\n",
    "        if f'{PARAMETERS[parameter_name][0]} after system_dynamics_2:' in line:\n",
    "            parameters.append(line[line.index('DEBUG') :-2])"
   ]
  },
  {
   "cell_type": "code",
   "execution_count": 8,
   "metadata": {},
   "outputs": [],
   "source": [
    "for i, parameter in enumerate(parameters):\n",
    "    parameters[i] = float(parameter[parameter.index(':') + 2: ])\n",
    "\n",
    "parameters = np.array(parameters)"
   ]
  },
  {
   "cell_type": "code",
   "execution_count": 9,
   "metadata": {},
   "outputs": [
    {
     "data": {
      "image/png": "[encoded data removed]",
      "text/plain": [
       "<Figure size 576x396 with 1 Axes>"
      ]
     },
     "metadata": {},
     "output_type": "display_data"
    }
   ],
   "source": [
    "plt.scatter(\n",
    "    np.arange(parameters.size) * 0.005 + 0.005,\n",
    "    parameters,\n",
    "    s=5,\n",
    "    color='black'\n",
    ");\n",
    "plt.xlabel(r'Time, $\\tau$');\n",
    "plt.ylabel(PARAMETERS[parameter_name][1]);\n",
    "plt.xlim(left=0);\n",
    "plt.ylim(\n",
    "#     bottom=2.75, \n",
    "#     top=2.85,\n",
    ");"
   ]
  }
 ],
 "metadata": {
  "kernelspec": {
   "display_name": "Python 3",
   "language": "python",
   "name": "python3"
  },
  "language_info": {
   "codemirror_mode": {
    "name": "ipython",
    "version": 3
   },
   "file_extension": ".py",
   "mimetype": "text/x-python",
   "name": "python",
   "nbconvert_exporter": "python",
   "pygments_lexer": "ipython3",
   "version": "3.8.3"
  }
 },
 "nbformat": 4,
 "nbformat_minor": 4
}
