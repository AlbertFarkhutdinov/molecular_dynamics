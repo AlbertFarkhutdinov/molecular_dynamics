{
 "cells": [
  {
   "cell_type": "code",
   "execution_count": 1,
   "metadata": {},
   "outputs": [],
   "source": [
    "import os\n",
    "\n",
    "import matplotlib.pyplot as plt\n",
    "import numpy as np\n",
    "import pandas as pd\n",
    "\n",
    "plt.style.use('seaborn')"
   ]
  },
  {
   "cell_type": "code",
   "execution_count": 2,
   "metadata": {},
   "outputs": [],
   "source": [
    "parameter_name = 'pressure'"
   ]
  },
  {
   "cell_type": "code",
   "execution_count": 3,
   "metadata": {},
   "outputs": [
    {
     "data": {
      "text/plain": [
       "'D:\\\\git_reps\\\\molecular_dynamics\\\\data'"
      ]
     },
     "execution_count": 3,
     "metadata": {},
     "output_type": "execute_result"
    }
   ],
   "source": [
    "BASE_DIRECTORY = os.path.dirname(os.getcwd())\n",
    "PATH_TO_DATA = os.path.join(BASE_DIRECTORY, 'data')\n",
    "\n",
    "PATH_TO_DATA"
   ]
  },
  {
   "cell_type": "code",
   "execution_count": 4,
   "metadata": {},
   "outputs": [],
   "source": [
    "date = '2021-10-05'\n",
    "postfix = ''\n",
    "filename = os.path.join(PATH_TO_DATA, date + postfix, f'log_{date}.log')\n",
    "# filename = os.path.join(PATH_TO_DATA, date + postfix, f'log_{date}.{date}_09-05-23_695208.log')"
   ]
  },
  {
   "cell_type": "code",
   "execution_count": 5,
   "metadata": {},
   "outputs": [],
   "source": [
    "PARAMETERS = {\n",
    "    'temperature': ('Temperature', r'Temperature, $\\epsilon / k_B $'),\n",
    "    'pressure': ('Pressure', r'Pressure, $\\epsilon / \\sigma^3 $'),\n",
    "    'volume': ('Volume', r'Volume, $\\sigma^3 $'),\n",
    "    'density': ('Density', r'Density, $\\sigma^{-3} $'),\n",
    "    'potential_energy': ('Potential energy', r'Potential energy, $\\epsilon$'),\n",
    "    'total_energy': ('Total energy', r'Total energy, $\\epsilon$'),\n",
    "    'msd_cur': ('Current MSD', r'Mean Squared Displacement (current), $\\sigma^2$'),\n",
    "    'msd_cum': ('Cumulative MSD', r'Mean Squared Displacement (cumulative), $\\sigma^2$'),\n",
    "    'diffusion_cur': ('Current Diffusion', r'Self-Diffusion Coefficient (current), $\\sigma^2 / \\tau $'),\n",
    "    'diffusion_cum': ('Cumulative Diffusion', r'Self-Diffusion Coefficient (cumulative), $\\sigma^2 / \\tau $'),\n",
    "}"
   ]
  },
  {
   "cell_type": "code",
   "execution_count": 6,
   "metadata": {},
   "outputs": [
    {
     "ename": "FileNotFoundError",
     "evalue": "[Errno 2] No such file or directory: 'D:\\\\git_reps\\\\molecular_dynamics\\\\data\\\\2021-10-05\\\\log_2021-10-05.log'",
     "output_type": "error",
     "traceback": [
      "\u001b[1;31m---------------------------------------------------------------------------\u001b[0m",
      "\u001b[1;31mFileNotFoundError\u001b[0m                         Traceback (most recent call last)",
      "\u001b[1;32mC:\\Users\\FARHUT~1.A\\AppData\\Local\\Temp/ipykernel_12756/3088428039.py\u001b[0m in \u001b[0;36m<module>\u001b[1;34m\u001b[0m\n\u001b[0;32m      2\u001b[0m \u001b[0mparameter_name\u001b[0m \u001b[1;33m=\u001b[0m \u001b[1;34m'temperature'\u001b[0m\u001b[1;33m\u001b[0m\u001b[1;33m\u001b[0m\u001b[0m\n\u001b[0;32m      3\u001b[0m \u001b[1;33m\u001b[0m\u001b[0m\n\u001b[1;32m----> 4\u001b[1;33m \u001b[1;32mwith\u001b[0m \u001b[0mopen\u001b[0m\u001b[1;33m(\u001b[0m\u001b[0mfilename\u001b[0m\u001b[1;33m)\u001b[0m \u001b[1;32mas\u001b[0m \u001b[0mfile\u001b[0m\u001b[1;33m:\u001b[0m\u001b[1;33m\u001b[0m\u001b[1;33m\u001b[0m\u001b[0m\n\u001b[0m\u001b[0;32m      5\u001b[0m     \u001b[1;32mfor\u001b[0m \u001b[0mline\u001b[0m \u001b[1;32min\u001b[0m \u001b[0mfile\u001b[0m\u001b[1;33m:\u001b[0m\u001b[1;33m\u001b[0m\u001b[1;33m\u001b[0m\u001b[0m\n\u001b[0;32m      6\u001b[0m         \u001b[1;32mif\u001b[0m \u001b[1;34mf'{PARAMETERS[parameter_name][0]} after '\u001b[0m \u001b[1;32min\u001b[0m \u001b[0mline\u001b[0m \u001b[1;32mand\u001b[0m \u001b[1;34m'.stage_2()'\u001b[0m \u001b[1;32min\u001b[0m \u001b[0mline\u001b[0m\u001b[1;33m:\u001b[0m\u001b[1;33m\u001b[0m\u001b[1;33m\u001b[0m\u001b[0m\n",
      "\u001b[1;31mFileNotFoundError\u001b[0m: [Errno 2] No such file or directory: 'D:\\\\git_reps\\\\molecular_dynamics\\\\data\\\\2021-10-05\\\\log_2021-10-05.log'"
     ]
    }
   ],
   "source": [
    "parameters = []\n",
    "parameter_name = 'temperature'\n",
    "\n",
    "with open(filename) as file:\n",
    "    for line in file:\n",
    "        if f'{PARAMETERS[parameter_name][0]} after ' in line and '.stage_2()' in line:\n",
    "            parameters.append(line[line.index('DEBUG') :-2])\n",
    "\n",
    "for i, parameter in enumerate(parameters):\n",
    "    parameters[i] = float(parameter[parameter.index(':') + 2: ])\n",
    "\n",
    "parameters = np.array(parameters)\n",
    "\n",
    "plt.plot(\n",
    "    np.arange(parameters.size) * 0.005 + 0.005,\n",
    "    parameters,\n",
    "#     s=5,\n",
    "    color='black'\n",
    ");\n",
    "plt.xlabel(r'Time, $\\tau$');\n",
    "plt.ylabel(PARAMETERS[parameter_name][1]);\n",
    "plt.xlim(\n",
    "#     left=25, \n",
    "#     right=75,\n",
    ");\n",
    "plt.ylim(\n",
    "#     bottom=1.4, \n",
    "#     top=1.6,\n",
    ");"
   ]
  },
  {
   "cell_type": "code",
   "execution_count": null,
   "metadata": {},
   "outputs": [],
   "source": [
    "parameters = []\n",
    "parameter_name = 'pressure'\n",
    "\n",
    "with open(filename) as file:\n",
    "    for line in file:\n",
    "        if f'{PARAMETERS[parameter_name][0]} after ' in line and '.stage_2()' in line:\n",
    "            parameters.append(line[line.index('DEBUG') :-2])\n",
    "\n",
    "for i, parameter in enumerate(parameters):\n",
    "    parameters[i] = float(parameter[parameter.index(':') + 2: ])\n",
    "\n",
    "parameters = np.array(parameters)\n",
    "\n",
    "plt.plot(\n",
    "    np.arange(parameters.size) * 0.005 + 0.005,\n",
    "    parameters,\n",
    "#     s=5,\n",
    "    color='black'\n",
    ");\n",
    "plt.xlabel(r'Time, $\\tau$');\n",
    "plt.ylabel(PARAMETERS[parameter_name][1]);\n",
    "plt.xlim(left=0);\n",
    "plt.ylim(\n",
    "#     bottom=0.6, \n",
    "#     top=0.8,\n",
    ");"
   ]
  },
  {
   "cell_type": "code",
   "execution_count": null,
   "metadata": {},
   "outputs": [],
   "source": [
    "parameters = []\n",
    "parameter_name = 'potential_energy'\n",
    "\n",
    "with open(filename) as file:\n",
    "    for line in file:\n",
    "        if f'{PARAMETERS[parameter_name][0]} after ' in line and '.stage_2()' in line:\n",
    "            parameters.append(line[line.index('DEBUG') :-2])\n",
    "\n",
    "for i, parameter in enumerate(parameters):\n",
    "    parameters[i] = float(parameter[parameter.index(':') + 2: ])\n",
    "\n",
    "parameters = np.array(parameters)\n",
    "\n",
    "plt.plot(\n",
    "    np.arange(parameters.size) * 0.005 + 0.005,\n",
    "    parameters,\n",
    "#     s=5,\n",
    "    color='black'\n",
    ");\n",
    "plt.xlabel(r'Time, $\\tau$');\n",
    "plt.ylabel(PARAMETERS[parameter_name][1]);\n",
    "plt.xlim(left=0);\n",
    "plt.ylim(\n",
    "#     bottom=-9.390e3, \n",
    "#     top=-9.386e3,\n",
    ");\n"
   ]
  },
  {
   "cell_type": "code",
   "execution_count": null,
   "metadata": {},
   "outputs": [],
   "source": [
    "parameters = []\n",
    "parameter_name = 'density'\n",
    "\n",
    "with open(filename) as file:\n",
    "    for line in file:\n",
    "        if f'{PARAMETERS[parameter_name][0]} after ' in line and '.stage_2()' in line:\n",
    "            parameters.append(line[line.index('DEBUG') :-2])\n",
    "\n",
    "for i, parameter in enumerate(parameters):\n",
    "    parameters[i] = float(parameter[parameter.index(':') + 2: ])\n",
    "\n",
    "parameters = np.array(parameters)\n",
    "\n",
    "plt.plot(\n",
    "    np.arange(parameters.size) * 0.005 + 0.005,\n",
    "    parameters,\n",
    "#     s=5,\n",
    "    color='black'\n",
    ");\n",
    "plt.xlabel(r'Time, $\\tau$');\n",
    "plt.ylabel(PARAMETERS[parameter_name][1]);\n",
    "plt.xlim(left=0);\n",
    "plt.ylim(\n",
    "#     bottom=0, \n",
    "#     top=10000,\n",
    ");"
   ]
  },
  {
   "cell_type": "code",
   "execution_count": null,
   "metadata": {},
   "outputs": [],
   "source": [
    "parameters = []\n",
    "parameter_name = 'total_energy'\n",
    "\n",
    "with open(filename) as file:\n",
    "    for line in file:\n",
    "        if f'{PARAMETERS[parameter_name][0]} after ' in line and '.stage_2()' in line:\n",
    "            parameters.append(line[line.index('DEBUG') :-2])\n",
    "\n",
    "for i, parameter in enumerate(parameters):\n",
    "    parameters[i] = float(parameter[parameter.index(':') + 2: ])\n",
    "\n",
    "parameters = np.array(parameters)\n",
    "\n",
    "plt.plot(\n",
    "    np.arange(parameters.size) * 0.005 + 0.005,\n",
    "    parameters,\n",
    "#     s=5,\n",
    "    color='black'\n",
    ");\n",
    "plt.xlabel(r'Time, $\\tau$');\n",
    "plt.ylabel(PARAMETERS[parameter_name][1]);\n",
    "plt.xlim(left=0);\n",
    "plt.ylim(\n",
    "#     bottom=-6.4e3, \n",
    "#     top=-6.1e3,\n",
    ");"
   ]
  },
  {
   "cell_type": "code",
   "execution_count": null,
   "metadata": {},
   "outputs": [],
   "source": []
  },
  {
   "cell_type": "code",
   "execution_count": null,
   "metadata": {},
   "outputs": [],
   "source": []
  }
 ],
 "metadata": {
  "kernelspec": {
   "display_name": "Python 3 (ipykernel)",
   "language": "python",
   "name": "python3"
  },
  "language_info": {
   "codemirror_mode": {
    "name": "ipython",
    "version": 3
   },
   "file_extension": ".py",
   "mimetype": "text/x-python",
   "name": "python",
   "nbconvert_exporter": "python",
   "pygments_lexer": "ipython3",
   "version": "3.9.5"
  }
 },
 "nbformat": 4,
 "nbformat_minor": 4
}
