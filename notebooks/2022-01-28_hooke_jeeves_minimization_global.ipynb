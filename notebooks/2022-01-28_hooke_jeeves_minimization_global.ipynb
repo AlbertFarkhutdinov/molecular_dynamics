{
 "cells": [
  {
   "cell_type": "code",
   "execution_count": 1,
   "id": "6880e659",
   "metadata": {
    "ExecuteTime": {
     "end_time": "2022-03-13T10:44:27.601300Z",
     "start_time": "2022-03-13T10:44:27.568301Z"
    }
   },
   "outputs": [],
   "source": [
    "from copy import deepcopy\n",
    "import os\n",
    "import sys\n",
    "from datetime import datetime"
   ]
  },
  {
   "cell_type": "code",
   "execution_count": 2,
   "id": "d6352594",
   "metadata": {
    "ExecuteTime": {
     "end_time": "2022-03-13T10:44:33.249589Z",
     "start_time": "2022-03-13T10:44:27.606300Z"
    }
   },
   "outputs": [],
   "source": [
    "import matplotlib.pyplot as plt\n",
    "from numba import njit\n",
    "import numpy as np\n",
    "import pandas as pd\n",
    "\n",
    "from scipy.optimize import basinhopping, minimize\n",
    "from scipy.stats import chisquare\n",
    "\n",
    "sys.path.append(os.path.dirname(sys.path[0]))"
   ]
  },
  {
   "cell_type": "code",
   "execution_count": 3,
   "id": "17e08be7",
   "metadata": {
    "ExecuteTime": {
     "end_time": "2022-03-13T10:44:34.915915Z",
     "start_time": "2022-03-13T10:44:33.249589Z"
    }
   },
   "outputs": [],
   "source": [
    "import scripts.constants as con\n",
    "from scripts.helpers import get_unique_frame\n",
    "from scripts.pca import PCA\n",
    "from scripts.plotter import Plotter, get_temperature_legend\n",
    "from scripts.properties.ovito_procedures import OvitoProcessor\n",
    "from scripts.rdf_calculator import RDFCalculator"
   ]
  },
  {
   "cell_type": "code",
   "execution_count": 4,
   "id": "f30e78cd",
   "metadata": {
    "ExecuteTime": {
     "end_time": "2022-03-13T10:44:34.963386Z",
     "start_time": "2022-03-13T10:44:34.942389Z"
    }
   },
   "outputs": [],
   "source": [
    "plt.style.use('seaborn')\n",
    "plt.rcParams['figure.dpi'] = 100\n",
    "plt.rcParams['font.family'] = 'Times New Roman'\n",
    "plt.rcParams['figure.figsize'] = [i / 2.54 for i in (15, 15)]\n",
    "plt.rcParams['mathtext.fontset'] = 'stix'\n",
    "plt.rcParams['mathtext.it'] = 'Times New Roman'\n",
    "plt.rcParams['xtick.labelsize'] = 14\n",
    "plt.rcParams['ytick.labelsize'] = 14\n",
    "plt.rcParams['legend.fontsize'] = 14\n",
    "plt.rcParams['axes.labelsize'] = 14"
   ]
  },
  {
   "cell_type": "code",
   "execution_count": 5,
   "id": "0f8c54e8",
   "metadata": {
    "ExecuteTime": {
     "end_time": "2022-03-13T10:44:35.027392Z",
     "start_time": "2022-03-13T10:44:34.967389Z"
    }
   },
   "outputs": [],
   "source": [
    "np.random.seed(0)"
   ]
  },
  {
   "cell_type": "code",
   "execution_count": 6,
   "id": "372d7b89",
   "metadata": {
    "ExecuteTime": {
     "end_time": "2022-03-13T10:44:35.059390Z",
     "start_time": "2022-03-13T10:44:35.036392Z"
    }
   },
   "outputs": [],
   "source": [
    "@njit\n",
    "def math_round(value):\n",
    "    rest = value - int(value)\n",
    "    if rest >= 0.5 and value >= 0:\n",
    "        return float(int(value) + 1)\n",
    "    if rest <= -0.5 and value < 0:\n",
    "        return float(int(value) - 1)\n",
    "    return float(int(value))\n",
    "\n",
    "@njit\n",
    "def get_boundary_conditions(\n",
    "        cell_dimensions: np.ndarray,\n",
    "        particles_number: int,\n",
    "        positions: np.ndarray,\n",
    "):\n",
    "    for i in range(particles_number):\n",
    "        for j in range(3):\n",
    "            if positions[i][j] >= cell_dimensions[j] / 2.0:\n",
    "                positions[i][j] -= (\n",
    "                        math_round(positions[i][j] / cell_dimensions[j])\n",
    "                        * cell_dimensions[j]\n",
    "                )\n",
    "            if positions[i][j] < -cell_dimensions[j] / 2.0:\n",
    "                positions[i][j] -= (\n",
    "                        math_round(positions[i][j] / cell_dimensions[j])\n",
    "                        * cell_dimensions[j]\n",
    "                )\n",
    "    return positions"
   ]
  },
  {
   "cell_type": "code",
   "execution_count": 7,
   "id": "f06b1b55",
   "metadata": {
    "ExecuteTime": {
     "end_time": "2022-03-13T10:44:35.139391Z",
     "start_time": "2022-03-13T10:44:35.065392Z"
    }
   },
   "outputs": [],
   "source": [
    "def calculate_rdf(positions):\n",
    "    cell_dimensions = np.array([12.25, 12.25, 12.25])\n",
    "    radii, rdf = OvitoProcessor(\n",
    "        positions=positions, \n",
    "        cell_dimensions=cell_dimensions,\n",
    "    ).get_rdf()\n",
    "    return radii, rdf"
   ]
  },
  {
   "cell_type": "code",
   "execution_count": 8,
   "id": "426d4841",
   "metadata": {
    "ExecuteTime": {
     "end_time": "2022-03-13T10:44:35.171401Z",
     "start_time": "2022-03-13T10:44:35.146392Z"
    }
   },
   "outputs": [],
   "source": [
    "def mse(obs, exp):\n",
    "    return np.sum((obs - exp) ** 2)"
   ]
  },
  {
   "cell_type": "code",
   "execution_count": 9,
   "id": "fc6818ae",
   "metadata": {
    "ExecuteTime": {
     "end_time": "2022-03-13T10:44:35.203385Z",
     "start_time": "2022-03-13T10:44:35.178391Z"
    }
   },
   "outputs": [],
   "source": [
    "def generate_random_state() -> None:\n",
    "    particles_number = 1372\n",
    "    cell_dimensions = 12.25 * np.ones(3)\n",
    "    return (np.random.random((particles_number, 3)) - 0.5) * cell_dimensions"
   ]
  },
  {
   "cell_type": "code",
   "execution_count": 10,
   "id": "443e4029",
   "metadata": {
    "ExecuteTime": {
     "end_time": "2022-03-13T10:44:35.281389Z",
     "start_time": "2022-03-13T10:44:35.214385Z"
    }
   },
   "outputs": [
    {
     "data": {
      "text/plain": [
       "'D:\\\\albert\\\\programming\\\\git_reps\\\\molecular_dynamics\\\\data\\\\2021-09-24_prepared_1.3_normal'"
      ]
     },
     "execution_count": 10,
     "metadata": {},
     "output_type": "execute_result"
    }
   ],
   "source": [
    "CURRENT_DATA_NORMAL = '2021-09-24_prepared_1.3_normal'\n",
    "PLOT_FILENAME_POSTFIX_NORMAL = 'hooke_jeeves_minimization_global'\n",
    "\n",
    "PATH_TO_CURRENT_DATA_NORMAL = os.path.join(con.PATH_TO_DATA, CURRENT_DATA_NORMAL)\n",
    "PATH_TO_PLOTS = os.path.join(con.PATH_TO_PLOTS, CURRENT_DATA_NORMAL)\n",
    "PATH_TO_CURRENT_DATA_NORMAL"
   ]
  },
  {
   "cell_type": "code",
   "execution_count": 11,
   "id": "d98e298f",
   "metadata": {
    "ExecuteTime": {
     "end_time": "2022-03-13T10:44:35.437950Z",
     "start_time": "2022-03-13T10:44:35.286392Z"
    }
   },
   "outputs": [
    {
     "data": {
      "text/plain": [
       "((2464, 612), (1, 612), (2464, 1372, 3), (1372, 3), (1372, 3))"
      ]
     },
     "execution_count": 11,
     "metadata": {},
     "output_type": "execute_result"
    }
   ],
   "source": [
    "samples = np.load(os.path.join(PATH_TO_CURRENT_DATA_NORMAL, 'samples.npy'))\n",
    "test_sample = np.load(os.path.join(PATH_TO_CURRENT_DATA_NORMAL, 'test_sample.npy'))\n",
    "targets = np.load(os.path.join(PATH_TO_CURRENT_DATA_NORMAL, 'targets_pbc.npy'))\n",
    "cooled_1 = np.load(os.path.join(PATH_TO_CURRENT_DATA_NORMAL, 'cooled_1.npy'))\n",
    "cooled_2 = np.load(os.path.join(PATH_TO_CURRENT_DATA_NORMAL, 'cooled_2.npy'))\n",
    "\n",
    "samples.shape, test_sample.shape, targets.shape, cooled_1.shape, cooled_2.shape"
   ]
  },
  {
   "cell_type": "code",
   "execution_count": 12,
   "id": "dbc8a1dd",
   "metadata": {
    "ExecuteTime": {
     "end_time": "2022-03-13T10:44:35.468947Z",
     "start_time": "2022-03-13T10:44:35.441953Z"
    }
   },
   "outputs": [
    {
     "data": {
      "text/plain": [
       "(1372, 3)"
      ]
     },
     "execution_count": 12,
     "metadata": {},
     "output_type": "execute_result"
    }
   ],
   "source": [
    "i = 1\n",
    "obs_rdf = samples[i]\n",
    "some_positions = generate_random_state()\n",
    "some_positions.shape"
   ]
  },
  {
   "cell_type": "markdown",
   "id": "e2544a31",
   "metadata": {},
   "source": [
    "$$G = \\int_0^1{g(r)dr}$$"
   ]
  },
  {
   "cell_type": "code",
   "execution_count": 13,
   "id": "bd0779cf",
   "metadata": {
    "ExecuteTime": {
     "end_time": "2022-03-13T10:44:39.188899Z",
     "start_time": "2022-03-13T10:44:35.472954Z"
    }
   },
   "outputs": [
    {
     "data": {
      "image/png": "[encoded data removed]",
      "text/plain": [
       "<Figure size 1771.65x1771.65 with 1 Axes>"
      ]
     },
     "metadata": {},
     "output_type": "display_data"
    }
   ],
   "source": [
    "radii, exp_rdf = calculate_rdf(some_positions)\n",
    "size = obs_rdf.size\n",
    "radii = radii[:size]\n",
    "exp_rdf = exp_rdf[:size]\n",
    "\n",
    "plotter = Plotter(\n",
    "    path_to_plots=PATH_TO_PLOTS,\n",
    "    labels=('radius', 'rdf'),\n",
    ")\n",
    "plotter.ax.plot(radii, obs_rdf, color='black', label='Observed')\n",
    "plotter.ax.plot(radii, exp_rdf, color='red', label='Fitted')\n",
    "plotter.set_title(f'MSE = {mse(obs=obs_rdf, exp=exp_rdf):.3f}')\n",
    "plotter.get_legend()\n",
    "plotter.save_plot('initial_state.png')\n",
    "plt.show()"
   ]
  },
  {
   "cell_type": "code",
   "execution_count": 14,
   "id": "ea32c678",
   "metadata": {
    "ExecuteTime": {
     "end_time": "2022-03-13T10:44:39.205005Z",
     "start_time": "2022-03-13T10:44:39.188899Z"
    }
   },
   "outputs": [],
   "source": [
    "cell_dimensions = np.ones(3) * 12.25"
   ]
  },
  {
   "cell_type": "code",
   "execution_count": 15,
   "id": "01713a31",
   "metadata": {
    "ExecuteTime": {
     "end_time": "2022-03-13T10:44:39.298668Z",
     "start_time": "2022-03-13T10:44:39.211671Z"
    }
   },
   "outputs": [],
   "source": [
    "def optimized_func(positions):\n",
    "    collided_number = 0\n",
    "    positions = positions.reshape(1372, 3)\n",
    "    radii, exp_rdf = calculate_rdf(positions)\n",
    "    size = obs_rdf.size\n",
    "    radii = radii[:size]\n",
    "    exp_rdf = exp_rdf[:size]\n",
    "    if np.where(exp_rdf > 0)[0][0] < np.where(obs_rdf > 0)[0][0]:\n",
    "        collided_number = exp_rdf[np.where(exp_rdf > 0)[0]].sum()\n",
    "    result = mse(obs=obs_rdf, exp=exp_rdf)\n",
    "    return result, collided_number"
   ]
  },
  {
   "cell_type": "code",
   "execution_count": 16,
   "id": "4117c43c",
   "metadata": {
    "ExecuteTime": {
     "end_time": "2022-03-13T10:44:39.410670Z",
     "start_time": "2022-03-13T10:44:39.305671Z"
    },
    "code_folding": []
   },
   "outputs": [],
   "source": [
    "def hooke_jeeves_minimization(\n",
    "        optimized,\n",
    "        function: callable,\n",
    "        accuracy,\n",
    "        step: float,\n",
    "):\n",
    "    old_result = function(optimized)\n",
    "    new_result = np.array(old_result)\n",
    "    mse_values = [old_result[0]]\n",
    "    parameters_array = [np.array(optimized)]\n",
    "    outer_step_number = 1\n",
    "    while step > accuracy:\n",
    "        inner_start = datetime.now()\n",
    "        print(f'{outer_step_number = }')\n",
    "        print(f'{step = }')\n",
    "        x_old = np.array(optimized)\n",
    "        for i in range(optimized.shape[0]):\n",
    "            if i % 400 == 0:\n",
    "                print(f'{i}/{optimized.shape[0]} particles are processed at step {outer_step_number}...')\n",
    "                \n",
    "            for j in range(optimized.shape[1]):\n",
    "                _steps = np.zeros(optimized.shape)\n",
    "                _steps[i][j] += step\n",
    "                new_result = function(optimized + _steps)\n",
    "                if (new_result < old_result).all():\n",
    "                    optimized += _steps\n",
    "                    old_result = np.array(new_result)\n",
    "                else:\n",
    "                    new_result = function(optimized - _steps)\n",
    "                    if (new_result < old_result).all():\n",
    "                        optimized -= _steps\n",
    "                        old_result = np.array(new_result)\n",
    "                    else:\n",
    "                        new_result = np.array(old_result)\n",
    "\n",
    "        x_new = np.array(optimized)\n",
    "        optimized = x_old + 2 * (x_new - x_old)\n",
    "        old_result = function(optimized)\n",
    "        if old_result[0] >= new_result[0]:\n",
    "            optimized = np.array(x_new)\n",
    "            old_result = np.array(new_result)\n",
    "            step = step / 5\n",
    "        outer_step_number += 1\n",
    "        mse_values.append(old_result[0])\n",
    "        parameters_array.append(np.array(optimized))\n",
    "        print(f'Current MSE = {old_result[0]}')\n",
    "        if len(mse_values) > 2 and mse_values[-1] == mse_values[-2]:\n",
    "            break\n",
    "        print('HJ step execution time:', datetime.now() - inner_start)\n",
    "    return optimized, mse_values, parameters_array"
   ]
  },
  {
   "cell_type": "code",
   "execution_count": 17,
   "id": "6b28afe6",
   "metadata": {
    "ExecuteTime": {
     "end_time": "2022-03-13T10:44:39.442673Z",
     "start_time": "2022-03-13T10:44:39.416674Z"
    }
   },
   "outputs": [],
   "source": [
    "def interruption_proof_minimization(minimization_method, args, **kwargs):\n",
    "    outer_start = datetime.now()\n",
    "    optimized = np.array(args)\n",
    "    try:\n",
    "        optimized, mse_values, parameters_array = minimization_method(optimized, **kwargs)\n",
    "    except (KeyboardInterrupt, SystemError):\n",
    "        pass\n",
    "    print(mse_values)\n",
    "    print('Local minimization time:', datetime.now() - outer_start)\n",
    "    return optimized, mse_values, parameters_array"
   ]
  },
  {
   "cell_type": "code",
   "execution_count": 18,
   "id": "394301f5",
   "metadata": {
    "ExecuteTime": {
     "end_time": "2022-03-13T10:44:39.505670Z",
     "start_time": "2022-03-13T10:44:39.448671Z"
    }
   },
   "outputs": [],
   "source": [
    "def global_minimization():\n",
    "    global_start = datetime.now()\n",
    "    local_minima = []\n",
    "    global_minimum = float('inf')\n",
    "    global_index = None\n",
    "    i = 0\n",
    "    is_global = False\n",
    "    while not is_global:\n",
    "        print(f'*************Step {i + 1}*************')\n",
    "        \n",
    "        initial_config = PCA(\n",
    "            iterations_number=100,\n",
    "            fitness=lambda x: optimized_func(x)[0] + optimized_func(x)[1],\n",
    "            parameters_number=1372*3,\n",
    "            bounds=(-6.125, 6.125),\n",
    "        ).run_pca().reshape(1372, 3)\n",
    "        is_global = True\n",
    "        \n",
    "        optimized, mse_values, parameters_array = interruption_proof_minimization(\n",
    "            minimization_method=hooke_jeeves_minimization,\n",
    "#             args=generate_random_state(),\n",
    "            args=initial_config,\n",
    "            function=optimized_func,\n",
    "            accuracy=1e-3,\n",
    "            step=1,\n",
    "        )\n",
    "        local_minima.append({\n",
    "            'optimized': optimized, \n",
    "            'mse_values': mse_values, \n",
    "            'parameters_array': parameters_array\n",
    "        })\n",
    "        if mse_values[-1] < global_minimum:\n",
    "            global_minimum = mse_values[-1]\n",
    "            global_index = i\n",
    "        if global_minimum < 1:\n",
    "            is_global = True\n",
    "        i += 1\n",
    "    print('*************Final*************')\n",
    "    optimized, mse_values, parameters_array = interruption_proof_minimization(\n",
    "        minimization_method=hooke_jeeves_minimization,\n",
    "        args=local_minima[global_index]['optimized'],\n",
    "        function=optimized_func,\n",
    "        accuracy=1e-7,\n",
    "        step=1e-3,\n",
    "    )\n",
    "    print('Global minimization time:', datetime.now() - global_start)\n",
    "    return optimized, mse_values, parameters_array"
   ]
  },
  {
   "cell_type": "code",
   "execution_count": null,
   "id": "e3e70f04",
   "metadata": {
    "ExecuteTime": {
     "start_time": "2022-03-13T10:44:27.730Z"
    },
    "scrolled": true
   },
   "outputs": [
    {
     "name": "stdout",
     "output_type": "stream",
     "text": [
      "*************Step 1*************\n",
      "Iteration 1 / 100.\n",
      "Perturbation.\n",
      "Scattering.\n",
      "Exploration.\n",
      "Iteration 2 / 100.\n",
      "Perturbation.\n",
      "Scattering.\n",
      "Exploration.\n",
      "Iteration 3 / 100.\n",
      "Perturbation.\n",
      "Scattering.\n",
      "Iteration 4 / 100.\n",
      "Perturbation.\n",
      "Exploration.\n",
      "Iteration 5 / 100.\n",
      "Perturbation.\n",
      "Scattering.\n",
      "Iteration 6 / 100.\n",
      "Perturbation.\n",
      "Scattering.\n",
      "Iteration 7 / 100.\n",
      "Perturbation.\n",
      "Scattering.\n",
      "Iteration 8 / 100.\n",
      "Perturbation.\n",
      "Scattering.\n",
      "Iteration 9 / 100.\n",
      "Perturbation.\n",
      "Scattering.\n",
      "Iteration 10 / 100.\n",
      "Perturbation.\n",
      "Scattering.\n",
      "Iteration 11 / 100.\n",
      "Perturbation.\n",
      "Scattering.\n",
      "Iteration 12 / 100.\n",
      "Perturbation.\n",
      "Scattering.\n",
      "Iteration 13 / 100.\n",
      "Perturbation.\n",
      "Scattering.\n",
      "Iteration 14 / 100.\n",
      "Perturbation.\n",
      "Scattering.\n",
      "Exploration.\n",
      "Iteration 15 / 100.\n",
      "Perturbation.\n",
      "Scattering.\n",
      "Iteration 16 / 100.\n",
      "Perturbation.\n",
      "Scattering.\n",
      "Iteration 17 / 100.\n",
      "Perturbation.\n",
      "Exploration.\n",
      "Iteration 18 / 100.\n",
      "Perturbation.\n",
      "Scattering.\n",
      "Iteration 19 / 100.\n",
      "Perturbation.\n",
      "Scattering.\n",
      "Iteration 20 / 100.\n",
      "Perturbation.\n",
      "Exploration.\n",
      "Iteration 21 / 100.\n",
      "Perturbation.\n",
      "Scattering.\n",
      "Iteration 22 / 100.\n",
      "Perturbation.\n",
      "Scattering.\n",
      "Iteration 23 / 100.\n",
      "Perturbation.\n",
      "Scattering.\n",
      "Iteration 24 / 100.\n",
      "Perturbation.\n",
      "Exploration.\n",
      "Iteration 25 / 100.\n",
      "Perturbation.\n",
      "Scattering.\n",
      "Iteration 26 / 100.\n",
      "Perturbation.\n",
      "Scattering.\n",
      "Iteration 27 / 100.\n",
      "Perturbation.\n",
      "Scattering.\n",
      "Iteration 28 / 100.\n",
      "Perturbation.\n",
      "Exploration.\n",
      "Iteration 29 / 100.\n",
      "Perturbation.\n",
      "Scattering.\n",
      "Iteration 30 / 100.\n",
      "Perturbation.\n",
      "Scattering.\n",
      "Iteration 31 / 100.\n",
      "Perturbation.\n",
      "Scattering.\n",
      "Iteration 32 / 100.\n",
      "Perturbation.\n",
      "Scattering.\n",
      "Iteration 33 / 100.\n",
      "Perturbation.\n",
      "Scattering.\n",
      "Iteration 34 / 100.\n",
      "Perturbation.\n",
      "Exploration.\n",
      "Iteration 35 / 100.\n",
      "Perturbation.\n",
      "Scattering.\n",
      "Iteration 36 / 100.\n",
      "Perturbation.\n",
      "Exploration.\n",
      "Iteration 37 / 100.\n",
      "Perturbation.\n",
      "Scattering.\n",
      "Iteration 38 / 100.\n",
      "Perturbation.\n",
      "Exploration.\n",
      "Iteration 39 / 100.\n",
      "Perturbation.\n",
      "Scattering.\n",
      "Iteration 40 / 100.\n",
      "Perturbation.\n",
      "Scattering.\n",
      "Iteration 41 / 100.\n",
      "Perturbation.\n",
      "Exploration.\n",
      "Iteration 42 / 100.\n",
      "Perturbation.\n",
      "Scattering.\n",
      "Iteration 43 / 100.\n",
      "Perturbation.\n",
      "Exploration.\n",
      "Iteration 44 / 100.\n",
      "Perturbation.\n",
      "Scattering.\n",
      "Iteration 45 / 100.\n",
      "Perturbation.\n",
      "Scattering.\n",
      "Iteration 46 / 100.\n",
      "Perturbation.\n",
      "Exploration.\n",
      "Iteration 47 / 100.\n",
      "Perturbation.\n",
      "Scattering.\n",
      "Iteration 48 / 100.\n",
      "Perturbation.\n",
      "Exploration.\n",
      "Iteration 49 / 100.\n",
      "Perturbation.\n",
      "Scattering.\n",
      "Iteration 50 / 100.\n",
      "Perturbation.\n",
      "Exploration.\n",
      "Iteration 51 / 100.\n",
      "Perturbation.\n",
      "Scattering.\n",
      "Iteration 52 / 100.\n",
      "Perturbation.\n",
      "Exploration.\n",
      "Iteration 53 / 100.\n",
      "Perturbation.\n",
      "Scattering.\n",
      "Iteration 54 / 100.\n",
      "Perturbation.\n",
      "Scattering.\n",
      "Iteration 55 / 100.\n",
      "Perturbation.\n",
      "Scattering.\n",
      "Iteration 56 / 100.\n",
      "Perturbation.\n",
      "Scattering.\n",
      "Iteration 57 / 100.\n",
      "Perturbation.\n",
      "Exploration.\n",
      "Iteration 58 / 100.\n",
      "Perturbation.\n",
      "Scattering.\n",
      "Iteration 59 / 100.\n",
      "Perturbation.\n",
      "Scattering.\n",
      "Iteration 60 / 100.\n",
      "Perturbation.\n",
      "Exploration.\n",
      "Iteration 61 / 100.\n",
      "Perturbation.\n",
      "Scattering.\n",
      "Iteration 62 / 100.\n",
      "Perturbation.\n",
      "Scattering.\n",
      "Iteration 63 / 100.\n",
      "Perturbation.\n",
      "Exploration.\n",
      "Iteration 64 / 100.\n",
      "Perturbation.\n",
      "Scattering.\n",
      "Iteration 65 / 100.\n",
      "Perturbation.\n",
      "Scattering.\n",
      "Iteration 66 / 100.\n",
      "Perturbation.\n",
      "Exploration.\n",
      "Iteration 67 / 100.\n",
      "Perturbation.\n",
      "Scattering.\n",
      "Iteration 68 / 100.\n",
      "Perturbation.\n",
      "Exploration.\n",
      "Iteration 69 / 100.\n",
      "Perturbation.\n",
      "Scattering.\n",
      "Iteration 70 / 100.\n",
      "Perturbation.\n",
      "Exploration.\n",
      "Iteration 71 / 100.\n",
      "Perturbation.\n",
      "Scattering.\n",
      "Iteration 72 / 100.\n",
      "Perturbation.\n",
      "Exploration.\n",
      "Iteration 73 / 100.\n",
      "Perturbation.\n",
      "Scattering.\n",
      "Iteration 74 / 100.\n",
      "Perturbation.\n",
      "Exploration.\n",
      "Iteration 75 / 100.\n",
      "Perturbation.\n",
      "Scattering.\n",
      "Iteration 76 / 100.\n",
      "Perturbation.\n",
      "Scattering.\n",
      "Iteration 77 / 100.\n",
      "Perturbation.\n",
      "Exploration.\n",
      "Iteration 78 / 100.\n",
      "Perturbation.\n",
      "Scattering.\n",
      "Iteration 79 / 100.\n",
      "Perturbation.\n",
      "Scattering.\n",
      "Iteration 80 / 100.\n",
      "Perturbation.\n",
      "Scattering.\n",
      "Iteration 81 / 100.\n",
      "Perturbation.\n",
      "Exploration.\n",
      "Iteration 82 / 100.\n",
      "Perturbation.\n",
      "Scattering.\n",
      "Iteration 83 / 100.\n",
      "Perturbation.\n",
      "Exploration.\n",
      "Iteration 84 / 100.\n",
      "Perturbation.\n",
      "Scattering.\n",
      "Iteration 85 / 100.\n",
      "Perturbation.\n",
      "Exploration.\n",
      "Iteration 86 / 100.\n",
      "Perturbation.\n",
      "Scattering.\n",
      "Iteration 87 / 100.\n",
      "Perturbation.\n",
      "Scattering.\n",
      "Iteration 88 / 100.\n",
      "Perturbation.\n",
      "Scattering.\n",
      "Iteration 89 / 100.\n",
      "Perturbation.\n",
      "Scattering.\n",
      "Iteration 90 / 100.\n",
      "Perturbation.\n",
      "Scattering.\n",
      "Iteration 91 / 100.\n",
      "Perturbation.\n",
      "Scattering.\n",
      "Iteration 92 / 100.\n",
      "Perturbation.\n",
      "Scattering.\n",
      "Iteration 93 / 100.\n",
      "Perturbation.\n",
      "Exploration.\n",
      "Iteration 94 / 100.\n",
      "Perturbation.\n",
      "Scattering.\n",
      "Iteration 95 / 100.\n",
      "Perturbation.\n",
      "Exploration.\n",
      "Iteration 96 / 100.\n",
      "Perturbation.\n",
      "Scattering.\n",
      "Iteration 97 / 100.\n",
      "Perturbation.\n",
      "Scattering.\n",
      "Iteration 98 / 100.\n",
      "Perturbation.\n",
      "Exploration.\n",
      "Iteration 99 / 100.\n",
      "Perturbation.\n",
      "Scattering.\n",
      "Iteration 100 / 100.\n",
      "Perturbation.\n",
      "Scattering.\n",
      "outer_step_number = 1\n",
      "step = 1\n",
      "0/1372 particles are processed at step 1...\n",
      "400/1372 particles are processed at step 1...\n",
      "800/1372 particles are processed at step 1...\n",
      "1200/1372 particles are processed at step 1...\n",
      "Current MSE = 25.274664770142916\n",
      "HJ step execution time: 0:15:53.018643\n",
      "outer_step_number = 2\n",
      "step = 0.2\n",
      "0/1372 particles are processed at step 2...\n",
      "400/1372 particles are processed at step 2...\n",
      "800/1372 particles are processed at step 2...\n",
      "1200/1372 particles are processed at step 2...\n",
      "Current MSE = 6.119009321696132\n",
      "HJ step execution time: 0:16:15.787239\n",
      "outer_step_number = 3\n",
      "step = 0.04\n",
      "0/1372 particles are processed at step 3...\n",
      "400/1372 particles are processed at step 3...\n",
      "800/1372 particles are processed at step 3...\n",
      "1200/1372 particles are processed at step 3...\n",
      "Current MSE = 4.205730745724802\n",
      "HJ step execution time: 0:16:35.757771\n",
      "outer_step_number = 4\n",
      "step = 0.008\n",
      "0/1372 particles are processed at step 4...\n",
      "400/1372 particles are processed at step 4...\n",
      "800/1372 particles are processed at step 4...\n"
     ]
    }
   ],
   "source": [
    "new_positions, mse_values, parameters_array = global_minimization()"
   ]
  },
  {
   "cell_type": "code",
   "execution_count": null,
   "id": "58ea00ca",
   "metadata": {
    "ExecuteTime": {
     "start_time": "2022-03-13T10:44:27.736Z"
    }
   },
   "outputs": [],
   "source": [
    "radii, new_exp_rdf = calculate_rdf(new_positions)\n",
    "size = obs_rdf.size\n",
    "radii = radii[:size]\n",
    "new_exp_rdf = new_exp_rdf[:size]"
   ]
  },
  {
   "cell_type": "code",
   "execution_count": null,
   "id": "989f8218",
   "metadata": {
    "ExecuteTime": {
     "start_time": "2022-03-13T10:44:27.743Z"
    }
   },
   "outputs": [],
   "source": [
    "mse_values"
   ]
  },
  {
   "cell_type": "code",
   "execution_count": null,
   "id": "7e40d0a8",
   "metadata": {
    "ExecuteTime": {
     "start_time": "2022-03-13T10:44:27.752Z"
    }
   },
   "outputs": [],
   "source": [
    "print(f'Initial MSE = {mse(obs=obs_rdf, exp=exp_rdf)}')\n",
    "print(f'Current MSE = {mse(obs=obs_rdf, exp=new_exp_rdf)}')"
   ]
  },
  {
   "cell_type": "code",
   "execution_count": null,
   "id": "195a463b",
   "metadata": {
    "ExecuteTime": {
     "start_time": "2022-03-13T10:44:27.758Z"
    }
   },
   "outputs": [],
   "source": [
    "plt.plot(radii, obs_rdf, color='black')\n",
    "for i, parameters in enumerate(parameters_array):\n",
    "    plt.plot(\n",
    "        radii, \n",
    "        calculate_rdf(parameters)[1], \n",
    "        label=f'Step {i + 1}',\n",
    "    )\n",
    "plt.legend()\n",
    "plt.show()"
   ]
  },
  {
   "cell_type": "code",
   "execution_count": null,
   "id": "f888999e",
   "metadata": {
    "ExecuteTime": {
     "start_time": "2022-03-13T10:44:27.764Z"
    }
   },
   "outputs": [],
   "source": [
    "radii, exp_rdf = calculate_rdf(new_positions)\n",
    "size = obs_rdf.size\n",
    "radii = radii[:size]\n",
    "exp_rdf = exp_rdf[:size]\n",
    "\n",
    "plotter = Plotter(\n",
    "    path_to_plots=PATH_TO_PLOTS,\n",
    "    labels=('radius', 'rdf'),\n",
    ")\n",
    "plotter.ax.plot(radii, obs_rdf, color='black', label='Observed')\n",
    "plotter.ax.plot(radii, exp_rdf, color='red', label='Fitted')\n",
    "plotter.set_title(f'MSE = {mse(obs=obs_rdf, exp=exp_rdf):.3f}')\n",
    "plotter.get_legend()\n",
    "plotter.save_plot('optimized_state_global.png')\n",
    "plt.show()"
   ]
  },
  {
   "cell_type": "code",
   "execution_count": null,
   "id": "6607da48",
   "metadata": {
    "ExecuteTime": {
     "start_time": "2022-03-13T10:44:27.769Z"
    },
    "scrolled": false
   },
   "outputs": [],
   "source": [
    "for i, parameters in enumerate(parameters_array):\n",
    "    plt.plot(\n",
    "        radii, \n",
    "        calculate_rdf(parameters)[1] - obs_rdf, \n",
    "        label=f'Step {i + 1}',\n",
    "    )\n",
    "plt.legend()\n",
    "plt.show()"
   ]
  },
  {
   "cell_type": "code",
   "execution_count": null,
   "id": "48dc1053",
   "metadata": {
    "ExecuteTime": {
     "start_time": "2022-03-13T10:44:27.782Z"
    }
   },
   "outputs": [],
   "source": [
    "some_positions"
   ]
  },
  {
   "cell_type": "code",
   "execution_count": null,
   "id": "993d806a",
   "metadata": {
    "ExecuteTime": {
     "start_time": "2022-03-13T10:44:27.788Z"
    }
   },
   "outputs": [],
   "source": [
    "new_positions"
   ]
  },
  {
   "cell_type": "code",
   "execution_count": null,
   "id": "6a19e078",
   "metadata": {
    "ExecuteTime": {
     "start_time": "2022-03-13T10:44:27.794Z"
    }
   },
   "outputs": [],
   "source": [
    "cell_dimensions = np.ones(3) * 12.25\n",
    "ovito_1 = OvitoProcessor(positions=some_positions, cell_dimensions=cell_dimensions)\n",
    "ovito_2 = OvitoProcessor(positions=new_positions, cell_dimensions=cell_dimensions)"
   ]
  },
  {
   "cell_type": "code",
   "execution_count": null,
   "id": "950ad1a4",
   "metadata": {
    "ExecuteTime": {
     "start_time": "2022-03-13T10:44:27.799Z"
    },
    "code_folding": []
   },
   "outputs": [],
   "source": [
    "indices_1 = get_unique_frame(ovito_1.get_voronoi_indices())\n",
    "indices_2 = get_unique_frame(ovito_2.get_voronoi_indices())\n",
    "for i in range(10):\n",
    "    if i not in indices_1.columns:\n",
    "        indices_1[i] = 0\n",
    "    if i not in indices_2.columns:\n",
    "        indices_2[i] = 0\n",
    "merged_indices = indices_1.merge(\n",
    "    right=indices_2, \n",
    "    on=list(range(10)), \n",
    "    how='outer',\n",
    ").fillna(0).astype(int)\n",
    "merged_indices['diff'] = merged_indices['counts_y'] - merged_indices['counts_x']\n",
    "merged_indices"
   ]
  },
  {
   "cell_type": "code",
   "execution_count": null,
   "id": "638134a5",
   "metadata": {
    "ExecuteTime": {
     "start_time": "2022-03-13T10:44:27.807Z"
    }
   },
   "outputs": [],
   "source": [
    "volumes_1 = get_unique_frame(ovito_1.get_voronoi_volumes()).rename(columns={0: 'volume'})\n",
    "volumes_2 = get_unique_frame(ovito_2.get_voronoi_volumes()).rename(columns={0: 'volume'})\n",
    "merged_volumes = volumes_1.merge(\n",
    "    right=volumes_2, \n",
    "    on='volume', \n",
    "    how='outer',\n",
    ").fillna(0)\n",
    "merged_volumes['diff'] = merged_volumes['counts_y'] - merged_volumes['counts_x']\n",
    "merged_volumes"
   ]
  },
  {
   "cell_type": "code",
   "execution_count": null,
   "id": "8834c8ff",
   "metadata": {
    "ExecuteTime": {
     "start_time": "2022-03-13T10:44:27.821Z"
    }
   },
   "outputs": [],
   "source": [
    "coordinations_1 = get_unique_frame(ovito_1.get_voronoi_coordination()).rename(columns={0: 'coordination'})\n",
    "coordinations_2 = get_unique_frame(ovito_2.get_voronoi_coordination()).rename(columns={0: 'coordination'})\n",
    "merged_coordinations = coordinations_1.merge(\n",
    "    right=coordinations_2, \n",
    "    on='coordination', \n",
    "    how='outer',\n",
    ").fillna(0).astype(int)\n",
    "merged_coordinations['diff'] = merged_coordinations['counts_y'] - merged_coordinations['counts_x']\n",
    "merged_coordinations"
   ]
  },
  {
   "cell_type": "code",
   "execution_count": null,
   "id": "416c8ad1",
   "metadata": {
    "ExecuteTime": {
     "start_time": "2022-03-13T10:44:27.833Z"
    }
   },
   "outputs": [],
   "source": [
    "merged_indices = merged_indices[\n",
    "    (merged_indices['counts_x'] > 1)\n",
    "    & (merged_indices['counts_y'] > 1)\n",
    "].reset_index(drop=True)\n",
    "merged_indices"
   ]
  },
  {
   "cell_type": "code",
   "execution_count": null,
   "id": "8fd0c1ad",
   "metadata": {
    "ExecuteTime": {
     "start_time": "2022-03-13T10:44:27.841Z"
    }
   },
   "outputs": [],
   "source": [
    "merged_indices['diff'].describe()"
   ]
  },
  {
   "cell_type": "code",
   "execution_count": null,
   "id": "ee3a6e9b",
   "metadata": {
    "ExecuteTime": {
     "start_time": "2022-03-13T10:44:27.848Z"
    }
   },
   "outputs": [],
   "source": [
    "plt.bar(merged_coordinations['coordination'], merged_coordinations['counts_x'], alpha=0.5)\n",
    "plt.bar(merged_coordinations['coordination'], merged_coordinations['counts_y'], alpha=0.5)\n",
    "plt.show()"
   ]
  },
  {
   "cell_type": "code",
   "execution_count": null,
   "id": "aba17ef1",
   "metadata": {
    "ExecuteTime": {
     "start_time": "2022-03-13T10:44:27.854Z"
    }
   },
   "outputs": [],
   "source": [
    "hist, bins, _ = plt.hist(volumes_1['volume'], alpha=0.5)\n",
    "plt.hist(volumes_2['volume'], alpha=0.5, bins=bins)\n",
    "plt.show()"
   ]
  },
  {
   "cell_type": "code",
   "execution_count": null,
   "id": "400a34bf",
   "metadata": {
    "ExecuteTime": {
     "start_time": "2022-03-13T10:44:27.864Z"
    }
   },
   "outputs": [],
   "source": [
    "radii, ovito_rdf_1, coordination_1 = ovito_1.get_rdf(is_coordination_returned=True)\n",
    "radii, ovito_rdf_2, coordination_2 = ovito_2.get_rdf(is_coordination_returned=True)"
   ]
  },
  {
   "cell_type": "code",
   "execution_count": null,
   "id": "dd4d2fbe",
   "metadata": {
    "ExecuteTime": {
     "start_time": "2022-03-13T10:44:27.874Z"
    }
   },
   "outputs": [],
   "source": [
    "plt.plot(radii, ovito_rdf_1, label='1')\n",
    "plt.plot(radii, ovito_rdf_2, label='2')\n",
    "plt.legend()\n",
    "plt.show()"
   ]
  },
  {
   "cell_type": "code",
   "execution_count": null,
   "id": "2eeb8413",
   "metadata": {
    "ExecuteTime": {
     "start_time": "2022-03-13T10:44:27.880Z"
    }
   },
   "outputs": [],
   "source": [
    "hist, bins, _ = plt.hist(coordination_1, alpha=0.5)\n",
    "plt.hist(coordination_2, alpha=0.5, bins=bins)\n",
    "plt.show()"
   ]
  },
  {
   "cell_type": "code",
   "execution_count": null,
   "id": "04efd37c",
   "metadata": {
    "ExecuteTime": {
     "start_time": "2022-03-13T10:44:27.887Z"
    }
   },
   "outputs": [],
   "source": [
    "accuracies = np.array([1e-2, 1e-3, 1e-4, 1e-5])\n",
    "times = np.array([291.500393, 547.916789, 981.426485, 1017.221477])\n",
    "errors = np.array([0.1990364055106134, 0.13339311228418615, 0.0967833879874992, 0.09534158842519781])\n",
    "\n",
    "plt.plot(accuracies, times / times.max(), label='Calculation time')\n",
    "plt.plot(accuracies, errors / errors.max(), label='MSE after calculation')\n",
    "plt.xscale('log')\n",
    "plt.xlabel('Accuracy')\n",
    "plt.legend()\n",
    "plt.show()"
   ]
  },
  {
   "cell_type": "code",
   "execution_count": null,
   "id": "4ed30110",
   "metadata": {},
   "outputs": [],
   "source": []
  },
  {
   "cell_type": "code",
   "execution_count": null,
   "id": "34f1272d",
   "metadata": {},
   "outputs": [],
   "source": []
  }
 ],
 "metadata": {
  "kernelspec": {
   "display_name": "Python 3 (ipykernel)",
   "language": "python",
   "name": "python3"
  },
  "language_info": {
   "codemirror_mode": {
    "name": "ipython",
    "version": 3
   },
   "file_extension": ".py",
   "mimetype": "text/x-python",
   "name": "python",
   "nbconvert_exporter": "python",
   "pygments_lexer": "ipython3",
   "version": "3.9.9"
  },
  "toc": {
   "base_numbering": 1,
   "nav_menu": {},
   "number_sections": true,
   "sideBar": true,
   "skip_h1_title": true,
   "title_cell": "Table of Contents",
   "title_sidebar": "Contents",
   "toc_cell": false,
   "toc_position": {},
   "toc_section_display": true,
   "toc_window_display": false
  }
 },
 "nbformat": 4,
 "nbformat_minor": 5
}
