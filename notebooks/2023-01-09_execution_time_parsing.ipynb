{
 "cells": [
  {
   "cell_type": "code",
   "execution_count": null,
   "id": "ee8607da",
   "metadata": {
    "ExecuteTime": {
     "end_time": "2023-01-15T16:17:45.564212Z",
     "start_time": "2023-01-15T16:17:45.508167Z"
    }
   },
   "outputs": [],
   "source": [
    "from datetime import datetime\n",
    "from pathlib import Path\n",
    "import sys\n",
    "\n",
    "BASE_DIR = Path('.').resolve().parent\n",
    "sys.path.append(str(BASE_DIR))"
   ]
  },
  {
   "cell_type": "code",
   "execution_count": null,
   "id": "5eefe38a",
   "metadata": {
    "ExecuteTime": {
     "end_time": "2023-01-15T16:17:45.628200Z",
     "start_time": "2023-01-15T16:17:45.576164Z"
    }
   },
   "outputs": [],
   "source": [
    "CURRENT_DATA = '2022-09-25_velocity_scaling_HV_2e-5_T_01e-4'\n",
    "PATH_TO_CURRENT_DATA = BASE_DIR / 'data' / CURRENT_DATA\n",
    "PATH_TO_CURRENT_DATA"
   ]
  },
  {
   "cell_type": "code",
   "execution_count": null,
   "id": "0d85b99e",
   "metadata": {
    "ExecuteTime": {
     "end_time": "2023-01-15T16:17:45.707174Z",
     "start_time": "2023-01-15T16:17:45.641181Z"
    },
    "code_folding": []
   },
   "outputs": [],
   "source": [
    "log_filenames = []\n",
    "for filename in PATH_TO_CURRENT_DATA.iterdir():\n",
    "    if filename.match('log_*.log'):\n",
    "        log_filenames.append(filename)\n",
    "        \n",
    "log_filenames = sorted(log_filenames)\n",
    "log_filenames"
   ]
  },
  {
   "cell_type": "code",
   "execution_count": null,
   "id": "06c45ef2",
   "metadata": {
    "ExecuteTime": {
     "end_time": "2023-01-15T16:18:17.166826Z",
     "start_time": "2023-01-15T16:17:45.718163Z"
    }
   },
   "outputs": [],
   "source": [
    "lines = []\n",
    "for log_filename in log_filenames:\n",
    "    with open(log_filename) as file:\n",
    "        for line in file:\n",
    "            if 'step' in line.lower():\n",
    "                _line = (\n",
    "                    (line[:10] + 'T' + line[11:])\n",
    "                    .rstrip()\n",
    "                    .replace(' ', '')\n",
    "                    .replace('|INFO|', ';')\n",
    "                    .replace('\\t', ';')\n",
    "                    .replace(',;', ';')\n",
    "                    .replace('epsilon', 'eps')\n",
    "                    .rstrip(',')\n",
    "                )\n",
    "                lines.append(_line)\n",
    "\n",
    "lines"
   ]
  },
  {
   "cell_type": "code",
   "execution_count": null,
   "id": "d923a424",
   "metadata": {
    "ExecuteTime": {
     "end_time": "2023-01-15T16:48:25.891907Z",
     "start_time": "2023-01-15T16:18:17.166826Z"
    }
   },
   "outputs": [],
   "source": [
    "for line in lines:\n",
    "    with open(f'history_{line[:10]}.csv', mode='a') as file:\n",
    "        file.write(line + '\\n')"
   ]
  },
  {
   "cell_type": "code",
   "execution_count": null,
   "id": "4799383d",
   "metadata": {
    "ExecuteTime": {
     "end_time": "2023-01-15T16:48:25.924723Z",
     "start_time": "2023-01-15T16:48:25.891907Z"
    }
   },
   "outputs": [],
   "source": [
    "Path.cwd()"
   ]
  }
 ],
 "metadata": {
  "kernelspec": {
   "display_name": "Python 3 (ipykernel)",
   "language": "python",
   "name": "python3"
  },
  "language_info": {
   "codemirror_mode": {
    "name": "ipython",
    "version": 3
   },
   "file_extension": ".py",
   "mimetype": "text/x-python",
   "name": "python",
   "nbconvert_exporter": "python",
   "pygments_lexer": "ipython3",
   "version": "3.10.8"
  },
  "toc": {
   "base_numbering": 1,
   "nav_menu": {},
   "number_sections": true,
   "sideBar": true,
   "skip_h1_title": true,
   "title_cell": "Table of Contents",
   "title_sidebar": "Contents",
   "toc_cell": false,
   "toc_position": {},
   "toc_section_display": true,
   "toc_window_display": false
  }
 },
 "nbformat": 4,
 "nbformat_minor": 5
}
