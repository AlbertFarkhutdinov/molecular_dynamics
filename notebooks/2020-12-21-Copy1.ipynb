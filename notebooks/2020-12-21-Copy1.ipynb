{
 "cells": [
  {
   "cell_type": "markdown",
   "metadata": {},
   "source": [
    "## Моделирование молекулярной динамики\n",
    "\n",
    "   - Система: ГЦК решётка $7\\times7\\times7$ частиц;\n",
    "   - Постоянная решётки: $a = 1.75~\\sigma $;\n",
    "   - Потенциал взаимодействия: Леннард-Джонс;\n",
    "   - Начальная температура: $T_i = 2.8~\\varepsilon / k_B$;\n",
    "   - Конечная температура: $T_f = 10^{-10}~\\varepsilon / k_B$;\n",
    "   - Скорость охлаждения: $v_T = 0.02~\\varepsilon / k_B\\tau$;\n",
    "   - Термостат: масштабирование скоростей;\n",
    "   - Толщина сферического слоя (список Верле): $\\Delta r_s = 0.3~\\sigma $;\n",
    "   - Временной шаг: $\\Delta t = 0.005~\\tau$;\n",
    "   - Число шагов для охлаждения: 40000;\n",
    "   - Функция радиального распределения, среднеквадратичное смещение и коэффициент самодиффузии рассчитывалась через каждые 5000 шагов;\n",
    "   - Подсчёт состоял из 1500 шагов: 500 на уравновешивание системы при фиксированной температуре и 1000 на усреднение по времени и подсчёт функции радиального распределения;\n",
    "   - Среднеквадратичное смещение и коэффициент самодиффузии вычислялись в течение всех 1500 шагов;"
   ]
  },
  {
   "cell_type": "markdown",
   "metadata": {},
   "source": [
    "#### Импорт необходимых библиотек"
   ]
  },
  {
   "cell_type": "code",
   "execution_count": 1,
   "metadata": {},
   "outputs": [],
   "source": [
    "import os\n",
    "\n",
    "import matplotlib.pyplot as plt\n",
    "import numpy as np\n",
    "import pandas as pd\n",
    "\n",
    "plt.style.use('seaborn')"
   ]
  },
  {
   "cell_type": "markdown",
   "metadata": {},
   "source": [
    "#### Путь к файлам с данными"
   ]
  },
  {
   "cell_type": "code",
   "execution_count": 2,
   "metadata": {},
   "outputs": [],
   "source": [
    "BASE_DIRECTORY = os.path.dirname(os.getcwd())\n",
    "PATH_TO_ALL_DATA = os.path.join(BASE_DIRECTORY, 'data')\n",
    "PATH_TO_CURRENT_DATA = os.path.join(PATH_TO_ALL_DATA, '2020-12-21')"
   ]
  },
  {
   "cell_type": "code",
   "execution_count": 3,
   "metadata": {},
   "outputs": [],
   "source": [
    "rdf_filename = os.path.join(PATH_TO_CURRENT_DATA, 'rdf_T_')\n",
    "transport_filename = os.path.join(PATH_TO_CURRENT_DATA, 'transport_T_')\n",
    "parameters_filename = os.path.join(PATH_TO_CURRENT_DATA, 'system_parameters.csv')"
   ]
  },
  {
   "cell_type": "markdown",
   "metadata": {},
   "source": [
    "#### Температуры, для которых была подчитана функция радиального распределения"
   ]
  },
  {
   "cell_type": "code",
   "execution_count": 4,
   "metadata": {},
   "outputs": [],
   "source": [
    "temperatures = (\n",
    "    2.80401,\n",
    "    2.79211,\n",
    ")"
   ]
  },
  {
   "cell_type": "markdown",
   "metadata": {},
   "source": [
    "#### Извлечение значений функции радиального распределения из файлов"
   ]
  },
  {
   "cell_type": "code",
   "execution_count": 5,
   "metadata": {},
   "outputs": [
    {
     "data": {
      "text/html": [
       "<div>\n",
       "<style scoped>\n",
       "    .dataframe tbody tr th:only-of-type {\n",
       "        vertical-align: middle;\n",
       "    }\n",
       "\n",
       "    .dataframe tbody tr th {\n",
       "        vertical-align: top;\n",
       "    }\n",
       "\n",
       "    .dataframe thead th {\n",
       "        text-align: right;\n",
       "    }\n",
       "</style>\n",
       "<table border=\"1\" class=\"dataframe\">\n",
       "  <thead>\n",
       "    <tr style=\"text-align: right;\">\n",
       "      <th></th>\n",
       "      <th>time</th>\n",
       "      <th>2.80401</th>\n",
       "      <th>2.79211</th>\n",
       "    </tr>\n",
       "  </thead>\n",
       "  <tbody>\n",
       "    <tr>\n",
       "      <th>0</th>\n",
       "      <td>0.005</td>\n",
       "      <td>0.210875</td>\n",
       "      <td>0.209976</td>\n",
       "    </tr>\n",
       "    <tr>\n",
       "      <th>1</th>\n",
       "      <td>0.010</td>\n",
       "      <td>0.841245</td>\n",
       "      <td>0.837675</td>\n",
       "    </tr>\n",
       "    <tr>\n",
       "      <th>2</th>\n",
       "      <td>0.015</td>\n",
       "      <td>1.884472</td>\n",
       "      <td>1.876533</td>\n",
       "    </tr>\n",
       "    <tr>\n",
       "      <th>3</th>\n",
       "      <td>0.020</td>\n",
       "      <td>3.329894</td>\n",
       "      <td>3.316003</td>\n",
       "    </tr>\n",
       "    <tr>\n",
       "      <th>4</th>\n",
       "      <td>0.025</td>\n",
       "      <td>5.163362</td>\n",
       "      <td>5.142082</td>\n",
       "    </tr>\n",
       "    <tr>\n",
       "      <th>...</th>\n",
       "      <td>...</td>\n",
       "      <td>...</td>\n",
       "      <td>...</td>\n",
       "    </tr>\n",
       "    <tr>\n",
       "      <th>995</th>\n",
       "      <td>4.980</td>\n",
       "      <td>7102.021343</td>\n",
       "      <td>7141.354228</td>\n",
       "    </tr>\n",
       "    <tr>\n",
       "      <th>996</th>\n",
       "      <td>4.985</td>\n",
       "      <td>7109.182462</td>\n",
       "      <td>7149.037337</td>\n",
       "    </tr>\n",
       "    <tr>\n",
       "      <th>997</th>\n",
       "      <td>4.990</td>\n",
       "      <td>7116.343624</td>\n",
       "      <td>7156.718657</td>\n",
       "    </tr>\n",
       "    <tr>\n",
       "      <th>998</th>\n",
       "      <td>4.995</td>\n",
       "      <td>7123.504778</td>\n",
       "      <td>7164.397860</td>\n",
       "    </tr>\n",
       "    <tr>\n",
       "      <th>999</th>\n",
       "      <td>5.000</td>\n",
       "      <td>7130.665923</td>\n",
       "      <td>7172.074637</td>\n",
       "    </tr>\n",
       "  </tbody>\n",
       "</table>\n",
       "<p>1000 rows × 3 columns</p>\n",
       "</div>"
      ],
      "text/plain": [
       "      time      2.80401      2.79211\n",
       "0    0.005     0.210875     0.209976\n",
       "1    0.010     0.841245     0.837675\n",
       "2    0.015     1.884472     1.876533\n",
       "3    0.020     3.329894     3.316003\n",
       "4    0.025     5.163362     5.142082\n",
       "..     ...          ...          ...\n",
       "995  4.980  7102.021343  7141.354228\n",
       "996  4.985  7109.182462  7149.037337\n",
       "997  4.990  7116.343624  7156.718657\n",
       "998  4.995  7123.504778  7164.397860\n",
       "999  5.000  7130.665923  7172.074637\n",
       "\n",
       "[1000 rows x 3 columns]"
      ]
     },
     "execution_count": 5,
     "metadata": {},
     "output_type": "execute_result"
    }
   ],
   "source": [
    "rdf_data = pd.DataFrame(columns=['radius'])\n",
    "msd_data = pd.DataFrame(columns=['time'])\n",
    "vel_autocor_data = pd.DataFrame(columns=['time'])\n",
    "einstein_diffusion_data = pd.DataFrame(columns=['time'])\n",
    "green_kubo_diffusion_data = pd.DataFrame(columns=['time'])\n",
    "\n",
    "for temperature in temperatures:\n",
    "    df = pd.read_csv(\n",
    "        f'{rdf_filename}{temperature:.5f}.csv',\n",
    "        sep=';',\n",
    "    )\n",
    "    rdf_data = rdf_data.merge(\n",
    "        right=df,\n",
    "        how='outer',\n",
    "        on='radius',\n",
    "    )\n",
    "    df = pd.read_csv(\n",
    "        f'{transport_filename}{temperature:.5f}.csv',\n",
    "        sep=';',\n",
    "    )\n",
    "    df['time'] = 0.005 * (1 + df.index.values)\n",
    "    msd_data = msd_data.merge(\n",
    "        right=df[['time', 'msd']],\n",
    "        how='outer',\n",
    "        on='time',\n",
    "    )\n",
    "    vel_autocor_data = vel_autocor_data.merge(\n",
    "        right=df[['time', 'velocity_autocorrelation']],\n",
    "        how='outer',\n",
    "        on='time',\n",
    "    )\n",
    "    einstein_diffusion_data = einstein_diffusion_data.merge(\n",
    "        right=df[['time', 'einstein_diffusion']],\n",
    "        how='outer',\n",
    "        on='time',\n",
    "    )\n",
    "    green_kubo_diffusion_data = green_kubo_diffusion_data.merge(\n",
    "        right=df[['time', 'green_kubo_diffusion']],\n",
    "        how='outer',\n",
    "        on='time',\n",
    "    )\n",
    "    rdf_data = rdf_data.rename(columns={'rdf': f'{temperature:.5f}'})\n",
    "    msd_data = msd_data.rename(columns={'msd': f'{temperature:.5f}'})\n",
    "    vel_autocor_data = vel_autocor_data.rename(columns={'velocity_autocorrelation': f'{temperature:.5f}'})\n",
    "    einstein_diffusion_data = einstein_diffusion_data.rename(columns={'einstein_diffusion': f'{temperature:.5f}'})\n",
    "    green_kubo_diffusion_data = green_kubo_diffusion_data.rename(columns={'green_kubo_diffusion': f'{temperature:.5f}'})\n",
    "\n",
    "msd_data"
   ]
  },
  {
   "cell_type": "markdown",
   "metadata": {},
   "source": [
    "#### Графики функций радиального распределения при различных температурах"
   ]
  },
  {
   "cell_type": "code",
   "execution_count": 6,
   "metadata": {},
   "outputs": [
    {
     "data": {
      "image/png": "[encoded data removed]",
      "text/plain": [
       "<Figure size 576x396 with 1 Axes>"
      ]
     },
     "metadata": {},
     "output_type": "display_data"
    }
   ],
   "source": [
    "for i, temperature in enumerate(temperatures):\n",
    "    plt.plot(\n",
    "        rdf_data['radius'],\n",
    "        rdf_data[f'{temperature:.5f}'] + 1 * (len(temperatures) - (i + 1)), \n",
    "        label=f'T = {temperature:.1f} $\\epsilon / k_B $',\n",
    "    );\n",
    "    \n",
    "plt.xlabel('r, $\\sigma$', fontsize=16);\n",
    "plt.ylabel('g(r)', fontsize=16);\n",
    "plt.xlim(left=0, right=6.125);\n",
    "plt.ylim(\n",
    "    bottom=0, \n",
    "    top=25,\n",
    ");\n",
    "plt.legend();"
   ]
  },
  {
   "cell_type": "markdown",
   "metadata": {},
   "source": [
    "#### Временная зависимость среднеквадратичного смещения при различных температурах"
   ]
  },
  {
   "cell_type": "code",
   "execution_count": 7,
   "metadata": {},
   "outputs": [
    {
     "data": {
      "image/png": "[encoded data removed]",
      "text/plain": [
       "<Figure size 576x396 with 1 Axes>"
      ]
     },
     "metadata": {},
     "output_type": "display_data"
    }
   ],
   "source": [
    "for i, temperature in enumerate(temperatures):\n",
    "    plt.plot(\n",
    "        msd_data['time'],\n",
    "        msd_data[f'{temperature:.5f}'], \n",
    "        label=f'T = {temperature:.1f} $\\epsilon / k_B $',\n",
    "    );\n",
    "    \n",
    "plt.xlabel(r't, $\\tau $', fontsize=16);\n",
    "plt.ylabel(r'$<r^2(t)>$, $\\sigma^2$', fontsize=16);\n",
    "plt.xlim(\n",
    "#     left=0, \n",
    "#     right=6.125,\n",
    ");\n",
    "plt.ylim(\n",
    "#     bottom=0, \n",
    "#     top=20,\n",
    ");\n",
    "plt.legend();"
   ]
  },
  {
   "cell_type": "markdown",
   "metadata": {},
   "source": [
    "#### Временная зависимость автокорреляционнной функции скорости при различных температурах"
   ]
  },
  {
   "cell_type": "code",
   "execution_count": 8,
   "metadata": {},
   "outputs": [
    {
     "data": {
      "image/png": "[encoded data removed]",
      "text/plain": [
       "<Figure size 576x396 with 1 Axes>"
      ]
     },
     "metadata": {},
     "output_type": "display_data"
    }
   ],
   "source": [
    "for i, temperature in enumerate(temperatures):\n",
    "    plt.plot(\n",
    "        vel_autocor_data['time'],\n",
    "        vel_autocor_data[f'{temperature:.5f}'], \n",
    "        label=f'T = {temperature:.1f} $\\epsilon / k_B $',\n",
    "    );\n",
    "    \n",
    "plt.xlabel(r't, $\\tau $', fontsize=16);\n",
    "# plt.ylabel(r'$<r^2(t)>$, $\\sigma^2$', fontsize=16);\n",
    "plt.xlim(\n",
    "#     left=0, \n",
    "#     right=6.125,\n",
    ");\n",
    "plt.ylim(\n",
    "#     bottom=0, \n",
    "#     top=20,\n",
    ");\n",
    "plt.legend();"
   ]
  },
  {
   "cell_type": "markdown",
   "metadata": {},
   "source": [
    "#### Временная зависимость коэффициента самодиффузии при различных температурах"
   ]
  },
  {
   "cell_type": "code",
   "execution_count": 9,
   "metadata": {},
   "outputs": [
    {
     "data": {
      "image/png": "[encoded data removed]",
      "text/plain": [
       "<Figure size 576x396 with 1 Axes>"
      ]
     },
     "metadata": {},
     "output_type": "display_data"
    }
   ],
   "source": [
    "for i, temperature in enumerate(temperatures):\n",
    "    diff_data_1 = einstein_diffusion_data[f'{temperature:.5f}']\n",
    "    diff_data_2 = green_kubo_diffusion_data[f'{temperature:.5f}']\n",
    "    plt.plot(\n",
    "        einstein_diffusion_data['time'],\n",
    "        diff_data_1 / einstein_diffusion_data['time'], \n",
    "        label=f'T = {temperature:.1f} $\\epsilon / k_B (Einstein)$',\n",
    "    );\n",
    "    plt.plot(\n",
    "        green_kubo_diffusion_data['time'],\n",
    "        diff_data_2, \n",
    "        label=f'T = {temperature:.5f} $\\epsilon / k_B (Green-Kubo)$',\n",
    "    );\n",
    "    \n",
    "plt.xlabel(r't, $\\tau$', fontsize=16);\n",
    "plt.ylabel(r'$\\frac{<r^2(t)>}{t}$, $\\sigma^2 / \\tau$', fontsize=16);\n",
    "plt.xlim(\n",
    "    left=0, \n",
    "    right=10,\n",
    ");\n",
    "plt.ylim(\n",
    "#     bottom=0, \n",
    "#     top=0.1,\n",
    ");\n",
    "plt.legend();"
   ]
  },
  {
   "cell_type": "markdown",
   "metadata": {},
   "source": [
    "#### Извлечение параметров системы из файла"
   ]
  },
  {
   "cell_type": "code",
   "execution_count": 10,
   "metadata": {},
   "outputs": [
    {
     "ename": "FileNotFoundError",
     "evalue": "[Errno 2] No such file or directory: 'C:\\\\Users\\\\farhutdinov.a\\\\Documents\\\\Albert\\\\git_reps\\\\molecular_dynamics\\\\data\\\\2020-12-21\\\\system_parameters.csv'",
     "output_type": "error",
     "traceback": [
      "\u001b[1;31m---------------------------------------------------------------------------\u001b[0m",
      "\u001b[1;31mFileNotFoundError\u001b[0m                         Traceback (most recent call last)",
      "\u001b[1;32m<ipython-input-10-0dd10156fe0f>\u001b[0m in \u001b[0;36m<module>\u001b[1;34m\u001b[0m\n\u001b[1;32m----> 1\u001b[1;33m \u001b[0msystem_parameters\u001b[0m \u001b[1;33m=\u001b[0m \u001b[0mpd\u001b[0m\u001b[1;33m.\u001b[0m\u001b[0mread_csv\u001b[0m\u001b[1;33m(\u001b[0m\u001b[0mparameters_filename\u001b[0m\u001b[1;33m,\u001b[0m \u001b[0msep\u001b[0m\u001b[1;33m=\u001b[0m\u001b[1;34m';'\u001b[0m\u001b[1;33m)\u001b[0m\u001b[1;33m\u001b[0m\u001b[1;33m\u001b[0m\u001b[0m\n\u001b[0m\u001b[0;32m      2\u001b[0m \u001b[1;33m\u001b[0m\u001b[0m\n\u001b[0;32m      3\u001b[0m \u001b[1;32mfor\u001b[0m \u001b[0mcolumn\u001b[0m \u001b[1;32min\u001b[0m \u001b[0msystem_parameters\u001b[0m\u001b[1;33m.\u001b[0m\u001b[0mcolumns\u001b[0m\u001b[1;33m:\u001b[0m\u001b[1;33m\u001b[0m\u001b[1;33m\u001b[0m\u001b[0m\n\u001b[0;32m      4\u001b[0m     \u001b[0msystem_parameters\u001b[0m\u001b[1;33m[\u001b[0m\u001b[0mcolumn\u001b[0m\u001b[1;33m]\u001b[0m \u001b[1;33m=\u001b[0m \u001b[0msystem_parameters\u001b[0m\u001b[1;33m[\u001b[0m\u001b[0mcolumn\u001b[0m\u001b[1;33m]\u001b[0m\u001b[1;33m.\u001b[0m\u001b[0mround\u001b[0m\u001b[1;33m(\u001b[0m\u001b[1;36m5\u001b[0m\u001b[1;33m)\u001b[0m\u001b[1;33m\u001b[0m\u001b[1;33m\u001b[0m\u001b[0m\n\u001b[0;32m      5\u001b[0m \u001b[1;33m\u001b[0m\u001b[0m\n",
      "\u001b[1;32mc:\\users\\farhutdinov.a\\python3.8\\lib\\site-packages\\pandas\\io\\parsers.py\u001b[0m in \u001b[0;36mread_csv\u001b[1;34m(filepath_or_buffer, sep, delimiter, header, names, index_col, usecols, squeeze, prefix, mangle_dupe_cols, dtype, engine, converters, true_values, false_values, skipinitialspace, skiprows, skipfooter, nrows, na_values, keep_default_na, na_filter, verbose, skip_blank_lines, parse_dates, infer_datetime_format, keep_date_col, date_parser, dayfirst, cache_dates, iterator, chunksize, compression, thousands, decimal, lineterminator, quotechar, quoting, doublequote, escapechar, comment, encoding, dialect, error_bad_lines, warn_bad_lines, delim_whitespace, low_memory, memory_map, float_precision)\u001b[0m\n\u001b[0;32m    686\u001b[0m     )\n\u001b[0;32m    687\u001b[0m \u001b[1;33m\u001b[0m\u001b[0m\n\u001b[1;32m--> 688\u001b[1;33m     \u001b[1;32mreturn\u001b[0m \u001b[0m_read\u001b[0m\u001b[1;33m(\u001b[0m\u001b[0mfilepath_or_buffer\u001b[0m\u001b[1;33m,\u001b[0m \u001b[0mkwds\u001b[0m\u001b[1;33m)\u001b[0m\u001b[1;33m\u001b[0m\u001b[1;33m\u001b[0m\u001b[0m\n\u001b[0m\u001b[0;32m    689\u001b[0m \u001b[1;33m\u001b[0m\u001b[0m\n\u001b[0;32m    690\u001b[0m \u001b[1;33m\u001b[0m\u001b[0m\n",
      "\u001b[1;32mc:\\users\\farhutdinov.a\\python3.8\\lib\\site-packages\\pandas\\io\\parsers.py\u001b[0m in \u001b[0;36m_read\u001b[1;34m(filepath_or_buffer, kwds)\u001b[0m\n\u001b[0;32m    452\u001b[0m \u001b[1;33m\u001b[0m\u001b[0m\n\u001b[0;32m    453\u001b[0m     \u001b[1;31m# Create the parser.\u001b[0m\u001b[1;33m\u001b[0m\u001b[1;33m\u001b[0m\u001b[1;33m\u001b[0m\u001b[0m\n\u001b[1;32m--> 454\u001b[1;33m     \u001b[0mparser\u001b[0m \u001b[1;33m=\u001b[0m \u001b[0mTextFileReader\u001b[0m\u001b[1;33m(\u001b[0m\u001b[0mfp_or_buf\u001b[0m\u001b[1;33m,\u001b[0m \u001b[1;33m**\u001b[0m\u001b[0mkwds\u001b[0m\u001b[1;33m)\u001b[0m\u001b[1;33m\u001b[0m\u001b[1;33m\u001b[0m\u001b[0m\n\u001b[0m\u001b[0;32m    455\u001b[0m \u001b[1;33m\u001b[0m\u001b[0m\n\u001b[0;32m    456\u001b[0m     \u001b[1;32mif\u001b[0m \u001b[0mchunksize\u001b[0m \u001b[1;32mor\u001b[0m \u001b[0miterator\u001b[0m\u001b[1;33m:\u001b[0m\u001b[1;33m\u001b[0m\u001b[1;33m\u001b[0m\u001b[0m\n",
      "\u001b[1;32mc:\\users\\farhutdinov.a\\python3.8\\lib\\site-packages\\pandas\\io\\parsers.py\u001b[0m in \u001b[0;36m__init__\u001b[1;34m(self, f, engine, **kwds)\u001b[0m\n\u001b[0;32m    946\u001b[0m             \u001b[0mself\u001b[0m\u001b[1;33m.\u001b[0m\u001b[0moptions\u001b[0m\u001b[1;33m[\u001b[0m\u001b[1;34m\"has_index_names\"\u001b[0m\u001b[1;33m]\u001b[0m \u001b[1;33m=\u001b[0m \u001b[0mkwds\u001b[0m\u001b[1;33m[\u001b[0m\u001b[1;34m\"has_index_names\"\u001b[0m\u001b[1;33m]\u001b[0m\u001b[1;33m\u001b[0m\u001b[1;33m\u001b[0m\u001b[0m\n\u001b[0;32m    947\u001b[0m \u001b[1;33m\u001b[0m\u001b[0m\n\u001b[1;32m--> 948\u001b[1;33m         \u001b[0mself\u001b[0m\u001b[1;33m.\u001b[0m\u001b[0m_make_engine\u001b[0m\u001b[1;33m(\u001b[0m\u001b[0mself\u001b[0m\u001b[1;33m.\u001b[0m\u001b[0mengine\u001b[0m\u001b[1;33m)\u001b[0m\u001b[1;33m\u001b[0m\u001b[1;33m\u001b[0m\u001b[0m\n\u001b[0m\u001b[0;32m    949\u001b[0m \u001b[1;33m\u001b[0m\u001b[0m\n\u001b[0;32m    950\u001b[0m     \u001b[1;32mdef\u001b[0m \u001b[0mclose\u001b[0m\u001b[1;33m(\u001b[0m\u001b[0mself\u001b[0m\u001b[1;33m)\u001b[0m\u001b[1;33m:\u001b[0m\u001b[1;33m\u001b[0m\u001b[1;33m\u001b[0m\u001b[0m\n",
      "\u001b[1;32mc:\\users\\farhutdinov.a\\python3.8\\lib\\site-packages\\pandas\\io\\parsers.py\u001b[0m in \u001b[0;36m_make_engine\u001b[1;34m(self, engine)\u001b[0m\n\u001b[0;32m   1178\u001b[0m     \u001b[1;32mdef\u001b[0m \u001b[0m_make_engine\u001b[0m\u001b[1;33m(\u001b[0m\u001b[0mself\u001b[0m\u001b[1;33m,\u001b[0m \u001b[0mengine\u001b[0m\u001b[1;33m=\u001b[0m\u001b[1;34m\"c\"\u001b[0m\u001b[1;33m)\u001b[0m\u001b[1;33m:\u001b[0m\u001b[1;33m\u001b[0m\u001b[1;33m\u001b[0m\u001b[0m\n\u001b[0;32m   1179\u001b[0m         \u001b[1;32mif\u001b[0m \u001b[0mengine\u001b[0m \u001b[1;33m==\u001b[0m \u001b[1;34m\"c\"\u001b[0m\u001b[1;33m:\u001b[0m\u001b[1;33m\u001b[0m\u001b[1;33m\u001b[0m\u001b[0m\n\u001b[1;32m-> 1180\u001b[1;33m             \u001b[0mself\u001b[0m\u001b[1;33m.\u001b[0m\u001b[0m_engine\u001b[0m \u001b[1;33m=\u001b[0m \u001b[0mCParserWrapper\u001b[0m\u001b[1;33m(\u001b[0m\u001b[0mself\u001b[0m\u001b[1;33m.\u001b[0m\u001b[0mf\u001b[0m\u001b[1;33m,\u001b[0m \u001b[1;33m**\u001b[0m\u001b[0mself\u001b[0m\u001b[1;33m.\u001b[0m\u001b[0moptions\u001b[0m\u001b[1;33m)\u001b[0m\u001b[1;33m\u001b[0m\u001b[1;33m\u001b[0m\u001b[0m\n\u001b[0m\u001b[0;32m   1181\u001b[0m         \u001b[1;32melse\u001b[0m\u001b[1;33m:\u001b[0m\u001b[1;33m\u001b[0m\u001b[1;33m\u001b[0m\u001b[0m\n\u001b[0;32m   1182\u001b[0m             \u001b[1;32mif\u001b[0m \u001b[0mengine\u001b[0m \u001b[1;33m==\u001b[0m \u001b[1;34m\"python\"\u001b[0m\u001b[1;33m:\u001b[0m\u001b[1;33m\u001b[0m\u001b[1;33m\u001b[0m\u001b[0m\n",
      "\u001b[1;32mc:\\users\\farhutdinov.a\\python3.8\\lib\\site-packages\\pandas\\io\\parsers.py\u001b[0m in \u001b[0;36m__init__\u001b[1;34m(self, src, **kwds)\u001b[0m\n\u001b[0;32m   2008\u001b[0m         \u001b[0mkwds\u001b[0m\u001b[1;33m[\u001b[0m\u001b[1;34m\"usecols\"\u001b[0m\u001b[1;33m]\u001b[0m \u001b[1;33m=\u001b[0m \u001b[0mself\u001b[0m\u001b[1;33m.\u001b[0m\u001b[0musecols\u001b[0m\u001b[1;33m\u001b[0m\u001b[1;33m\u001b[0m\u001b[0m\n\u001b[0;32m   2009\u001b[0m \u001b[1;33m\u001b[0m\u001b[0m\n\u001b[1;32m-> 2010\u001b[1;33m         \u001b[0mself\u001b[0m\u001b[1;33m.\u001b[0m\u001b[0m_reader\u001b[0m \u001b[1;33m=\u001b[0m \u001b[0mparsers\u001b[0m\u001b[1;33m.\u001b[0m\u001b[0mTextReader\u001b[0m\u001b[1;33m(\u001b[0m\u001b[0msrc\u001b[0m\u001b[1;33m,\u001b[0m \u001b[1;33m**\u001b[0m\u001b[0mkwds\u001b[0m\u001b[1;33m)\u001b[0m\u001b[1;33m\u001b[0m\u001b[1;33m\u001b[0m\u001b[0m\n\u001b[0m\u001b[0;32m   2011\u001b[0m         \u001b[0mself\u001b[0m\u001b[1;33m.\u001b[0m\u001b[0munnamed_cols\u001b[0m \u001b[1;33m=\u001b[0m \u001b[0mself\u001b[0m\u001b[1;33m.\u001b[0m\u001b[0m_reader\u001b[0m\u001b[1;33m.\u001b[0m\u001b[0munnamed_cols\u001b[0m\u001b[1;33m\u001b[0m\u001b[1;33m\u001b[0m\u001b[0m\n\u001b[0;32m   2012\u001b[0m \u001b[1;33m\u001b[0m\u001b[0m\n",
      "\u001b[1;32mpandas\\_libs\\parsers.pyx\u001b[0m in \u001b[0;36mpandas._libs.parsers.TextReader.__cinit__\u001b[1;34m()\u001b[0m\n",
      "\u001b[1;32mpandas\\_libs\\parsers.pyx\u001b[0m in \u001b[0;36mpandas._libs.parsers.TextReader._setup_parser_source\u001b[1;34m()\u001b[0m\n",
      "\u001b[1;31mFileNotFoundError\u001b[0m: [Errno 2] No such file or directory: 'C:\\\\Users\\\\farhutdinov.a\\\\Documents\\\\Albert\\\\git_reps\\\\molecular_dynamics\\\\data\\\\2020-12-21\\\\system_parameters.csv'"
     ]
    }
   ],
   "source": [
    "system_parameters = pd.read_csv(parameters_filename, sep=';')\n",
    "\n",
    "for column in system_parameters.columns:\n",
    "    system_parameters[column] = system_parameters[column].round(5)\n",
    "\n",
    "system_parameters"
   ]
  },
  {
   "cell_type": "code",
   "execution_count": null,
   "metadata": {},
   "outputs": [],
   "source": [
    "times = (system_parameters.index + 1) * 0.005"
   ]
  },
  {
   "cell_type": "markdown",
   "metadata": {},
   "source": [
    "#### Зависимость температуры системы от времени"
   ]
  },
  {
   "cell_type": "code",
   "execution_count": null,
   "metadata": {},
   "outputs": [],
   "source": [
    "plt.scatter(\n",
    "    times,\n",
    "    system_parameters['temperature'],\n",
    "    s=1,\n",
    ");\n",
    "plt.xlabel(r'Time, $\\tau$', fontsize=16);\n",
    "plt.ylabel(r'Temperature, $\\epsilon / k_B$', fontsize=16);\n",
    "\n",
    "plt.ylim(\n",
    "#     bottom=2.75,\n",
    "#     top=2.85,\n",
    ");"
   ]
  },
  {
   "cell_type": "markdown",
   "metadata": {},
   "source": [
    "#### Зависимость давления системы от времени"
   ]
  },
  {
   "cell_type": "code",
   "execution_count": null,
   "metadata": {},
   "outputs": [],
   "source": [
    "plt.scatter(\n",
    "    times,\n",
    "    system_parameters['pressure'],\n",
    "    s=1,\n",
    ");\n",
    "plt.xlabel(r'Time, $\\tau$', fontsize=16);\n",
    "plt.ylabel(r'Pressure, $\\epsilon / \\sigma^3 $', fontsize=16);\n",
    "\n",
    "plt.ylim(\n",
    "#     bottom=3.5,\n",
    "#     top=5.5,\n",
    ");"
   ]
  },
  {
   "cell_type": "markdown",
   "metadata": {},
   "source": [
    "#### Зависимость кинетической энергии системы от времени"
   ]
  },
  {
   "cell_type": "code",
   "execution_count": null,
   "metadata": {},
   "outputs": [],
   "source": [
    "plt.scatter(\n",
    "    times,\n",
    "    system_parameters['system_kinetic_energy'],\n",
    "    s=1,\n",
    ");\n",
    "plt.xlabel(r'Time, $\\tau$', fontsize=16);\n",
    "plt.ylabel(r'Kinetic Energy, $\\epsilon$', fontsize=16);\n",
    "\n",
    "# plt.ylim(\n",
    "#     bottom=-6000,\n",
    "#     top=4000,\n",
    "# );"
   ]
  },
  {
   "cell_type": "markdown",
   "metadata": {},
   "source": [
    "#### Зависимость потенциальной энергии системы от времени"
   ]
  },
  {
   "cell_type": "code",
   "execution_count": null,
   "metadata": {},
   "outputs": [],
   "source": [
    "plt.scatter(\n",
    "    times,\n",
    "    system_parameters['potential_energy'],\n",
    "    s=1,\n",
    ");\n",
    "plt.xlabel(r'Time, $\\tau$', fontsize=16);\n",
    "plt.ylabel(r'Potential Energy, $\\epsilon$', fontsize=16);\n",
    "\n",
    "plt.ylim(\n",
    "#     bottom=-6000,\n",
    "#     top=4000,\n",
    ");"
   ]
  },
  {
   "cell_type": "markdown",
   "metadata": {},
   "source": [
    "#### Зависимость полной энергии системы от времени"
   ]
  },
  {
   "cell_type": "code",
   "execution_count": null,
   "metadata": {},
   "outputs": [],
   "source": [
    "plt.scatter(\n",
    "    times,\n",
    "    system_parameters['total_energy'],\n",
    "    s=1,\n",
    ");\n",
    "plt.xlabel(r'Time, $\\tau$', fontsize=16);\n",
    "plt.ylabel(r'Total Energy, $\\epsilon$', fontsize=16);\n",
    "\n",
    "plt.ylim(\n",
    "#     bottom=-6000,\n",
    "    top=2000,\n",
    ");"
   ]
  },
  {
   "cell_type": "markdown",
   "metadata": {},
   "source": [
    "#### Энергии на одном графике"
   ]
  },
  {
   "cell_type": "code",
   "execution_count": null,
   "metadata": {},
   "outputs": [],
   "source": [
    "plt.scatter(\n",
    "    times,\n",
    "    system_parameters['system_kinetic_energy'],\n",
    "    s=1,\n",
    "    label='kinetic_energy',\n",
    ");\n",
    "plt.scatter(\n",
    "    times,\n",
    "    system_parameters['potential_energy'],\n",
    "    s=1,\n",
    "    label='potential_energy',\n",
    ");\n",
    "plt.scatter(\n",
    "    times,\n",
    "    system_parameters['total_energy'],\n",
    "    s=1,\n",
    "    label='total_energy',\n",
    ");\n",
    "\n",
    "plt.xlabel(r'Time, $\\tau$', fontsize=16);\n",
    "plt.ylabel(r'Energy, $\\epsilon$', fontsize=16);\n",
    "plt.legend();\n",
    "\n",
    "plt.ylim(\n",
    "#     bottom=-6000,\n",
    "#     top=2000,\n",
    ");"
   ]
  }
 ],
 "metadata": {
  "kernelspec": {
   "display_name": "Python 3",
   "language": "python",
   "name": "python3"
  },
  "language_info": {
   "codemirror_mode": {
    "name": "ipython",
    "version": 3
   },
   "file_extension": ".py",
   "mimetype": "text/x-python",
   "name": "python",
   "nbconvert_exporter": "python",
   "pygments_lexer": "ipython3",
   "version": "3.8.3"
  }
 },
 "nbformat": 4,
 "nbformat_minor": 4
}
