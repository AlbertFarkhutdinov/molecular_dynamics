{
 "cells": [
  {
   "cell_type": "markdown",
   "metadata": {},
   "source": [
    "# Моделирование охлаждения NVT ансамбля <a class=\"tocSkip\">\n",
    "\n",
    "   - Система: $N = 1372$ частиц;\n",
    "   - Ячейка моделирования: $V = 12.25\\sigma\\times12.25\\sigma\\times12.25\\sigma$;\n",
    "   - Потенциал взаимодействия: Леннард-Джонс;\n",
    "   - Ансамбль: $NVT$;\n",
    "   - Начальная температура: $T_i = 1.3~\\varepsilon / k_B$;\n",
    "   - Конечная температура: $T_f = 10^{-4}~\\varepsilon / k_B$;\n",
    "   - Скорости охлаждения: $\\gamma = 2\\times10^{-5}~\\varepsilon / k_B\\tau$;\n",
    "   - Термостат: масштабирование скоростей;\n",
    "   - Толщина сферического слоя (список Верле): $\\Delta r_s = 0.3\\sigma $;\n",
    "   - Временной шаг: $\\Delta t = 0.005\\tau$;"
   ]
  },
  {
   "cell_type": "markdown",
   "metadata": {},
   "source": [
    "## Imports"
   ]
  },
  {
   "cell_type": "code",
   "execution_count": null,
   "metadata": {
    "ExecuteTime": {
     "end_time": "2023-01-22T10:27:06.913836Z",
     "start_time": "2023-01-22T10:27:06.868812Z"
    }
   },
   "outputs": [],
   "source": [
    "from datetime import datetime\n",
    "from pathlib import Path\n",
    "import sys\n",
    "\n",
    "BASE_DIR = Path('.').resolve().parent\n",
    "sys.path.append(str(BASE_DIR))"
   ]
  },
  {
   "cell_type": "code",
   "execution_count": null,
   "metadata": {
    "ExecuteTime": {
     "end_time": "2023-01-22T10:27:11.171530Z",
     "start_time": "2023-01-22T10:27:06.924813Z"
    }
   },
   "outputs": [],
   "source": [
    "import matplotlib.pyplot as plt\n",
    "import numpy as np\n",
    "import pandas as pd\n",
    "from scipy import interpolate"
   ]
  },
  {
   "cell_type": "code",
   "execution_count": null,
   "metadata": {
    "ExecuteTime": {
     "end_time": "2023-01-22T10:27:13.228260Z",
     "start_time": "2023-01-22T10:27:11.171530Z"
    }
   },
   "outputs": [],
   "source": [
    "from sklearn.linear_model import LinearRegression\n",
    "from sklearn.metrics import mean_squared_error, mean_absolute_percentage_error\n",
    "from sklearn.model_selection import cross_val_score, train_test_split\n",
    "from sklearn.neighbors import KNeighborsRegressor, RadiusNeighborsRegressor\n",
    "from sklearn.tree import DecisionTreeRegressor"
   ]
  },
  {
   "cell_type": "code",
   "execution_count": null,
   "metadata": {
    "ExecuteTime": {
     "end_time": "2023-01-22T10:27:15.654117Z",
     "start_time": "2023-01-22T10:27:13.228260Z"
    }
   },
   "outputs": [],
   "source": [
    "%load_ext autoreload\n",
    "%autoreload 2\n",
    "\n",
    "from scripts_old.plotter import Plotter, get_temperature_legend\n",
    "import scripts_old.postprocessing as pp\n",
    "from scripts_old.properties.ovito_procedures import OvitoProcessor"
   ]
  },
  {
   "cell_type": "markdown",
   "metadata": {},
   "source": [
    "## Constants"
   ]
  },
  {
   "cell_type": "code",
   "execution_count": null,
   "metadata": {
    "ExecuteTime": {
     "end_time": "2023-01-22T10:27:15.973690Z",
     "start_time": "2023-01-22T10:27:15.654117Z"
    }
   },
   "outputs": [],
   "source": [
    "START_TIME = datetime.now()\n",
    "CURRENT_DATA = '2022-09-25_velocity_scaling_HV_2e-5_T_01e-4'\n",
    "PATH_TO_CURRENT_DATA = BASE_DIR / 'data' / CURRENT_DATA\n",
    "PATH_TO_CURRENT_PLOTS = BASE_DIR / 'plots' / 'article'\n",
    "PLOT_FILENAME_POSTFIX = 'HV_2e-5'\n",
    "PATH_TO_CURRENT_DATA"
   ]
  },
  {
   "cell_type": "code",
   "execution_count": null,
   "metadata": {
    "ExecuteTime": {
     "end_time": "2023-01-22T10:27:16.274765Z",
     "start_time": "2023-01-22T10:27:15.981668Z"
    }
   },
   "outputs": [],
   "source": [
    "RDF_RECOVERY_ERROR = 0.005\n",
    "CELL_DIMENSIONS = np.ones(3) * 12.25"
   ]
  },
  {
   "cell_type": "markdown",
   "metadata": {},
   "source": [
    "## Data reading"
   ]
  },
  {
   "cell_type": "code",
   "execution_count": null,
   "metadata": {
    "ExecuteTime": {
     "end_time": "2023-01-22T10:27:19.964229Z",
     "start_time": "2023-01-22T10:27:16.282779Z"
    }
   },
   "outputs": [],
   "source": [
    "temperatures, rdf_dataframes = [], []\n",
    "\n",
    "for filename in list(PATH_TO_CURRENT_DATA.iterdir())[::-1]:\n",
    "    if filename.match('rdf*.csv'):\n",
    "        parts = filename.stem.split('_')\n",
    "        temperatures.append(float(parts[2]))\n",
    "        rdf_dataframes.append(pd.read_csv(filename, sep=';'))\n",
    "        \n",
    "temperatures = np.array(temperatures).round(2)\n",
    "all_radiuses = np.array(rdf_dataframes[0]['radius'].values)\n",
    "full_matrix = pd.concat(rdf_dataframes, axis=1).iloc[:,1::2].to_numpy()\n",
    "\n",
    "all_radiuses.shape, temperatures.shape, full_matrix.shape"
   ]
  },
  {
   "cell_type": "code",
   "execution_count": null,
   "metadata": {
    "ExecuteTime": {
     "end_time": "2023-01-22T10:27:20.298457Z",
     "start_time": "2023-01-22T10:27:19.972469Z"
    }
   },
   "outputs": [],
   "source": [
    "all_radiuses"
   ]
  },
  {
   "cell_type": "code",
   "execution_count": null,
   "metadata": {
    "ExecuteTime": {
     "end_time": "2023-01-22T10:27:20.600593Z",
     "start_time": "2023-01-22T10:27:20.306472Z"
    }
   },
   "outputs": [],
   "source": [
    "temperatures"
   ]
  },
  {
   "cell_type": "markdown",
   "metadata": {},
   "source": [
    "## RDF parameters definition"
   ]
  },
  {
   "cell_type": "code",
   "execution_count": null,
   "metadata": {
    "ExecuteTime": {
     "end_time": "2023-01-22T10:27:20.903484Z",
     "start_time": "2023-01-22T10:27:20.618468Z"
    }
   },
   "outputs": [],
   "source": [
    "nz_indices = np.where(full_matrix.any(axis=1))[0]\n",
    "\n",
    "nz_radiuses = all_radiuses[nz_indices]\n",
    "nz_matrix = full_matrix[nz_indices]\n",
    "nz_radiuses.shape, nz_matrix.shape"
   ]
  },
  {
   "cell_type": "code",
   "execution_count": null,
   "metadata": {
    "ExecuteTime": {
     "end_time": "2023-01-22T10:27:21.206924Z",
     "start_time": "2023-01-22T10:27:20.911474Z"
    }
   },
   "outputs": [],
   "source": [
    "r_min = nz_radiuses[0]\n",
    "print(f'{r_min = }')"
   ]
  },
  {
   "cell_type": "code",
   "execution_count": null,
   "metadata": {
    "ExecuteTime": {
     "end_time": "2023-01-22T10:27:21.508920Z",
     "start_time": "2023-01-22T10:27:21.214918Z"
    }
   },
   "outputs": [],
   "source": [
    "dr = round(nz_radiuses[1] - nz_radiuses[0], 4)\n",
    "rdf_integral = nz_matrix[:, 0].sum() * dr\n",
    "rdf_integral, dr"
   ]
  },
  {
   "cell_type": "code",
   "execution_count": null,
   "metadata": {
    "ExecuteTime": {
     "end_time": "2023-01-22T10:27:21.812922Z",
     "start_time": "2023-01-22T10:27:21.516931Z"
    }
   },
   "outputs": [],
   "source": [
    "radius_scale = 0\n",
    "rdf_sum = rdf_integral\n",
    "while abs(rdf_integral - rdf_sum) / rdf_integral <= RDF_RECOVERY_ERROR:\n",
    "    radius_scale += 1\n",
    "    radius_step = radius_scale * dr\n",
    "    rdf_sum = nz_matrix[::radius_scale, 0].sum() * radius_step\n",
    "    rdf_parameters_number = nz_matrix[::radius_scale, 0].size\n",
    "\n",
    "radius_scale -= 1\n",
    "radius_step = radius_scale * dr\n",
    "\n",
    "selected_indices = set(np.arange(nz_indices[0], all_radiuses.size, radius_scale))\n",
    "selected_indices.add(full_matrix[::, 0].argmax())\n",
    "selected_indices.add(nz_indices[-1])\n",
    "selected_indices = np.array(sorted(selected_indices))\n",
    "selected_radiuses = all_radiuses[selected_indices]\n",
    "print(selected_indices)\n",
    "print(selected_radiuses)"
   ]
  },
  {
   "cell_type": "code",
   "execution_count": null,
   "metadata": {
    "ExecuteTime": {
     "end_time": "2023-01-22T10:27:22.100906Z",
     "start_time": "2023-01-22T10:27:21.821911Z"
    }
   },
   "outputs": [],
   "source": [
    "rdf_parameters_number = selected_radiuses.size\n",
    "print(f'{rdf_parameters_number = }')"
   ]
  },
  {
   "cell_type": "code",
   "execution_count": null,
   "metadata": {
    "ExecuteTime": {
     "end_time": "2023-01-22T10:27:22.398566Z",
     "start_time": "2023-01-22T10:27:22.110942Z"
    }
   },
   "outputs": [],
   "source": [
    "selected_matrix = full_matrix[selected_indices]\n",
    "selected_matrix.shape"
   ]
  },
  {
   "cell_type": "code",
   "execution_count": null,
   "metadata": {
    "ExecuteTime": {
     "end_time": "2023-01-22T10:27:24.226454Z",
     "start_time": "2023-01-22T10:27:22.406565Z"
    }
   },
   "outputs": [],
   "source": [
    "plotter = Plotter(\n",
    "    path_to_plots=PATH_TO_CURRENT_PLOTS,\n",
    "    limits=dict(\n",
    "        left=0,\n",
    "        right=6,\n",
    "        bottom=-0.1,\n",
    "        top=2.5,\n",
    "    ),\n",
    "    labels=('radius', 'rdf'),\n",
    ")\n",
    "plotter.ax.plot(all_radiuses, full_matrix[:, 0], label=r'$T=156$ K')\n",
    "plotter.ax.scatter(selected_radiuses, selected_matrix[:, 0], s=20)\n",
    "plotter.set_major_locators(1, 0.5)\n",
    "plotter.set_minor_locators(0.2, 0.1)\n",
    "plotter.get_legend()\n",
    "plt.show()"
   ]
  },
  {
   "cell_type": "markdown",
   "metadata": {},
   "source": [
    "## Regression Models Training"
   ]
  },
  {
   "cell_type": "code",
   "execution_count": null,
   "metadata": {
    "ExecuteTime": {
     "end_time": "2023-01-22T10:27:24.545445Z",
     "start_time": "2023-01-22T10:27:24.237336Z"
    }
   },
   "outputs": [],
   "source": [
    "max_mse = 1e-4\n",
    "r_dict = {\n",
    "    'L': {'regressors': [], 'max_error': max_mse},\n",
    "    'K': {'regressors': [], 'max_error': max_mse},\n",
    "    'KW': {'regressors': [], 'max_error': max_mse},\n",
    "    'R': {'regressors': [], 'max_error': 1e-3},\n",
    "    'RW': {'regressors': [], 'max_error': 1e-3},\n",
    "    'DT': {'regressors': [], 'max_error': max_mse},\n",
    "}\n",
    "for row in selected_matrix:\n",
    "    r_dict['L']['regressors'].append(LinearRegression())\n",
    "    r_dict['K']['regressors'].append(KNeighborsRegressor(weights='uniform', n_neighbors=2))\n",
    "    r_dict['KW']['regressors'].append(KNeighborsRegressor(weights='distance', n_neighbors=2))\n",
    "    r_dict['R']['regressors'].append(RadiusNeighborsRegressor(weights='uniform', radius=1.3))\n",
    "    r_dict['RW']['regressors'].append(RadiusNeighborsRegressor(weights='distance', radius=1.3))\n",
    "    r_dict['DT']['regressors'].append(DecisionTreeRegressor())"
   ]
  },
  {
   "cell_type": "code",
   "execution_count": null,
   "metadata": {
    "ExecuteTime": {
     "end_time": "2023-01-22T10:27:24.847928Z",
     "start_time": "2023-01-22T10:27:24.552324Z"
    }
   },
   "outputs": [],
   "source": [
    "samples = temperatures[:, np.newaxis]\n",
    "\n",
    "def train_regressors(regressors, max_error):\n",
    "    temperatures_number = 5\n",
    "    max_metric_value = 1\n",
    "    while max_metric_value > max_error:\n",
    "        temperatures_number += 1\n",
    "        errors = []\n",
    "        for j, row in enumerate(selected_matrix):\n",
    "            train_samples, _, train_targets, _ = train_test_split(\n",
    "                samples[:temperatures_number], \n",
    "                row[:temperatures_number], \n",
    "                test_size=0.5, \n",
    "                random_state=42,\n",
    "            )\n",
    "            regressors[j].fit(train_samples, train_targets)\n",
    "            predicted = regressors[j].predict([samples[temperatures_number]])\n",
    "            if row[temperatures_number]:\n",
    "                errors.append(\n",
    "                    mean_squared_error(\n",
    "                        y_true=[row[temperatures_number]], \n",
    "                        y_pred=predicted,\n",
    "                    ),\n",
    "                )\n",
    "        max_metric_value = max(errors)\n",
    "    return regressors, temperatures_number "
   ]
  },
  {
   "cell_type": "code",
   "execution_count": null,
   "metadata": {
    "ExecuteTime": {
     "end_time": "2023-01-22T10:27:30.258025Z",
     "start_time": "2023-01-22T10:27:24.854812Z"
    }
   },
   "outputs": [],
   "source": [
    "for model, _ in r_dict.items():\n",
    "    regressors, temperatures_number = train_regressors(r_dict[model]['regressors'], max_error=r_dict[model]['max_error'])\n",
    "    r_dict[model]['regressors'] = regressors\n",
    "    r_dict[model]['temperatures_number'] = temperatures_number\n",
    "    print(model, temperatures_number)"
   ]
  },
  {
   "cell_type": "markdown",
   "metadata": {},
   "source": [
    "## Prediction"
   ]
  },
  {
   "cell_type": "code",
   "execution_count": null,
   "metadata": {
    "ExecuteTime": {
     "end_time": "2023-01-22T10:27:30.559220Z",
     "start_time": "2023-01-22T10:27:30.259243Z"
    }
   },
   "outputs": [],
   "source": [
    "index_to_predict = 55"
   ]
  },
  {
   "cell_type": "code",
   "execution_count": null,
   "metadata": {
    "ExecuteTime": {
     "end_time": "2023-01-22T10:27:30.846856Z",
     "start_time": "2023-01-22T10:27:30.567221Z"
    }
   },
   "outputs": [],
   "source": [
    "def get_prediction(regressors):\n",
    "    predicted_parameters = np.array(\n",
    "        [regressor.predict([samples[index_to_predict]]) for regressor in regressors]\n",
    "    ).flatten()\n",
    "    mse = mean_squared_error(predicted_parameters, selected_matrix[:, index_to_predict])\n",
    "    return predicted_parameters, mse"
   ]
  },
  {
   "cell_type": "code",
   "execution_count": null,
   "metadata": {
    "ExecuteTime": {
     "end_time": "2023-01-22T10:27:31.988086Z",
     "start_time": "2023-01-22T10:27:30.854736Z"
    }
   },
   "outputs": [],
   "source": [
    "for model, _ in r_dict.items():\n",
    "    predicted_parameters, mse = get_prediction(r_dict[model]['regressors'])\n",
    "    r_dict[model]['predicted_parameters'] = predicted_parameters\n",
    "    r_dict[model]['mse_parameters'] = mse\n",
    "    print(model, mse)"
   ]
  },
  {
   "cell_type": "code",
   "execution_count": null,
   "metadata": {
    "ExecuteTime": {
     "end_time": "2023-01-22T10:27:33.580714Z",
     "start_time": "2023-01-22T10:27:31.999091Z"
    }
   },
   "outputs": [],
   "source": [
    "plotter = Plotter(\n",
    "    path_to_plots=PATH_TO_CURRENT_PLOTS,\n",
    "    limits=dict(\n",
    "        left=0,\n",
    "        right=10,\n",
    "        bottom=-1,\n",
    "        top=6,\n",
    "    ),\n",
    "    labels=('radius', r'$g-\\hat{g}$'),\n",
    ")\n",
    "plotter.set_major_locators(2, 2)\n",
    "plotter.set_minor_locators(0.4, 0.4)\n",
    "i = 0\n",
    "for model, _ in r_dict.items():\n",
    "    plotter.ax.scatter(\n",
    "        selected_radiuses, \n",
    "        (selected_matrix[:, index_to_predict] - r_dict[model]['predicted_parameters']) + i, \n",
    "        label=model,\n",
    "        s=10,\n",
    "    )\n",
    "    i += 1\n",
    "plotter.get_legend()\n",
    "plt.show()"
   ]
  },
  {
   "cell_type": "markdown",
   "metadata": {},
   "source": [
    "## Reconstruction"
   ]
  },
  {
   "cell_type": "code",
   "execution_count": null,
   "metadata": {
    "ExecuteTime": {
     "end_time": "2023-01-22T10:27:33.883579Z",
     "start_time": "2023-01-22T10:27:33.591061Z"
    }
   },
   "outputs": [],
   "source": [
    "def get_interpolation(predicted_parameters):\n",
    "    interpolator = interpolate.interp1d(selected_radiuses, predicted_parameters, kind='cubic')\n",
    "    predicted_rdf = np.zeros(all_radiuses.shape[0])\n",
    "    predicted_rdf[nz_indices] = interpolator(nz_radiuses)\n",
    "    predicted_rdf[predicted_rdf < 0] = 0\n",
    "    return predicted_rdf"
   ]
  },
  {
   "cell_type": "code",
   "execution_count": null,
   "metadata": {
    "ExecuteTime": {
     "end_time": "2023-01-22T10:27:40.751273Z",
     "start_time": "2023-01-22T10:27:33.891142Z"
    },
    "scrolled": false
   },
   "outputs": [],
   "source": [
    "for model, _ in r_dict.items():\n",
    "    r_dict[model]['predicted_rdf'] = get_interpolation(r_dict[model]['predicted_parameters'])\n",
    "    mse = mean_squared_error(full_matrix[:, index_to_predict], r_dict[model]['predicted_rdf'])\n",
    "    r_dict[model]['mse'] = mse\n",
    "    plotter = Plotter(\n",
    "        path_to_plots=PATH_TO_CURRENT_PLOTS,\n",
    "        limits=dict(left=0, right=6, bottom=-0.1, top=3),\n",
    "        labels=('radius', 'rdf'),\n",
    "    )\n",
    "    s = 20\n",
    "    plotter.ax.plot(all_radiuses, full_matrix[:, index_to_predict], '--', label='Observed')\n",
    "    plotter.ax.plot(all_radiuses, r_dict[model]['predicted_rdf'], ':', label='Predicted')\n",
    "    plotter.set_major_locators(1, 0.5)\n",
    "    plotter.set_minor_locators(0.2, 0.1)\n",
    "    plotter.get_legend()\n",
    "    plotter.ax.text(\n",
    "        x=3, \n",
    "        y=1.5, \n",
    "        s=f'Model: {model};\\n' + fr'$\\xi_j$={mse:.4f}.', \n",
    "        bbox=dict(boxstyle='round', facecolor='lightyellow'),\n",
    "    )\n",
    "    plt.show()"
   ]
  },
  {
   "cell_type": "code",
   "execution_count": null,
   "metadata": {
    "ExecuteTime": {
     "end_time": "2023-01-22T10:27:41.054958Z",
     "start_time": "2023-01-22T10:27:40.760946Z"
    }
   },
   "outputs": [],
   "source": [
    "models_by_time = sorted([(model, r_dict[model]['temperatures_number']) for model, _ in r_dict.items()], key=lambda x: x[1])\n",
    "models_by_time"
   ]
  },
  {
   "cell_type": "code",
   "execution_count": null,
   "metadata": {
    "ExecuteTime": {
     "end_time": "2023-01-22T10:27:41.351109Z",
     "start_time": "2023-01-22T10:27:41.063951Z"
    }
   },
   "outputs": [],
   "source": [
    "models_by_mse = sorted([(model, r_dict[model]['mse']) for model, _ in r_dict.items()], key=lambda x: x[1])\n",
    "models_by_mse"
   ]
  },
  {
   "cell_type": "code",
   "execution_count": null,
   "metadata": {
    "ExecuteTime": {
     "end_time": "2023-01-22T10:27:41.972912Z",
     "start_time": "2023-01-22T10:27:41.377091Z"
    }
   },
   "outputs": [],
   "source": [
    "for model, _ in r_dict.items():\n",
    "    predicted_rdf_df = pd.DataFrame({\n",
    "        'radius': all_radiuses, \n",
    "        'predicted_rdf': r_dict[model]['predicted_rdf'],\n",
    "        'observed_rdf': full_matrix[:, index_to_predict],\n",
    "    })\n",
    "    predicted_rdf_df.to_csv(str(PATH_TO_CURRENT_DATA / f'predicted_rdf_{model}.csv'), index=False, sep=';')\n",
    "predicted_rdf_df"
   ]
  },
  {
   "cell_type": "markdown",
   "metadata": {},
   "source": [
    "## End"
   ]
  },
  {
   "cell_type": "code",
   "execution_count": null,
   "metadata": {
    "ExecuteTime": {
     "end_time": "2023-01-22T10:27:42.355872Z",
     "start_time": "2023-01-22T10:27:41.982875Z"
    }
   },
   "outputs": [],
   "source": [
    "print(f'Execution Time: {datetime.now() - START_TIME}')"
   ]
  }
 ],
 "metadata": {
  "hide_input": false,
  "kernelspec": {
   "display_name": "Python 3 (ipykernel)",
   "language": "python",
   "name": "python3"
  },
  "language_info": {
   "codemirror_mode": {
    "name": "ipython",
    "version": 3
   },
   "file_extension": ".py",
   "mimetype": "text/x-python",
   "name": "python",
   "nbconvert_exporter": "python",
   "pygments_lexer": "ipython3",
   "version": "3.10.8"
  },
  "toc": {
   "base_numbering": 1,
   "nav_menu": {
    "height": "262px",
    "width": "853px"
   },
   "number_sections": true,
   "sideBar": true,
   "skip_h1_title": false,
   "title_cell": "Table of Contents",
   "title_sidebar": "Contents",
   "toc_cell": false,
   "toc_position": {
    "height": "calc(100% - 180px)",
    "left": "10px",
    "top": "150px",
    "width": "165px"
   },
   "toc_section_display": true,
   "toc_window_display": false
  },
  "varInspector": {
   "cols": {
    "lenName": 16,
    "lenType": 16,
    "lenVar": 40
   },
   "kernels_config": {
    "python": {
     "delete_cmd_postfix": "",
     "delete_cmd_prefix": "del ",
     "library": "var_list.py",
     "varRefreshCmd": "print(var_dic_list())"
    },
    "r": {
     "delete_cmd_postfix": ") ",
     "delete_cmd_prefix": "rm(",
     "library": "var_list.r",
     "varRefreshCmd": "cat(var_dic_list()) "
    }
   },
   "types_to_exclude": [
    "module",
    "function",
    "builtin_function_or_method",
    "instance",
    "_Feature"
   ],
   "window_display": false
  }
 },
 "nbformat": 4,
 "nbformat_minor": 4
}
