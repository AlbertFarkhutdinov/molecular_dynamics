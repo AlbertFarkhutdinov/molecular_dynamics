{
 "cells": [
  {
   "cell_type": "code",
   "execution_count": null,
   "id": "6880e659",
   "metadata": {
    "ExecuteTime": {
     "end_time": "2022-03-13T13:40:24.957730Z",
     "start_time": "2022-03-13T13:40:24.912173Z"
    }
   },
   "outputs": [],
   "source": [
    "from copy import deepcopy\n",
    "import os\n",
    "import sys\n",
    "from datetime import datetime"
   ]
  },
  {
   "cell_type": "code",
   "execution_count": null,
   "id": "d6352594",
   "metadata": {
    "ExecuteTime": {
     "end_time": "2022-03-13T13:40:36.279666Z",
     "start_time": "2022-03-13T13:40:24.965229Z"
    }
   },
   "outputs": [],
   "source": [
    "import matplotlib.pyplot as plt\n",
    "from numba import njit\n",
    "import numpy as np\n",
    "import pandas as pd\n",
    "\n",
    "from scipy.optimize import basinhopping, brute, differential_evolution, dual_annealing, shgo\n",
    "from scipy.stats import chisquare\n",
    "\n",
    "sys.path.append(os.path.dirname(sys.path[0]))"
   ]
  },
  {
   "cell_type": "code",
   "execution_count": null,
   "id": "17e08be7",
   "metadata": {
    "ExecuteTime": {
     "end_time": "2022-03-13T13:40:38.959621Z",
     "start_time": "2022-03-13T13:40:36.279666Z"
    }
   },
   "outputs": [],
   "source": [
    "import scripts.constants as con\n",
    "from scripts.helpers import get_unique_frame\n",
    "from scripts.pca import PCA\n",
    "from scripts.properties.ovito_procedures import OvitoProcessor\n",
    "from scripts.rdf_calculator import RDFCalculator"
   ]
  },
  {
   "cell_type": "code",
   "execution_count": null,
   "id": "f30e78cd",
   "metadata": {
    "ExecuteTime": {
     "end_time": "2022-03-13T13:40:38.990190Z",
     "start_time": "2022-03-13T13:40:38.959621Z"
    }
   },
   "outputs": [],
   "source": [
    "plt.style.use('seaborn')\n",
    "plt.rcParams['figure.dpi'] = 100\n",
    "plt.rcParams['font.family'] = 'Times New Roman'\n",
    "plt.rcParams['figure.figsize'] = [i / 2.54 for i in (15, 15)]\n",
    "plt.rcParams['mathtext.fontset'] = 'stix'\n",
    "plt.rcParams['mathtext.it'] = 'Times New Roman'\n",
    "plt.rcParams['xtick.labelsize'] = 14\n",
    "plt.rcParams['ytick.labelsize'] = 14\n",
    "plt.rcParams['legend.fontsize'] = 14\n",
    "plt.rcParams['axes.labelsize'] = 14"
   ]
  },
  {
   "cell_type": "code",
   "execution_count": null,
   "id": "058d4670",
   "metadata": {
    "ExecuteTime": {
     "end_time": "2022-03-13T13:40:39.038190Z",
     "start_time": "2022-03-13T13:40:39.008191Z"
    }
   },
   "outputs": [],
   "source": [
    "np.random.seed(0)"
   ]
  },
  {
   "cell_type": "code",
   "execution_count": null,
   "id": "372d7b89",
   "metadata": {
    "ExecuteTime": {
     "end_time": "2022-03-13T13:40:39.109189Z",
     "start_time": "2022-03-13T13:40:39.056192Z"
    }
   },
   "outputs": [],
   "source": [
    "@njit\n",
    "def math_round(value):\n",
    "    rest = value - int(value)\n",
    "    if rest >= 0.5 and value >= 0:\n",
    "        return float(int(value) + 1)\n",
    "    if rest <= -0.5 and value < 0:\n",
    "        return float(int(value) - 1)\n",
    "    return float(int(value))\n",
    "\n",
    "@njit\n",
    "def get_boundary_conditions(\n",
    "        cell_dimensions: np.ndarray,\n",
    "        particles_number: int,\n",
    "        positions: np.ndarray,\n",
    "):\n",
    "    for i in range(particles_number):\n",
    "        for j in range(3):\n",
    "            if positions[i][j] >= cell_dimensions[j] / 2.0:\n",
    "                positions[i][j] -= (\n",
    "                        math_round(positions[i][j] / cell_dimensions[j])\n",
    "                        * cell_dimensions[j]\n",
    "                )\n",
    "            if positions[i][j] < -cell_dimensions[j] / 2.0:\n",
    "                positions[i][j] -= (\n",
    "                        math_round(positions[i][j] / cell_dimensions[j])\n",
    "                        * cell_dimensions[j]\n",
    "                )\n",
    "    return positions"
   ]
  },
  {
   "cell_type": "code",
   "execution_count": null,
   "id": "f06b1b55",
   "metadata": {
    "ExecuteTime": {
     "end_time": "2022-03-13T13:40:39.164190Z",
     "start_time": "2022-03-13T13:40:39.122192Z"
    }
   },
   "outputs": [],
   "source": [
    "def calculate_rdf(positions):\n",
    "    cell_dimensions = np.array([12.25, 12.25, 12.25])\n",
    "    radii, rdf = OvitoProcessor(\n",
    "        positions=positions, \n",
    "        cell_dimensions=cell_dimensions,\n",
    "    ).get_rdf()\n",
    "    return radii, rdf"
   ]
  },
  {
   "cell_type": "code",
   "execution_count": null,
   "id": "426d4841",
   "metadata": {
    "ExecuteTime": {
     "end_time": "2022-03-13T13:40:39.196194Z",
     "start_time": "2022-03-13T13:40:39.177189Z"
    }
   },
   "outputs": [],
   "source": [
    "def mse(obs, exp):\n",
    "    return np.sum((obs - exp) ** 2)"
   ]
  },
  {
   "cell_type": "code",
   "execution_count": null,
   "id": "801186a0",
   "metadata": {
    "ExecuteTime": {
     "end_time": "2022-03-13T13:40:39.228188Z",
     "start_time": "2022-03-13T13:40:39.205190Z"
    }
   },
   "outputs": [],
   "source": [
    "def generate_random_state() -> None:\n",
    "    particles_number = 1372\n",
    "    cell_dimensions = 12.25 * np.ones(3)\n",
    "    return (np.random.random((particles_number, 3)) - 0.5) * cell_dimensions"
   ]
  },
  {
   "cell_type": "code",
   "execution_count": null,
   "id": "443e4029",
   "metadata": {
    "ExecuteTime": {
     "end_time": "2022-03-13T13:40:39.260192Z",
     "start_time": "2022-03-13T13:40:39.235189Z"
    }
   },
   "outputs": [],
   "source": [
    "CURRENT_DATA_NORMAL = '2021-09-24_prepared_1.3_normal'\n",
    "PLOT_FILENAME_POSTFIX_NORMAL = 'prepared_1.3_normal'\n",
    "\n",
    "PATH_TO_CURRENT_DATA_NORMAL = os.path.join(con.PATH_TO_DATA, CURRENT_DATA_NORMAL)\n",
    "PATH_TO_CURRENT_DATA_NORMAL"
   ]
  },
  {
   "cell_type": "code",
   "execution_count": null,
   "id": "d98e298f",
   "metadata": {
    "ExecuteTime": {
     "end_time": "2022-03-13T13:40:40.513353Z",
     "start_time": "2022-03-13T13:40:39.266190Z"
    }
   },
   "outputs": [],
   "source": [
    "samples = np.load(os.path.join(PATH_TO_CURRENT_DATA_NORMAL, 'samples.npy'))\n",
    "test_sample = np.load(os.path.join(PATH_TO_CURRENT_DATA_NORMAL, 'test_sample.npy'))\n",
    "targets = np.load(os.path.join(PATH_TO_CURRENT_DATA_NORMAL, 'targets_pbc.npy'))\n",
    "cooled_1 = np.load(os.path.join(PATH_TO_CURRENT_DATA_NORMAL, 'cooled_1.npy'))\n",
    "cooled_2 = np.load(os.path.join(PATH_TO_CURRENT_DATA_NORMAL, 'cooled_2.npy'))\n",
    "\n",
    "samples.shape, test_sample.shape, targets.shape, cooled_1.shape, cooled_2.shape"
   ]
  },
  {
   "cell_type": "code",
   "execution_count": null,
   "id": "dbc8a1dd",
   "metadata": {
    "ExecuteTime": {
     "end_time": "2022-03-13T13:40:40.543340Z",
     "start_time": "2022-03-13T13:40:40.519335Z"
    }
   },
   "outputs": [],
   "source": [
    "i = 1\n",
    "obs_rdf = samples[i]\n",
    "some_positions = deepcopy(targets[i])\n",
    "# some_positions = generate_random_state()\n",
    "some_positions.shape"
   ]
  },
  {
   "cell_type": "code",
   "execution_count": null,
   "id": "bd0779cf",
   "metadata": {
    "ExecuteTime": {
     "end_time": "2022-03-13T13:40:41.301745Z",
     "start_time": "2022-03-13T13:40:40.552336Z"
    }
   },
   "outputs": [],
   "source": [
    "radii, exp_rdf = calculate_rdf(some_positions)\n",
    "size = obs_rdf.size\n",
    "radii = radii[:size]\n",
    "exp_rdf = exp_rdf[:size]\n",
    "print(mse(obs=obs_rdf, exp=exp_rdf))\n",
    "plt.plot(radii, exp_rdf, color='red')\n",
    "plt.plot(radii, obs_rdf, color='black')\n",
    "plt.show()"
   ]
  },
  {
   "cell_type": "code",
   "execution_count": null,
   "id": "01713a31",
   "metadata": {
    "ExecuteTime": {
     "end_time": "2022-03-13T13:40:41.333750Z",
     "start_time": "2022-03-13T13:40:41.307747Z"
    }
   },
   "outputs": [],
   "source": [
    "def optimized_func(positions):\n",
    "    collided_number = 0\n",
    "    positions = positions.reshape(1372, 3)\n",
    "    radii, exp_rdf = calculate_rdf(positions)\n",
    "    size = obs_rdf.size\n",
    "    radii = radii[:size]\n",
    "    exp_rdf = exp_rdf[:size]\n",
    "    if np.where(exp_rdf > 0)[0][0] < np.where(obs_rdf > 0)[0][0]:\n",
    "        collided_number = exp_rdf[np.where(exp_rdf > 0)[0]].sum()\n",
    "    result = mse(obs=obs_rdf, exp=exp_rdf)\n",
    "    print(f'{result:8.3f}, {collided_number:8.3f}, {result + collided_number:8.3f}')\n",
    "    return result, collided_number"
   ]
  },
  {
   "cell_type": "code",
   "execution_count": null,
   "id": "b77de75c",
   "metadata": {
    "ExecuteTime": {
     "end_time": "2022-03-13T17:40:06.972955Z",
     "start_time": "2022-03-13T17:05:29.266384Z"
    },
    "scrolled": true
   },
   "outputs": [],
   "source": [
    "new_res = dual_annealing(\n",
    "    lambda x: optimized_func(x)[0],\n",
    "    x0=some_positions.reshape(1372*3),\n",
    "    bounds=[(-6.125, 6.125) for _ in range(1372*3)],\n",
    "    no_local_search=True,\n",
    ")\n",
    "new_res = dual_annealing(\n",
    "    lambda x: optimized_func(x)[1],\n",
    "    x0=new_res.x[0].reshape(1372*3),\n",
    "    bounds=[(-6.125, 6.125) for _ in range(1372*3)],\n",
    "    no_local_search=True,\n",
    ")"
   ]
  },
  {
   "cell_type": "code",
   "execution_count": null,
   "id": "dd4ad17d",
   "metadata": {
    "ExecuteTime": {
     "end_time": "2022-03-13T13:59:55.374142Z",
     "start_time": "2022-03-13T13:59:49.549613Z"
    },
    "scrolled": true
   },
   "outputs": [],
   "source": [
    "new_res = differential_evolution(\n",
    "    lambda x: optimized_func(x)[0] + optimized_func(x)[1],\n",
    "    bounds=[(-6.125, 6.125) for _ in range(1372 * 3)],\n",
    "    popsize=2,\n",
    ")"
   ]
  },
  {
   "cell_type": "code",
   "execution_count": null,
   "id": "58ea00ca",
   "metadata": {
    "ExecuteTime": {
     "end_time": "2022-03-13T14:22:45.295006Z",
     "start_time": "2022-03-13T14:22:45.261752Z"
    }
   },
   "outputs": [],
   "source": [
    "radii, new_exp_rdf = calculate_rdf(np.reshape(new_res.x[0], (1372, 3)))\n",
    "size = obs_rdf.size\n",
    "radii = radii[:size]\n",
    "new_exp_rdf = new_exp_rdf[:size]"
   ]
  },
  {
   "cell_type": "code",
   "execution_count": null,
   "id": "7e40d0a8",
   "metadata": {
    "ExecuteTime": {
     "end_time": "2022-03-13T13:41:43.938450Z",
     "start_time": "2022-03-13T13:41:43.938450Z"
    }
   },
   "outputs": [],
   "source": [
    "print(f'Initial MSE = {mse(obs=obs_rdf, exp=exp_rdf)}')\n",
    "print(f'Current MSE = {mse(obs=obs_rdf, exp=new_exp_rdf)}')\n",
    "print(f'Current MSE = {optimized_func(new_res.x)[0]}')"
   ]
  },
  {
   "cell_type": "code",
   "execution_count": null,
   "id": "195a463b",
   "metadata": {
    "ExecuteTime": {
     "end_time": "2022-03-13T13:41:43.953451Z",
     "start_time": "2022-03-13T13:41:43.953451Z"
    }
   },
   "outputs": [],
   "source": [
    "# plt.plot(radii, obs_rdf, color='black')\n",
    "plt.plot(radii, exp_rdf, color='red')\n",
    "plt.plot(radii, new_exp_rdf, color='green')\n",
    "plt.show()"
   ]
  },
  {
   "cell_type": "code",
   "execution_count": null,
   "id": "6607da48",
   "metadata": {
    "ExecuteTime": {
     "end_time": "2022-03-13T13:41:43.961454Z",
     "start_time": "2022-03-13T13:41:43.961454Z"
    }
   },
   "outputs": [],
   "source": [
    "plt.plot(radii, exp_rdf - obs_rdf, color='red')\n",
    "plt.plot(radii, new_exp_rdf - obs_rdf, color='green')\n",
    "plt.show()"
   ]
  }
 ],
 "metadata": {
  "kernelspec": {
   "display_name": "Python 3 (ipykernel)",
   "language": "python",
   "name": "python3"
  },
  "language_info": {
   "codemirror_mode": {
    "name": "ipython",
    "version": 3
   },
   "file_extension": ".py",
   "mimetype": "text/x-python",
   "name": "python",
   "nbconvert_exporter": "python",
   "pygments_lexer": "ipython3",
   "version": "3.9.9"
  },
  "toc": {
   "base_numbering": 1,
   "nav_menu": {},
   "number_sections": true,
   "sideBar": true,
   "skip_h1_title": true,
   "title_cell": "Table of Contents",
   "title_sidebar": "Contents",
   "toc_cell": false,
   "toc_position": {},
   "toc_section_display": true,
   "toc_window_display": false
  }
 },
 "nbformat": 4,
 "nbformat_minor": 5
}
