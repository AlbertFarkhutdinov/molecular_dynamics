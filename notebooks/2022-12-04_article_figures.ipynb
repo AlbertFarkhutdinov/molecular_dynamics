{
 "cells": [
  {
   "cell_type": "code",
   "execution_count": null,
   "id": "a1bb23a2",
   "metadata": {
    "ExecuteTime": {
     "end_time": "2023-01-21T15:10:09.837255Z",
     "start_time": "2023-01-21T15:10:09.788258Z"
    }
   },
   "outputs": [],
   "source": [
    "from pathlib import Path\n",
    "import sys\n",
    "\n",
    "BASE_DIR = Path('.').resolve().parent\n",
    "sys.path.append(str(BASE_DIR))"
   ]
  },
  {
   "cell_type": "code",
   "execution_count": null,
   "id": "e8566792",
   "metadata": {
    "ExecuteTime": {
     "end_time": "2023-01-21T15:10:17.357526Z",
     "start_time": "2023-01-21T15:10:09.850261Z"
    }
   },
   "outputs": [],
   "source": [
    "import matplotlib.pyplot as plt\n",
    "import numpy as np\n",
    "import pandas as pd\n",
    "\n",
    "from scipy.interpolate import interp1d"
   ]
  },
  {
   "cell_type": "code",
   "execution_count": null,
   "id": "e3b11412",
   "metadata": {
    "ExecuteTime": {
     "end_time": "2023-01-21T15:10:22.642759Z",
     "start_time": "2023-01-21T15:10:17.366538Z"
    }
   },
   "outputs": [],
   "source": [
    "%load_ext autoreload\n",
    "%autoreload 2\n",
    "\n",
    "from scripts_old.plotter import Plotter\n",
    "import scripts_old.postprocessing as pp"
   ]
  },
  {
   "cell_type": "code",
   "execution_count": null,
   "id": "e0a41be6",
   "metadata": {
    "ExecuteTime": {
     "end_time": "2023-01-21T15:10:23.132875Z",
     "start_time": "2023-01-21T15:10:22.663761Z"
    }
   },
   "outputs": [],
   "source": [
    "CURRENT_DATA_SLOW = '2022-09-25_velocity_scaling_HV_2e-5_T_01e-4'\n",
    "PLOT_FILENAME_POSTFIX_SLOW = 'cooling_slow'"
   ]
  },
  {
   "cell_type": "code",
   "execution_count": null,
   "id": "9a144eac",
   "metadata": {
    "ExecuteTime": {
     "end_time": "2023-01-21T15:10:23.719241Z",
     "start_time": "2023-01-21T15:10:23.170972Z"
    }
   },
   "outputs": [],
   "source": [
    "PATH_TO_CURRENT_DATA_SLOW = BASE_DIR / 'data' / CURRENT_DATA_SLOW\n",
    "PATH_TO_CURRENT_PLOTS = BASE_DIR / 'plots' / 'article'\n",
    "PATH_TO_CURRENT_DATA_SLOW"
   ]
  },
  {
   "cell_type": "code",
   "execution_count": null,
   "id": "157264aa",
   "metadata": {
    "ExecuteTime": {
     "end_time": "2023-01-21T15:10:32.594944Z",
     "start_time": "2023-01-21T15:10:23.734229Z"
    }
   },
   "outputs": [],
   "source": [
    "setups_slow = []\n",
    "rdf_slow = pp.RadialDistributionFunctionPP(path_to_data=str(PATH_TO_CURRENT_DATA_SLOW))\n",
    "\n",
    "for filename in PATH_TO_CURRENT_DATA_SLOW.iterdir():\n",
    "    if filename.match('rdf*.csv'):\n",
    "        parts = filename.stem.split('_')\n",
    "        setup = {\n",
    "            'temperature': float(parts[2]),\n",
    "            'pressure': float(parts[4]) if 'P' in parts else None,\n",
    "            'heating_velocity': float(parts[6]) if 'HV' in parts else None,\n",
    "        }\n",
    "        setups_slow.append(setup)\n",
    "\n",
    "setups_slow = setups_slow[::-1]\n",
    "for setup_number, setup in enumerate(setups_slow):\n",
    "    print(setup)\n",
    "    filename_postfix = pp.get_filename_postfix(setup)\n",
    "    rdf_slow.append(filename_postfix=filename_postfix)\n",
    "    rdf_slow.rename_column(column_name='rdf', setup_number=setup_number)\n",
    "\n",
    "rdf_slow.data"
   ]
  },
  {
   "cell_type": "code",
   "execution_count": null,
   "id": "5f6938a8",
   "metadata": {
    "ExecuteTime": {
     "end_time": "2023-01-21T15:10:33.087609Z",
     "start_time": "2023-01-21T15:10:32.594944Z"
    }
   },
   "outputs": [],
   "source": [
    "rdf_table = rdf_slow.get_rdf_table()\n",
    "rdf_table"
   ]
  },
  {
   "cell_type": "code",
   "execution_count": null,
   "id": "04c0c894",
   "metadata": {
    "ExecuteTime": {
     "end_time": "2023-01-21T15:10:33.425453Z",
     "start_time": "2023-01-21T15:10:33.087609Z"
    }
   },
   "outputs": [],
   "source": [
    "rdf_0 = rdf_slow.data[['radius', 'setup_0']].rename(columns={'setup_0': 'rdf'})\n",
    "non_zero_rdf_0 = rdf_0.loc[rdf_0.rdf > 0]\n",
    "non_zero_rdf_0"
   ]
  },
  {
   "cell_type": "code",
   "execution_count": null,
   "id": "e6d5273d",
   "metadata": {
    "ExecuteTime": {
     "end_time": "2023-01-21T15:10:39.909144Z",
     "start_time": "2023-01-21T15:10:33.425453Z"
    }
   },
   "outputs": [],
   "source": [
    "plotter = Plotter(\n",
    "    path_to_plots=PATH_TO_CURRENT_PLOTS,\n",
    "    limits=dict(\n",
    "        left=0,\n",
    "        right=5,\n",
    "        bottom=-0.1,\n",
    "        top=2.5,\n",
    "    ),\n",
    "    labels=('radius', 'rdf'),\n",
    ")\n",
    "\n",
    "step = 15\n",
    "\n",
    "plotter.ax.plot(\n",
    "    rdf_0.radius.values, \n",
    "    rdf_0.rdf.values,\n",
    "    label=r'$T=156$ K',\n",
    "    linewidth=1,\n",
    ")\n",
    "plotter.ax.scatter(\n",
    "    non_zero_rdf_0.radius.values[::step], \n",
    "    non_zero_rdf_0.rdf.values[::step],\n",
    "#     label=r'$g^{(j)}(T)$',\n",
    "    s=20,\n",
    ")\n",
    "fontsize = 10\n",
    "plotter.ax.text(s=r'$g^{(1)}(T)$', x=1, y=0.05, fontsize=fontsize)\n",
    "plotter.ax.text(s=r'$g^{(2)}(T)$', x=0.2, y=1.4, fontsize=fontsize)\n",
    "plotter.ax.text(s=r'$g^{(3)}(T)$', x=1.25, y=2, fontsize=fontsize)\n",
    "plotter.ax.text(s=r'$g^{(4)}(T)$', x=1.3, y=1.25, fontsize=fontsize)\n",
    "plotter.ax.text(s=r'$g^{(j)}(T)$', x=3.05, y=1.1, fontsize=fontsize)\n",
    "plotter.ax.text(s=r'$g^{(n_r)}(T)$', x=4.2, y=0.7, fontsize=fontsize)\n",
    "plotter.ax.arrow(x=4.6, y=0.83, dx=0.23, dy=0.11, width=0.01)\n",
    "plotter.set_minor_locators(0.2, 0.1)\n",
    "plotter.get_legend()\n",
    "plotter.save_plot(filename=f'rdf_parameters_example.png')\n",
    "plt.show()"
   ]
  },
  {
   "cell_type": "code",
   "execution_count": null,
   "id": "609083f3",
   "metadata": {
    "ExecuteTime": {
     "end_time": "2023-01-21T15:10:44.068224Z",
     "start_time": "2023-01-21T15:10:39.917701Z"
    }
   },
   "outputs": [],
   "source": [
    "scales = np.arange(1, 100, 4)\n",
    "steps = 0.01 * scales\n",
    "sums = [0.01 * scale * non_zero_rdf_0.rdf[::scale].sum() for scale in scales]\n",
    "integral = non_zero_rdf_0.rdf.sum() * 0.01\n",
    "\n",
    "\n",
    "plotter = Plotter(\n",
    "    path_to_plots=PATH_TO_CURRENT_PLOTS,\n",
    "    limits=dict(\n",
    "        left=0,\n",
    "        right=1,\n",
    "        bottom=-0.01,\n",
    "        top=0.25,\n",
    "    ),\n",
    "    labels=(r'$\\Delta r$ (units of $\\sigma$)', r'$|\\hat{S}(T)-S(T)|~/~S(T)$'),\n",
    ")\n",
    "\n",
    "deltas = abs(integral - sums) / integral\n",
    "plotter.ax.plot(steps, deltas, 'o--', color='black', label=r'$T=156$ K', linewidth=1)\n",
    "dot_index = 8\n",
    "plotter.ax.plot(np.linspace(-0.1, steps[dot_index], 40), deltas[dot_index] * np.ones(40), '--', color='black', linewidth=1)\n",
    "plotter.ax.plot(steps[dot_index] * np.ones(5), np.linspace(-0.1, deltas[dot_index], 5), '--', color='black', linewidth=1)\n",
    "\n",
    "plotter.set_minor_locators(0.05, 0.01)\n",
    "plotter.get_legend()\n",
    "\n",
    "plotter.save_plot(filename=f'sums_step_dependence.png')\n",
    "plt.show()\n",
    "steps[dot_index], deltas[dot_index]"
   ]
  },
  {
   "cell_type": "code",
   "execution_count": null,
   "id": "efe9f82a",
   "metadata": {
    "ExecuteTime": {
     "end_time": "2023-01-21T15:10:44.450287Z",
     "start_time": "2023-01-21T15:10:44.079192Z"
    }
   },
   "outputs": [],
   "source": [
    "temperatures = np.array([\n",
    "    setups_slow[value]['temperature']\n",
    "    for value\n",
    "    in rdf_table.index.str[6:].values.astype(np.int32)\n",
    "])[:-1]\n",
    "temperatures"
   ]
  },
  {
   "cell_type": "code",
   "execution_count": null,
   "id": "0bec3590",
   "metadata": {
    "ExecuteTime": {
     "end_time": "2023-01-21T15:10:44.733841Z",
     "start_time": "2023-01-21T15:10:44.459314Z"
    }
   },
   "outputs": [],
   "source": [
    "samples_train_indices = np.arange(temperatures.shape[0])\n",
    "samples_test_indices = np.arange(temperatures.shape[0], temperatures.shape[0])\n",
    "\n",
    "train_samples = temperatures[samples_train_indices]\n",
    "test_samples = temperatures[samples_test_indices]\n",
    "train_samples, test_samples"
   ]
  },
  {
   "cell_type": "code",
   "execution_count": null,
   "id": "5d089746",
   "metadata": {
    "ExecuteTime": {
     "end_time": "2023-01-21T15:10:50.249245Z",
     "start_time": "2023-01-21T15:10:44.741844Z"
    }
   },
   "outputs": [],
   "source": [
    "train_targets_1 = rdf_table[1.5].values[samples_train_indices]\n",
    "train_targets_2 = rdf_table[2.0].values[samples_train_indices]\n",
    "train_targets_3 = rdf_table[2.5].values[samples_train_indices]\n",
    "\n",
    "\n",
    "plotter = Plotter(\n",
    "    path_to_plots=PATH_TO_CURRENT_PLOTS,\n",
    "    limits=dict(\n",
    "        left=84,\n",
    "        right=156,\n",
    "        bottom=0.4,\n",
    "        top=1.6,\n",
    "    ),\n",
    "    labels=(r'$T$ (K)', fr'$g(T;r_j)$'),\n",
    ")\n",
    "kelvins = train_samples * 119.8\n",
    "plotter.ax.scatter(kelvins, train_targets_1, label=fr'$r_j=1.5\\sigma$', s=20)\n",
    "plotter.ax.scatter(kelvins, train_targets_2, label=fr'$r_j=2.0\\sigma$', s=20)\n",
    "plotter.ax.scatter(kelvins, train_targets_3, label=fr'$r_j=2.5\\sigma$', s=20)\n",
    "plotter.set_minor_locators(4, 0.04)\n",
    "plotter.ax.text(s=r'$\\gamma=10^8$ K/s', x=130, y=0.5, fontsize=10, bbox=dict(boxstyle='round', facecolor='lightyellow'))\n",
    "plotter.get_legend()\n",
    "plotter.save_plot('regression_examples')\n",
    "plt.show()"
   ]
  },
  {
   "cell_type": "code",
   "execution_count": null,
   "id": "14f2d24b",
   "metadata": {
    "ExecuteTime": {
     "end_time": "2023-01-21T15:10:50.534149Z",
     "start_time": "2023-01-21T15:10:50.266236Z"
    }
   },
   "outputs": [],
   "source": [
    "np.random.seed(0)\n",
    "features = np.array([90, 92, 94, 96, 98, 101, 103, 106, 108])\n",
    "labels = 0.85 + np.random.random(9) * 0.3"
   ]
  },
  {
   "cell_type": "code",
   "execution_count": null,
   "id": "9b9f669e",
   "metadata": {
    "ExecuteTime": {
     "end_time": "2023-01-21T15:10:54.862549Z",
     "start_time": "2023-01-21T15:10:50.541965Z"
    },
    "scrolled": true
   },
   "outputs": [],
   "source": [
    "plotter = Plotter(\n",
    "    path_to_plots=PATH_TO_CURRENT_PLOTS,\n",
    "    limits=dict(\n",
    "        left=90,\n",
    "        right=110,\n",
    "        bottom=0.85,\n",
    "        top=1.15,\n",
    "    ),\n",
    "    labels=(r'$T$ (K)', fr'$g^{{(j)}}(T)$'),\n",
    ")\n",
    "plotter.ax.scatter(features[:3], labels[:3], s=20, color='black')\n",
    "plotter.ax.scatter(features[7:], labels[7:], s=20, color='black')\n",
    "plotter.ax.scatter(features[3:7], labels[3:7], s=20, color='green')\n",
    "plotter.ax.scatter(100, labels[3:7].mean(), s=20, color='red')\n",
    "plotter.set_minor_locators(2, 0.02)\n",
    "plotter.ax.scatter(100, labels[3:7].mean(), s=20, color='red')\n",
    "plotter.ax.text(s=r'$k=4$', x=105, y=0.9)\n",
    "plotter.save_plot('knn_example')\n",
    "plt.show()"
   ]
  },
  {
   "cell_type": "code",
   "execution_count": null,
   "id": "275a6ad2",
   "metadata": {
    "ExecuteTime": {
     "end_time": "2023-01-21T15:11:00.414292Z",
     "start_time": "2023-01-21T15:10:54.862549Z"
    },
    "scrolled": false
   },
   "outputs": [],
   "source": [
    "PATH_TO_LJ_PHASES = BASE_DIR / 'data' / '2022-12-10_lj_phases'\n",
    "\n",
    "solid = pd.read_csv(PATH_TO_LJ_PHASES / 'rdf_T_0.10015_P_-0.58748_HV_0.00002_.csv', sep=';')\n",
    "\n",
    "liquid = pd.read_csv(PATH_TO_LJ_PHASES / 'rdf_T_0.66765_P_0.00568_HV_0.00002_.csv', sep=';')\n",
    "\n",
    "gas = pd.read_csv(PATH_TO_LJ_PHASES / 'rdf_T_2.48628_P_0.08435_HV_0.00002_.csv', sep=';')\n",
    "\n",
    "plotter = Plotter(\n",
    "    path_to_plots=PATH_TO_CURRENT_PLOTS,\n",
    "    limits=dict(\n",
    "        left=0,\n",
    "        right=5,\n",
    "        bottom=-0.1,\n",
    "        top=12,\n",
    "    ),\n",
    "    labels=('radius', 'rdf'),\n",
    ")\n",
    "\n",
    "step = 15\n",
    "\n",
    "plotter.ax.plot(solid.radius.values, solid.rdf.values, label=r'solid', linewidth=1, color=(0, 1, 0))\n",
    "plotter.ax.plot(liquid.radius.values, liquid.rdf.values, ':', label=r'liquid', linewidth=1, color=(1, 0, 0))\n",
    "plotter.ax.plot(gas.radius.values, gas.rdf.values, '--', label=r'gas', linewidth=1, color=(0, 0, 1))\n",
    "plotter.set_minor_locators(0.2, 0.4)\n",
    "plotter.get_legend()\n",
    "plotter.save_plot(filename=f'rdf_for_lj_phases.png')\n",
    "plt.show()"
   ]
  },
  {
   "cell_type": "code",
   "execution_count": null,
   "id": "960ea35d",
   "metadata": {
    "ExecuteTime": {
     "end_time": "2023-01-21T15:28:25.904534Z",
     "start_time": "2023-01-21T15:28:22.092501Z"
    }
   },
   "outputs": [],
   "source": [
    "np.random.seed(0)\n",
    "split_temperatures = np.linspace(0, 1, 9)\n",
    "dt_values = np.random.uniform(size=8)\n",
    "\n",
    "plotter = Plotter(\n",
    "    path_to_plots=PATH_TO_CURRENT_PLOTS,\n",
    "    limits=dict(\n",
    "        left=0,\n",
    "        right=1,\n",
    "        bottom=0,\n",
    "        top=1,\n",
    "    ),\n",
    ")\n",
    "for i, split_temperature in enumerate(split_temperatures[:-1]):\n",
    "    temperatures = np.linspace(split_temperature, split_temperatures[i + 1], 2)\n",
    "    plotter.ax.plot(temperatures, np.ones(2) * dt_values[i], color='black')\n",
    "    plotter.ax.plot(np.ones(2) * split_temperature, np.arange(2), '--', color='black', linewidth=1)\n",
    "    plotter.ax.text(\n",
    "        s=fr'$g_{i + 1}$', \n",
    "        x=(split_temperature+split_temperatures[i + 1]) / 2 - 0.03, \n",
    "        y=dt_values[i] + 0.02,\n",
    "    )\n",
    "plotter.ax.set_ylabel(fr'$g^{{(j)}}(T)$')\n",
    "plotter.ax.set_xticks(split_temperatures[1:-1])\n",
    "plotter.ax.set_xticklabels(\n",
    "    [\n",
    "    r'$T_1^{(2)}$',\n",
    "    r'$T_1^{(1)}$',\n",
    "    r'$T_2^{(2)}$',\n",
    "    r'$T_1^{(0)}$',\n",
    "    r'$T_3^{(2)}$',\n",
    "    r'$T_2^{(1)}$',\n",
    "    r'$T_4^{(2)}$',\n",
    "    ],\n",
    ")\n",
    "plotter.ax.set_yticks([0, 1])\n",
    "plotter.ax.set_yticklabels(['', ''])\n",
    "plotter.ax.text(s='(b)', x=-.2, y=0.9, fontsize=14)\n",
    "plotter.save_plot(filename=f'decision_tree_values.png')\n",
    "plt.show()"
   ]
  }
 ],
 "metadata": {
  "kernelspec": {
   "display_name": "Python 3 (ipykernel)",
   "language": "python",
   "name": "python3"
  },
  "language_info": {
   "codemirror_mode": {
    "name": "ipython",
    "version": 3
   },
   "file_extension": ".py",
   "mimetype": "text/x-python",
   "name": "python",
   "nbconvert_exporter": "python",
   "pygments_lexer": "ipython3",
   "version": "3.10.8"
  },
  "toc": {
   "base_numbering": 1,
   "nav_menu": {},
   "number_sections": true,
   "sideBar": true,
   "skip_h1_title": true,
   "title_cell": "Table of Contents",
   "title_sidebar": "Contents",
   "toc_cell": false,
   "toc_position": {},
   "toc_section_display": true,
   "toc_window_display": false
  }
 },
 "nbformat": 4,
 "nbformat_minor": 5
}
