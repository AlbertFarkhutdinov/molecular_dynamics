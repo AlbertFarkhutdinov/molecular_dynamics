{
 "cells": [
  {
   "cell_type": "code",
   "execution_count": 1,
   "metadata": {},
   "outputs": [],
   "source": [
    "import os\n",
    "\n",
    "import matplotlib.pyplot as plt\n",
    "import numpy as np\n",
    "import pandas as pd\n",
    "\n",
    "plt.style.use('seaborn')"
   ]
  },
  {
   "cell_type": "code",
   "execution_count": 2,
   "metadata": {},
   "outputs": [
    {
     "data": {
      "text/plain": [
       "'C:\\\\Users\\\\farhutdinov.a\\\\Documents\\\\Albert\\\\git_reps\\\\molecular_dynamics\\\\data'"
      ]
     },
     "execution_count": 2,
     "metadata": {},
     "output_type": "execute_result"
    }
   ],
   "source": [
    "BASE_DIRECTORY = os.path.dirname(os.getcwd())\n",
    "PATH_TO_DATA = os.path.join(BASE_DIRECTORY, 'data')\n",
    "\n",
    "PATH_TO_DATA"
   ]
  },
  {
   "cell_type": "code",
   "execution_count": 3,
   "metadata": {},
   "outputs": [],
   "source": [
    "date = '2020-12-17'\n",
    "\n",
    "filename = os.path.join(PATH_TO_DATA, date, f'log_{date}.log')"
   ]
  },
  {
   "cell_type": "code",
   "execution_count": 4,
   "metadata": {},
   "outputs": [],
   "source": [
    "pressures = []"
   ]
  },
  {
   "cell_type": "code",
   "execution_count": 5,
   "metadata": {},
   "outputs": [],
   "source": [
    "with open(filename) as file:\n",
    "    for line in file:\n",
    "        if 'Pressure:' in line:\n",
    "            pressures.append(line[line.index('DEBUG') :-2])"
   ]
  },
  {
   "cell_type": "code",
   "execution_count": 6,
   "metadata": {},
   "outputs": [],
   "source": [
    "for i, pressure in enumerate(pressures):\n",
    "    pressures[i] = float(pressure[pressure.index(':') + 2: ])\n",
    "\n",
    "pressures = np.array(pressures)"
   ]
  },
  {
   "cell_type": "code",
   "execution_count": 7,
   "metadata": {},
   "outputs": [
    {
     "data": {
      "image/png": "[encoded data removed]",
      "text/plain": [
       "<Figure size 576x396 with 1 Axes>"
      ]
     },
     "metadata": {},
     "output_type": "display_data"
    }
   ],
   "source": [
    "plt.scatter(\n",
    "    np.arange(pressures.size) * 0.005 + 0.005,\n",
    "    pressures,\n",
    "    s=5,\n",
    "    color='black'\n",
    ");\n",
    "plt.xlabel(r'Time, $\\tau$');\n",
    "plt.ylabel(r'Pressure, $\\epsilon / \\sigma^3 $');\n",
    "plt.xlim(left=0);\n",
    "# plt.ylim(bottom=0, top=5);"
   ]
  }
 ],
 "metadata": {
  "kernelspec": {
   "display_name": "Python 3",
   "language": "python",
   "name": "python3"
  },
  "language_info": {
   "codemirror_mode": {
    "name": "ipython",
    "version": 3
   },
   "file_extension": ".py",
   "mimetype": "text/x-python",
   "name": "python",
   "nbconvert_exporter": "python",
   "pygments_lexer": "ipython3",
   "version": "3.8.3"
  }
 },
 "nbformat": 4,
 "nbformat_minor": 4
}
