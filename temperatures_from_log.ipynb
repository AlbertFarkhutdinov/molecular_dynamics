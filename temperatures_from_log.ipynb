{
 "cells": [
  {
   "cell_type": "code",
   "execution_count": 1,
   "metadata": {},
   "outputs": [],
   "source": [
    "import os\n",
    "\n",
    "import matplotlib.pyplot as plt\n",
    "import numpy as np\n",
    "\n",
    "plt.style.use('seaborn')"
   ]
  },
  {
   "cell_type": "code",
   "execution_count": 2,
   "metadata": {},
   "outputs": [],
   "source": [
    "filename = os.path.join(\n",
    "    os.getcwd(), \n",
    "    'data', \n",
    "    '2020-11-20',\n",
    "    'log_2020-11-20.log',\n",
    ")"
   ]
  },
  {
   "cell_type": "code",
   "execution_count": 3,
   "metadata": {},
   "outputs": [],
   "source": [
    "temperatures = []"
   ]
  },
  {
   "cell_type": "code",
   "execution_count": 4,
   "metadata": {},
   "outputs": [],
   "source": [
    "with open(filename) as file:\n",
    "    for line in file:\n",
    "        if 'Temperature after velocity_scaling_2' in line:\n",
    "            temperatures.append(line[line.index('DEBUG') :-2])"
   ]
  },
  {
   "cell_type": "code",
   "execution_count": 5,
   "metadata": {},
   "outputs": [],
   "source": [
    "for i, temperature in enumerate(temperatures):\n",
    "    temperatures[i] = float(temperature[temperature.index(':') + 2: ])\n",
    "\n",
    "temperatures = np.array(temperatures)"
   ]
  },
  {
   "cell_type": "code",
   "execution_count": 6,
   "metadata": {},
   "outputs": [
    {
     "data": {
      "image/png": "[encoded data removed]",
      "text/plain": [
       "<Figure size 576x396 with 1 Axes>"
      ]
     },
     "metadata": {},
     "output_type": "display_data"
    }
   ],
   "source": [
    "plt.scatter(\n",
    "    np.arange(temperatures.size) * 0.005 + 0.005,\n",
    "    temperatures,\n",
    "    s=5,\n",
    "    color='black'\n",
    ");\n",
    "plt.xlabel(r'Time, $\\tau$');\n",
    "plt.ylabel(r'Temperature, $\\epsilon / k_B $');\n",
    "# plt.ylim(bottom=0.3, top=3);"
   ]
  }
 ],
 "metadata": {
  "kernelspec": {
   "display_name": "Python 3",
   "language": "python",
   "name": "python3"
  },
  "language_info": {
   "codemirror_mode": {
    "name": "ipython",
    "version": 3
   },
   "file_extension": ".py",
   "mimetype": "text/x-python",
   "name": "python",
   "nbconvert_exporter": "python",
   "pygments_lexer": "ipython3",
   "version": "3.8.3"
  }
 },
 "nbformat": 4,
 "nbformat_minor": 4
}
